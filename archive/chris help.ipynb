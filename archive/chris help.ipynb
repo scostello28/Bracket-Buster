{
 "cells": [
  {
   "cell_type": "markdown",
   "metadata": {},
   "source": [
    "https://www.sports-reference.com/cbb/seasons/2017-advanced-school-stats.html#adv_school_stats::none"
   ]
  },
  {
   "cell_type": "code",
   "execution_count": 1,
   "metadata": {
    "collapsed": true
   },
   "outputs": [],
   "source": [
    "import pandas as pd"
   ]
  },
  {
   "cell_type": "code",
   "execution_count": 2,
   "metadata": {
    "collapsed": true
   },
   "outputs": [],
   "source": [
    "team_url = 'https://www.sports-reference.com/cbb/seasons/2018-advanced-school-stats.html#adv_school_stats::none'"
   ]
  },
  {
   "cell_type": "code",
   "execution_count": 3,
   "metadata": {
    "collapsed": true
   },
   "outputs": [],
   "source": [
    "opp_url = 'https://www.sports-reference.com/cbb/seasons/2018-advanced-opponent-stats.html#adv_opp_stats::none'"
   ]
  },
  {
   "cell_type": "code",
   "execution_count": 4,
   "metadata": {},
   "outputs": [],
   "source": [
    "team_df = pd.read_html(team_url)[0]\n",
    "opp_df = pd.read_html(opp_url)[0]"
   ]
  },
  {
   "cell_type": "code",
   "execution_count": 6,
   "metadata": {},
   "outputs": [
    {
     "data": {
      "text/html": [
       "<div>\n",
       "<style>\n",
       "    .dataframe thead tr:only-child th {\n",
       "        text-align: right;\n",
       "    }\n",
       "\n",
       "    .dataframe thead th {\n",
       "        text-align: left;\n",
       "    }\n",
       "\n",
       "    .dataframe tbody tr th {\n",
       "        vertical-align: top;\n",
       "    }\n",
       "</style>\n",
       "<table border=\"1\" class=\"dataframe\">\n",
       "  <thead>\n",
       "    <tr>\n",
       "      <th></th>\n",
       "      <th>Unnamed: 0_level_0</th>\n",
       "      <th>Overall</th>\n",
       "      <th>Conf.</th>\n",
       "      <th>Home</th>\n",
       "      <th>Away</th>\n",
       "      <th>Points</th>\n",
       "      <th>Unnamed: 6_level_0</th>\n",
       "      <th>School Advanced</th>\n",
       "      <th>Unnamed: 8_level_0</th>\n",
       "      <th>Unnamed: 9_level_0</th>\n",
       "      <th>...</th>\n",
       "      <th>Unnamed: 20_level_0</th>\n",
       "      <th>Unnamed: 21_level_0</th>\n",
       "      <th>Unnamed: 22_level_0</th>\n",
       "      <th>Unnamed: 23_level_0</th>\n",
       "      <th>Unnamed: 24_level_0</th>\n",
       "      <th>Unnamed: 25_level_0</th>\n",
       "      <th>Unnamed: 26_level_0</th>\n",
       "      <th>Unnamed: 27_level_0</th>\n",
       "      <th>Unnamed: 28_level_0</th>\n",
       "      <th>Unnamed: 29_level_0</th>\n",
       "    </tr>\n",
       "    <tr>\n",
       "      <th></th>\n",
       "      <th>Rk</th>\n",
       "      <th>School</th>\n",
       "      <th>G</th>\n",
       "      <th>W</th>\n",
       "      <th>L</th>\n",
       "      <th>W-L%</th>\n",
       "      <th>SRS</th>\n",
       "      <th>SOS</th>\n",
       "      <th>W</th>\n",
       "      <th>L</th>\n",
       "      <th>...</th>\n",
       "      <th>3PAr</th>\n",
       "      <th>TS%</th>\n",
       "      <th>TRB%</th>\n",
       "      <th>AST%</th>\n",
       "      <th>STL%</th>\n",
       "      <th>BLK%</th>\n",
       "      <th>eFG%</th>\n",
       "      <th>TOV%</th>\n",
       "      <th>ORB%</th>\n",
       "      <th>FT/FGA</th>\n",
       "    </tr>\n",
       "  </thead>\n",
       "  <tbody>\n",
       "    <tr>\n",
       "      <th>0</th>\n",
       "      <td>1</td>\n",
       "      <td>Abilene Christian</td>\n",
       "      <td>31</td>\n",
       "      <td>16</td>\n",
       "      <td>15</td>\n",
       "      <td>.516</td>\n",
       "      <td>-8.95</td>\n",
       "      <td>-6.80</td>\n",
       "      <td>8</td>\n",
       "      <td>10</td>\n",
       "      <td>...</td>\n",
       "      <td>.350</td>\n",
       "      <td>.555</td>\n",
       "      <td>49.3</td>\n",
       "      <td>55.7</td>\n",
       "      <td>11.2</td>\n",
       "      <td>11.3</td>\n",
       "      <td>.527</td>\n",
       "      <td>17.8</td>\n",
       "      <td>27.4</td>\n",
       "      <td>.226</td>\n",
       "    </tr>\n",
       "    <tr>\n",
       "      <th>1</th>\n",
       "      <td>2</td>\n",
       "      <td>Air Force</td>\n",
       "      <td>31</td>\n",
       "      <td>12</td>\n",
       "      <td>19</td>\n",
       "      <td>.387</td>\n",
       "      <td>-4.04</td>\n",
       "      <td>2.00</td>\n",
       "      <td>6</td>\n",
       "      <td>12</td>\n",
       "      <td>...</td>\n",
       "      <td>.431</td>\n",
       "      <td>.527</td>\n",
       "      <td>48.7</td>\n",
       "      <td>60.7</td>\n",
       "      <td>9.5</td>\n",
       "      <td>8.1</td>\n",
       "      <td>.490</td>\n",
       "      <td>16.3</td>\n",
       "      <td>27.5</td>\n",
       "      <td>.233</td>\n",
       "    </tr>\n",
       "    <tr>\n",
       "      <th>2</th>\n",
       "      <td>3</td>\n",
       "      <td>Akron</td>\n",
       "      <td>32</td>\n",
       "      <td>14</td>\n",
       "      <td>18</td>\n",
       "      <td>.438</td>\n",
       "      <td>-6.68</td>\n",
       "      <td>-1.78</td>\n",
       "      <td>6</td>\n",
       "      <td>12</td>\n",
       "      <td>...</td>\n",
       "      <td>.465</td>\n",
       "      <td>.547</td>\n",
       "      <td>49.1</td>\n",
       "      <td>52.6</td>\n",
       "      <td>8.4</td>\n",
       "      <td>7.5</td>\n",
       "      <td>.519</td>\n",
       "      <td>17.3</td>\n",
       "      <td>27.1</td>\n",
       "      <td>.222</td>\n",
       "    </tr>\n",
       "    <tr>\n",
       "      <th>3</th>\n",
       "      <td>4</td>\n",
       "      <td>Alabama A&amp;M</td>\n",
       "      <td>31</td>\n",
       "      <td>3</td>\n",
       "      <td>28</td>\n",
       "      <td>.097</td>\n",
       "      <td>-23.88</td>\n",
       "      <td>-7.94</td>\n",
       "      <td>3</td>\n",
       "      <td>15</td>\n",
       "      <td>...</td>\n",
       "      <td>.354</td>\n",
       "      <td>.480</td>\n",
       "      <td>48.2</td>\n",
       "      <td>50.5</td>\n",
       "      <td>5.8</td>\n",
       "      <td>3.9</td>\n",
       "      <td>.450</td>\n",
       "      <td>20.9</td>\n",
       "      <td>29.4</td>\n",
       "      <td>.203</td>\n",
       "    </tr>\n",
       "    <tr>\n",
       "      <th>4</th>\n",
       "      <td>5</td>\n",
       "      <td>Alabama-Birmingham</td>\n",
       "      <td>33</td>\n",
       "      <td>20</td>\n",
       "      <td>13</td>\n",
       "      <td>.606</td>\n",
       "      <td>4.61</td>\n",
       "      <td>-0.94</td>\n",
       "      <td>10</td>\n",
       "      <td>8</td>\n",
       "      <td>...</td>\n",
       "      <td>.334</td>\n",
       "      <td>.575</td>\n",
       "      <td>54.9</td>\n",
       "      <td>59.2</td>\n",
       "      <td>7.7</td>\n",
       "      <td>11.5</td>\n",
       "      <td>.545</td>\n",
       "      <td>16.5</td>\n",
       "      <td>31.3</td>\n",
       "      <td>.218</td>\n",
       "    </tr>\n",
       "  </tbody>\n",
       "</table>\n",
       "<p>5 rows × 30 columns</p>\n",
       "</div>"
      ],
      "text/plain": [
       "  Unnamed: 0_level_0             Overall Conf. Home Away Points  \\\n",
       "                  Rk              School     G    W    L   W-L%   \n",
       "0                  1   Abilene Christian    31   16   15   .516   \n",
       "1                  2           Air Force    31   12   19   .387   \n",
       "2                  3               Akron    32   14   18   .438   \n",
       "3                  4         Alabama A&M    31    3   28   .097   \n",
       "4                  5  Alabama-Birmingham    33   20   13   .606   \n",
       "\n",
       "  Unnamed: 6_level_0 School Advanced Unnamed: 8_level_0 Unnamed: 9_level_0  \\\n",
       "                 SRS             SOS                  W                  L   \n",
       "0              -8.95           -6.80                  8                 10   \n",
       "1              -4.04            2.00                  6                 12   \n",
       "2              -6.68           -1.78                  6                 12   \n",
       "3             -23.88           -7.94                  3                 15   \n",
       "4               4.61           -0.94                 10                  8   \n",
       "\n",
       "          ...         Unnamed: 20_level_0 Unnamed: 21_level_0  \\\n",
       "          ...                        3PAr                 TS%   \n",
       "0         ...                        .350                .555   \n",
       "1         ...                        .431                .527   \n",
       "2         ...                        .465                .547   \n",
       "3         ...                        .354                .480   \n",
       "4         ...                        .334                .575   \n",
       "\n",
       "  Unnamed: 22_level_0 Unnamed: 23_level_0 Unnamed: 24_level_0  \\\n",
       "                 TRB%                AST%                STL%   \n",
       "0                49.3                55.7                11.2   \n",
       "1                48.7                60.7                 9.5   \n",
       "2                49.1                52.6                 8.4   \n",
       "3                48.2                50.5                 5.8   \n",
       "4                54.9                59.2                 7.7   \n",
       "\n",
       "  Unnamed: 25_level_0 Unnamed: 26_level_0 Unnamed: 27_level_0  \\\n",
       "                 BLK%                eFG%                TOV%   \n",
       "0                11.3                .527                17.8   \n",
       "1                 8.1                .490                16.3   \n",
       "2                 7.5                .519                17.3   \n",
       "3                 3.9                .450                20.9   \n",
       "4                11.5                .545                16.5   \n",
       "\n",
       "  Unnamed: 28_level_0 Unnamed: 29_level_0  \n",
       "                 ORB%              FT/FGA  \n",
       "0                27.4                .226  \n",
       "1                27.5                .233  \n",
       "2                27.1                .222  \n",
       "3                29.4                .203  \n",
       "4                31.3                .218  \n",
       "\n",
       "[5 rows x 30 columns]"
      ]
     },
     "execution_count": 6,
     "metadata": {},
     "output_type": "execute_result"
    }
   ],
   "source": [
    "team_df.head()"
   ]
  },
  {
   "cell_type": "code",
   "execution_count": 7,
   "metadata": {
    "collapsed": true
   },
   "outputs": [],
   "source": [
    "teamcols = team_df.columns.tolist()"
   ]
  },
  {
   "cell_type": "code",
   "execution_count": 9,
   "metadata": {
    "collapsed": true
   },
   "outputs": [],
   "source": [
    "tmcols = ['Rk', 'School', 'G', 'W', 'L', 'W-L%', 'SRS', 'SOS', 'Conf-W', 'Conf-L', 'Home-W', 'Home-L', 'Away-W', 'Away-L', \n",
    " 'Points-for', 'Points-agnst', '\\xa0', 'Pace', 'Tm-ORtg', 'Tm-FTr', 'Tm-3PAr', 'Tm-TS%', 'Tm-TRB%', 'Tm-AST%', 'Tm-STL%', \n",
    "          'Tm-BLK%', 'Tm-eFG%', 'Tm-TOV%', 'Tm-ORB%', 'Tm-FT/FGA']\n",
    "\n",
    "opcols = ['Rk', 'School', 'G', 'W', 'L', 'W-L%', 'SRS', 'SOS', 'Conf-W', 'Conf-L', 'Home-W', 'Home-L', 'Away-W', 'Away-L', \n",
    " 'Points-for', 'Points-agnst', '\\xa0', 'Pace', 'Op-ORtg', 'Op-FTr', 'Op-3PAr', 'Op-TS%', 'Op-TRB%', 'Op-AST%', 'Op-STL%', \n",
    "          'Op-BLK%', 'Op-eFG%', 'Op-TOV%', 'Op-ORB%', 'Op-FT/FGA']"
   ]
  },
  {
   "cell_type": "code",
   "execution_count": 10,
   "metadata": {},
   "outputs": [],
   "source": [
    "team_df.columns = tmcols\n",
    "opp_df.columns = opcols"
   ]
  },
  {
   "cell_type": "code",
   "execution_count": 17,
   "metadata": {},
   "outputs": [],
   "source": [
    "team_df = team_df.drop(['\\xa0'], axis=1)\n",
    "opp_df = opp_df.drop(['\\xa0'], axis=1)\n",
    "team_df = team_df.drop(['Rk'], axis=1)\n",
    "opp_df = opp_df.drop(['Rk'], axis=1)"
   ]
  },
  {
   "cell_type": "code",
   "execution_count": 18,
   "metadata": {},
   "outputs": [
    {
     "data": {
      "text/plain": [
       "Index(['School', 'G', 'W', 'L', 'W-L%', 'SRS', 'SOS', 'Conf-W', 'Conf-L',\n",
       "       'Home-W', 'Home-L', 'Away-W', 'Away-L', 'Points-for', 'Points-agnst',\n",
       "       'Pace', 'Tm-ORtg', 'Tm-FTr', 'Tm-3PAr', 'Tm-TS%', 'Tm-TRB%', 'Tm-AST%',\n",
       "       'Tm-STL%', 'Tm-BLK%', 'Tm-eFG%', 'Tm-TOV%', 'Tm-ORB%', 'Tm-FT/FGA'],\n",
       "      dtype='object')"
      ]
     },
     "execution_count": 18,
     "metadata": {},
     "output_type": "execute_result"
    }
   ],
   "source": [
    "team_df.columns"
   ]
  },
  {
   "cell_type": "code",
   "execution_count": 20,
   "metadata": {},
   "outputs": [],
   "source": [
    "opp_df = opp_df[['Op-ORtg', 'Op-FTr', 'Op-3PAr', 'Op-TS%', 'Op-TRB%', 'Op-AST%', 'Op-STL%', \n",
    "          'Op-BLK%', 'Op-eFG%', 'Op-TOV%', 'Op-ORB%', 'Op-FT/FGA']]"
   ]
  },
  {
   "cell_type": "code",
   "execution_count": 22,
   "metadata": {},
   "outputs": [],
   "source": [
    "team_df = pd.concat([team_df, opp_df], axis=1)"
   ]
  },
  {
   "cell_type": "code",
   "execution_count": 24,
   "metadata": {},
   "outputs": [
    {
     "data": {
      "text/plain": [
       "Index(['School', 'G', 'W', 'L', 'W-L%', 'SRS', 'SOS', 'Conf-W', 'Conf-L',\n",
       "       'Home-W', 'Home-L', 'Away-W', 'Away-L', 'Points-for', 'Points-agnst',\n",
       "       'Pace', 'Tm-ORtg', 'Tm-FTr', 'Tm-3PAr', 'Tm-TS%', 'Tm-TRB%', 'Tm-AST%',\n",
       "       'Tm-STL%', 'Tm-BLK%', 'Tm-eFG%', 'Tm-TOV%', 'Tm-ORB%', 'Tm-FT/FGA',\n",
       "       'Op-ORtg', 'Op-FTr', 'Op-3PAr', 'Op-TS%', 'Op-TRB%', 'Op-AST%',\n",
       "       'Op-STL%', 'Op-BLK%', 'Op-eFG%', 'Op-TOV%', 'Op-ORB%', 'Op-FT/FGA'],\n",
       "      dtype='object')"
      ]
     },
     "execution_count": 24,
     "metadata": {},
     "output_type": "execute_result"
    }
   ],
   "source": [
    "team_df.columns"
   ]
  },
  {
   "cell_type": "code",
   "execution_count": null,
   "metadata": {
    "collapsed": true
   },
   "outputs": [],
   "source": []
  }
 ],
 "metadata": {
  "kernelspec": {
   "display_name": "Python 3",
   "language": "python",
   "name": "python3"
  },
  "language_info": {
   "codemirror_mode": {
    "name": "ipython",
    "version": 3
   },
   "file_extension": ".py",
   "mimetype": "text/x-python",
   "name": "python",
   "nbconvert_exporter": "python",
   "pygments_lexer": "ipython3",
   "version": "3.6.2"
  }
 },
 "nbformat": 4,
 "nbformat_minor": 2
}
