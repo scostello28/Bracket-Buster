{
 "cells": [
  {
   "cell_type": "code",
   "execution_count": 1,
   "metadata": {
    "collapsed": true
   },
   "outputs": [],
   "source": [
    "import pandas as pd\n",
    "import numpy as np"
   ]
  },
  {
   "cell_type": "code",
   "execution_count": 2,
   "metadata": {
    "collapsed": true
   },
   "outputs": [],
   "source": [
    "msuurl = 'https://www.sports-reference.com/cbb/schools/michigan-state/2017-gamelogs.html#sgl-basic::none'"
   ]
  },
  {
   "cell_type": "code",
   "execution_count": 3,
   "metadata": {
    "collapsed": true
   },
   "outputs": [],
   "source": [
    "'''Read team gamelog'''\n",
    "df = pd.read_html(msuurl)[0]"
   ]
  },
  {
   "cell_type": "code",
   "execution_count": 4,
   "metadata": {
    "collapsed": true,
    "scrolled": true
   },
   "outputs": [],
   "source": [
    "'''remove oppenent columns'''\n",
    "df = df.iloc[:, 0:23]\n",
    "\n",
    "'''Remove divider rows'''\n",
    "df = df.drop(df.index[[20,21]])"
   ]
  },
  {
   "cell_type": "code",
   "execution_count": 5,
   "metadata": {
    "collapsed": true
   },
   "outputs": [],
   "source": [
    "# df.columns"
   ]
  },
  {
   "cell_type": "code",
   "execution_count": 6,
   "metadata": {
    "collapsed": true
   },
   "outputs": [],
   "source": [
    "'''Remove Double column headers'''\n",
    "dubcols = df.columns.tolist()\n",
    "cols = [col[1] for col in dubcols]\n",
    "df.columns = cols"
   ]
  },
  {
   "cell_type": "code",
   "execution_count": 7,
   "metadata": {
    "scrolled": true
   },
   "outputs": [
    {
     "data": {
      "text/plain": [
       "Index(['G', 'Date', ' ', 'Opp', 'W/L', 'Tm', 'Opp', 'FG', 'FGA', 'FG%', '3P',\n",
       "       '3PA', '3P%', 'FT', 'FTA', 'FT%', 'ORB', 'TRB', 'AST', 'STL', 'BLK',\n",
       "       'TOV', 'PF'],\n",
       "      dtype='object')"
      ]
     },
     "execution_count": 7,
     "metadata": {},
     "output_type": "execute_result"
    }
   ],
   "source": [
    "df.columns"
   ]
  },
  {
   "cell_type": "code",
   "execution_count": 8,
   "metadata": {
    "collapsed": true
   },
   "outputs": [],
   "source": [
    "'''Rename Columns'''\n",
    "newcols = ['G', 'Date', 'Blank', 'Opp', 'W', 'Pts', 'PtsA', 'FG', 'FGA', \n",
    "           'FG%', '3P', '3PA', '3P%', 'FT', 'FTA', 'FT%', 'ORB', 'RB', \n",
    "           'AST', 'STL', 'BLK', 'TO', 'PF']\n",
    "df.columns = newcols"
   ]
  },
  {
   "cell_type": "code",
   "execution_count": 9,
   "metadata": {
    "collapsed": true
   },
   "outputs": [],
   "source": [
    "def teams_dict(filepath):\n",
    "    '''\n",
    "    Create dictionary of school names and formatted school names for mapping\n",
    "    '''\n",
    "    team_names = pd.read_csv(filepath)\n",
    "    team_names = team_names[['School', 'School_format']]\n",
    "    team_dict = {}\n",
    "    schools = team_names['School'].tolist()\n",
    "    schools_format = team_names['School_format'].tolist()\n",
    "    for school, schform in zip(schools, schools_format):\n",
    "        team_dict[school] = schform\n",
    "    return team_dict"
   ]
  },
  {
   "cell_type": "code",
   "execution_count": 10,
   "metadata": {},
   "outputs": [],
   "source": [
    "'''reformat Opponent team name column strings'''\n",
    "team_names_sos_filepath = '/Users/sec/galvanize/capstone1/team_list/sos_team_list_2018_final.csv'\n",
    "df['Opp'] = df['Opp'].map(teams_dict(team_names_sos_filepath))"
   ]
  },
  {
   "cell_type": "code",
   "execution_count": 11,
   "metadata": {
    "collapsed": true
   },
   "outputs": [],
   "source": [
    "'''Only take the first charcter in W field then map to 0's and 1's.\n",
    "        (Ties and overtime have excess characters)'''\n",
    "df['W'] = df['W'].astype(str).str[0]\n",
    "df['W'] = df['W'].map({'W': 1, 'L': 0})"
   ]
  },
  {
   "cell_type": "code",
   "execution_count": 12,
   "metadata": {
    "collapsed": true
   },
   "outputs": [],
   "source": [
    "'''Create win precentage and rolling average Features'''\n",
    "df['Ws'] = df['W'].cumsum(axis=0)\n",
    "df['Wp'] = df['Ws'].astype(int) / df['G'].astype(int)\n",
    "df['ppg'] = df['Pts'].rolling(window=5,center=False).mean()\n",
    "df['pApg'] = df['PtsA'].rolling(window=5,center=False).mean()\n",
    "df['FGp'] = df['FG%'].rolling(window=5,center=False).mean()\n",
    "df['3Pg'] = df['3P%'].rolling(window=5,center=False).mean()\n",
    "df['FTp'] = df['FT%'].rolling(window=5,center=False).mean()\n",
    "df['ORBpg'] = df['ORB'].rolling(window=5,center=False).mean()\n",
    "df['RBpg'] = df['RB'].rolling(window=5,center=False).mean()\n",
    "df['ASTpg'] = df['AST'].rolling(window=5,center=False).mean()\n",
    "df['STLpg'] = df['STL'].rolling(window=5,center=False).mean()\n",
    "df['BLKpg'] = df['BLK'].rolling(window=5,center=False).mean()\n",
    "df['TOpg'] = df['TO'].rolling(window=5,center=False).mean()\n",
    "df['PFpg'] = df['PF'].rolling(window=5,center=False).mean()"
   ]
  },
  {
   "cell_type": "code",
   "execution_count": 13,
   "metadata": {
    "collapsed": true
   },
   "outputs": [],
   "source": [
    "'''Remove columns after rolling ave calcs'''\n",
    "df = df.drop(['G', 'Blank', 'Pts', 'PtsA', 'FG', 'FGA', 'FG%',\n",
    "              '3P', '3PA', '3P%', 'FT', 'FTA', 'FT%', 'ORB', 'RB', \n",
    "              'AST', 'STL', 'BLK', 'TO', 'PF'], axis=1)"
   ]
  },
  {
   "cell_type": "code",
   "execution_count": 14,
   "metadata": {
    "collapsed": true
   },
   "outputs": [],
   "source": [
    "df = df.dropna()"
   ]
  },
  {
   "cell_type": "code",
   "execution_count": 15,
   "metadata": {},
   "outputs": [],
   "source": [
    "'''Add Team Column'''\n",
    "team = 'michigan-state'\n",
    "df['Tm'] = team"
   ]
  },
  {
   "cell_type": "code",
   "execution_count": 16,
   "metadata": {
    "collapsed": true
   },
   "outputs": [],
   "source": [
    "def sos_dict(filepath):\n",
    "    '''\n",
    "    Create dictionary of school names and strength of schedule for mapping\n",
    "    '''\n",
    "    team_sos = pd.read_csv(filepath)\n",
    "    team_sos = team_sos[['School_format', 'SOS']]\n",
    "    sos_dict = {}\n",
    "    schools = team_sos['School_format'].tolist()\n",
    "    sos = team_sos['SOS'].tolist()\n",
    "    for school, sos in zip(schools, sos):\n",
    "        sos_dict[school] = sos\n",
    "    return sos_dict"
   ]
  },
  {
   "cell_type": "code",
   "execution_count": 17,
   "metadata": {
    "collapsed": true
   },
   "outputs": [],
   "source": [
    "'''Add SOS columns'''\n",
    "df['sos'] = df['Tm'].map(sos_dict(team_names_sos_filepath))"
   ]
  },
  {
   "cell_type": "code",
   "execution_count": 18,
   "metadata": {},
   "outputs": [
    {
     "data": {
      "text/html": [
       "<div>\n",
       "<style>\n",
       "    .dataframe thead tr:only-child th {\n",
       "        text-align: right;\n",
       "    }\n",
       "\n",
       "    .dataframe thead th {\n",
       "        text-align: left;\n",
       "    }\n",
       "\n",
       "    .dataframe tbody tr th {\n",
       "        vertical-align: top;\n",
       "    }\n",
       "</style>\n",
       "<table border=\"1\" class=\"dataframe\">\n",
       "  <thead>\n",
       "    <tr style=\"text-align: right;\">\n",
       "      <th></th>\n",
       "      <th>Date</th>\n",
       "      <th>Opp</th>\n",
       "      <th>W</th>\n",
       "      <th>Ws</th>\n",
       "      <th>Wp</th>\n",
       "      <th>ppg</th>\n",
       "      <th>pApg</th>\n",
       "      <th>FGp</th>\n",
       "      <th>3Pg</th>\n",
       "      <th>FTp</th>\n",
       "      <th>ORBpg</th>\n",
       "      <th>RBpg</th>\n",
       "      <th>ASTpg</th>\n",
       "      <th>STLpg</th>\n",
       "      <th>BLKpg</th>\n",
       "      <th>TOpg</th>\n",
       "      <th>PFpg</th>\n",
       "      <th>Tm</th>\n",
       "      <th>sos</th>\n",
       "    </tr>\n",
       "  </thead>\n",
       "  <tbody>\n",
       "    <tr>\n",
       "      <th>5</th>\n",
       "      <td>2016-11-24</td>\n",
       "      <td>baylor</td>\n",
       "      <td>0</td>\n",
       "      <td>3</td>\n",
       "      <td>0.500000</td>\n",
       "      <td>71.4</td>\n",
       "      <td>66.8</td>\n",
       "      <td>0.4722</td>\n",
       "      <td>0.3942</td>\n",
       "      <td>0.5846</td>\n",
       "      <td>7.8</td>\n",
       "      <td>37.0</td>\n",
       "      <td>19.2</td>\n",
       "      <td>2.6</td>\n",
       "      <td>5.2</td>\n",
       "      <td>14.0</td>\n",
       "      <td>17.2</td>\n",
       "      <td>michigan-state</td>\n",
       "      <td>7.58</td>\n",
       "    </tr>\n",
       "    <tr>\n",
       "      <th>7</th>\n",
       "      <td>2016-11-29</td>\n",
       "      <td>duke</td>\n",
       "      <td>0</td>\n",
       "      <td>4</td>\n",
       "      <td>0.500000</td>\n",
       "      <td>71.0</td>\n",
       "      <td>72.4</td>\n",
       "      <td>0.4726</td>\n",
       "      <td>0.3922</td>\n",
       "      <td>0.6742</td>\n",
       "      <td>6.0</td>\n",
       "      <td>34.8</td>\n",
       "      <td>18.0</td>\n",
       "      <td>2.4</td>\n",
       "      <td>5.0</td>\n",
       "      <td>13.6</td>\n",
       "      <td>19.2</td>\n",
       "      <td>michigan-state</td>\n",
       "      <td>7.58</td>\n",
       "    </tr>\n",
       "    <tr>\n",
       "      <th>11</th>\n",
       "      <td>2016-12-18</td>\n",
       "      <td>northeastern</td>\n",
       "      <td>0</td>\n",
       "      <td>7</td>\n",
       "      <td>0.583333</td>\n",
       "      <td>74.0</td>\n",
       "      <td>71.0</td>\n",
       "      <td>0.4782</td>\n",
       "      <td>0.3392</td>\n",
       "      <td>0.5596</td>\n",
       "      <td>9.8</td>\n",
       "      <td>36.8</td>\n",
       "      <td>19.8</td>\n",
       "      <td>4.8</td>\n",
       "      <td>6.0</td>\n",
       "      <td>13.0</td>\n",
       "      <td>19.4</td>\n",
       "      <td>michigan-state</td>\n",
       "      <td>7.58</td>\n",
       "    </tr>\n",
       "    <tr>\n",
       "      <th>12</th>\n",
       "      <td>2016-12-21</td>\n",
       "      <td>oakland</td>\n",
       "      <td>1</td>\n",
       "      <td>8</td>\n",
       "      <td>0.615385</td>\n",
       "      <td>75.6</td>\n",
       "      <td>68.4</td>\n",
       "      <td>0.4758</td>\n",
       "      <td>0.3642</td>\n",
       "      <td>0.5466</td>\n",
       "      <td>10.6</td>\n",
       "      <td>36.4</td>\n",
       "      <td>19.6</td>\n",
       "      <td>6.4</td>\n",
       "      <td>7.2</td>\n",
       "      <td>13.0</td>\n",
       "      <td>20.4</td>\n",
       "      <td>michigan-state</td>\n",
       "      <td>7.58</td>\n",
       "    </tr>\n",
       "    <tr>\n",
       "      <th>13</th>\n",
       "      <td>2016-12-27</td>\n",
       "      <td>minnesota</td>\n",
       "      <td>1</td>\n",
       "      <td>9</td>\n",
       "      <td>0.642857</td>\n",
       "      <td>74.6</td>\n",
       "      <td>68.0</td>\n",
       "      <td>0.4780</td>\n",
       "      <td>0.3498</td>\n",
       "      <td>0.4906</td>\n",
       "      <td>9.8</td>\n",
       "      <td>36.2</td>\n",
       "      <td>19.2</td>\n",
       "      <td>7.4</td>\n",
       "      <td>7.0</td>\n",
       "      <td>13.2</td>\n",
       "      <td>22.8</td>\n",
       "      <td>michigan-state</td>\n",
       "      <td>7.58</td>\n",
       "    </tr>\n",
       "  </tbody>\n",
       "</table>\n",
       "</div>"
      ],
      "text/plain": [
       "          Date           Opp  W  Ws        Wp   ppg  pApg     FGp     3Pg  \\\n",
       "5   2016-11-24        baylor  0   3  0.500000  71.4  66.8  0.4722  0.3942   \n",
       "7   2016-11-29          duke  0   4  0.500000  71.0  72.4  0.4726  0.3922   \n",
       "11  2016-12-18  northeastern  0   7  0.583333  74.0  71.0  0.4782  0.3392   \n",
       "12  2016-12-21       oakland  1   8  0.615385  75.6  68.4  0.4758  0.3642   \n",
       "13  2016-12-27     minnesota  1   9  0.642857  74.6  68.0  0.4780  0.3498   \n",
       "\n",
       "       FTp  ORBpg  RBpg  ASTpg  STLpg  BLKpg  TOpg  PFpg              Tm   sos  \n",
       "5   0.5846    7.8  37.0   19.2    2.6    5.2  14.0  17.2  michigan-state  7.58  \n",
       "7   0.6742    6.0  34.8   18.0    2.4    5.0  13.6  19.2  michigan-state  7.58  \n",
       "11  0.5596    9.8  36.8   19.8    4.8    6.0  13.0  19.4  michigan-state  7.58  \n",
       "12  0.5466   10.6  36.4   19.6    6.4    7.2  13.0  20.4  michigan-state  7.58  \n",
       "13  0.4906    9.8  36.2   19.2    7.4    7.0  13.2  22.8  michigan-state  7.58  "
      ]
     },
     "execution_count": 18,
     "metadata": {},
     "output_type": "execute_result"
    }
   ],
   "source": [
    "df.head()"
   ]
  },
  {
   "cell_type": "markdown",
   "metadata": {},
   "source": [
    "Datetime work for tourney v season game labels"
   ]
  },
  {
   "cell_type": "code",
   "execution_count": 19,
   "metadata": {},
   "outputs": [],
   "source": [
    "from datetime import date\n",
    "tourney2017start = date(2017,3,14)\n",
    "tourney2017end = date(2017,4,3)"
   ]
  },
  {
   "cell_type": "code",
   "execution_count": 20,
   "metadata": {},
   "outputs": [],
   "source": [
    "'''datetime to date'''\n",
    "df['just_date'] = pd.to_datetime(df['Date']).dt.date"
   ]
  },
  {
   "cell_type": "code",
   "execution_count": 21,
   "metadata": {},
   "outputs": [],
   "source": [
    "def tourney_game_label(row):\n",
    "    '''\n",
    "    Create Column for tourney games\n",
    "    '''\n",
    "    \n",
    "    if row['just_date'] >= tourney2017start and row['just_date'] <= tourney2017end:\n",
    "\n",
    "        row['game_type'] = 'tourney2017'\n",
    "\n",
    "    else:\n",
    "        \n",
    "        row['game_type'] = 'season'\n",
    "\n",
    "    return row"
   ]
  },
  {
   "cell_type": "code",
   "execution_count": 22,
   "metadata": {},
   "outputs": [],
   "source": [
    "df = df.apply(tourney_game_label, axis=1)"
   ]
  },
  {
   "cell_type": "code",
   "execution_count": 23,
   "metadata": {},
   "outputs": [
    {
     "data": {
      "text/html": [
       "<div>\n",
       "<style>\n",
       "    .dataframe thead tr:only-child th {\n",
       "        text-align: right;\n",
       "    }\n",
       "\n",
       "    .dataframe thead th {\n",
       "        text-align: left;\n",
       "    }\n",
       "\n",
       "    .dataframe tbody tr th {\n",
       "        vertical-align: top;\n",
       "    }\n",
       "</style>\n",
       "<table border=\"1\" class=\"dataframe\">\n",
       "  <thead>\n",
       "    <tr style=\"text-align: right;\">\n",
       "      <th></th>\n",
       "      <th>Date</th>\n",
       "      <th>Opp</th>\n",
       "      <th>W</th>\n",
       "      <th>Ws</th>\n",
       "      <th>Wp</th>\n",
       "      <th>ppg</th>\n",
       "      <th>pApg</th>\n",
       "      <th>FGp</th>\n",
       "      <th>3Pg</th>\n",
       "      <th>FTp</th>\n",
       "      <th>...</th>\n",
       "      <th>RBpg</th>\n",
       "      <th>ASTpg</th>\n",
       "      <th>STLpg</th>\n",
       "      <th>BLKpg</th>\n",
       "      <th>TOpg</th>\n",
       "      <th>PFpg</th>\n",
       "      <th>Tm</th>\n",
       "      <th>sos</th>\n",
       "      <th>just_date</th>\n",
       "      <th>game_type</th>\n",
       "    </tr>\n",
       "  </thead>\n",
       "  <tbody>\n",
       "    <tr>\n",
       "      <th>5</th>\n",
       "      <td>2016-11-24</td>\n",
       "      <td>baylor</td>\n",
       "      <td>0</td>\n",
       "      <td>3</td>\n",
       "      <td>0.500000</td>\n",
       "      <td>71.4</td>\n",
       "      <td>66.8</td>\n",
       "      <td>0.4722</td>\n",
       "      <td>0.3942</td>\n",
       "      <td>0.5846</td>\n",
       "      <td>...</td>\n",
       "      <td>37.0</td>\n",
       "      <td>19.2</td>\n",
       "      <td>2.6</td>\n",
       "      <td>5.2</td>\n",
       "      <td>14.0</td>\n",
       "      <td>17.2</td>\n",
       "      <td>michigan-state</td>\n",
       "      <td>7.58</td>\n",
       "      <td>2016-11-24</td>\n",
       "      <td>season</td>\n",
       "    </tr>\n",
       "    <tr>\n",
       "      <th>7</th>\n",
       "      <td>2016-11-29</td>\n",
       "      <td>duke</td>\n",
       "      <td>0</td>\n",
       "      <td>4</td>\n",
       "      <td>0.500000</td>\n",
       "      <td>71.0</td>\n",
       "      <td>72.4</td>\n",
       "      <td>0.4726</td>\n",
       "      <td>0.3922</td>\n",
       "      <td>0.6742</td>\n",
       "      <td>...</td>\n",
       "      <td>34.8</td>\n",
       "      <td>18.0</td>\n",
       "      <td>2.4</td>\n",
       "      <td>5.0</td>\n",
       "      <td>13.6</td>\n",
       "      <td>19.2</td>\n",
       "      <td>michigan-state</td>\n",
       "      <td>7.58</td>\n",
       "      <td>2016-11-29</td>\n",
       "      <td>season</td>\n",
       "    </tr>\n",
       "    <tr>\n",
       "      <th>11</th>\n",
       "      <td>2016-12-18</td>\n",
       "      <td>northeastern</td>\n",
       "      <td>0</td>\n",
       "      <td>7</td>\n",
       "      <td>0.583333</td>\n",
       "      <td>74.0</td>\n",
       "      <td>71.0</td>\n",
       "      <td>0.4782</td>\n",
       "      <td>0.3392</td>\n",
       "      <td>0.5596</td>\n",
       "      <td>...</td>\n",
       "      <td>36.8</td>\n",
       "      <td>19.8</td>\n",
       "      <td>4.8</td>\n",
       "      <td>6.0</td>\n",
       "      <td>13.0</td>\n",
       "      <td>19.4</td>\n",
       "      <td>michigan-state</td>\n",
       "      <td>7.58</td>\n",
       "      <td>2016-12-18</td>\n",
       "      <td>season</td>\n",
       "    </tr>\n",
       "    <tr>\n",
       "      <th>12</th>\n",
       "      <td>2016-12-21</td>\n",
       "      <td>oakland</td>\n",
       "      <td>1</td>\n",
       "      <td>8</td>\n",
       "      <td>0.615385</td>\n",
       "      <td>75.6</td>\n",
       "      <td>68.4</td>\n",
       "      <td>0.4758</td>\n",
       "      <td>0.3642</td>\n",
       "      <td>0.5466</td>\n",
       "      <td>...</td>\n",
       "      <td>36.4</td>\n",
       "      <td>19.6</td>\n",
       "      <td>6.4</td>\n",
       "      <td>7.2</td>\n",
       "      <td>13.0</td>\n",
       "      <td>20.4</td>\n",
       "      <td>michigan-state</td>\n",
       "      <td>7.58</td>\n",
       "      <td>2016-12-21</td>\n",
       "      <td>season</td>\n",
       "    </tr>\n",
       "    <tr>\n",
       "      <th>13</th>\n",
       "      <td>2016-12-27</td>\n",
       "      <td>minnesota</td>\n",
       "      <td>1</td>\n",
       "      <td>9</td>\n",
       "      <td>0.642857</td>\n",
       "      <td>74.6</td>\n",
       "      <td>68.0</td>\n",
       "      <td>0.4780</td>\n",
       "      <td>0.3498</td>\n",
       "      <td>0.4906</td>\n",
       "      <td>...</td>\n",
       "      <td>36.2</td>\n",
       "      <td>19.2</td>\n",
       "      <td>7.4</td>\n",
       "      <td>7.0</td>\n",
       "      <td>13.2</td>\n",
       "      <td>22.8</td>\n",
       "      <td>michigan-state</td>\n",
       "      <td>7.58</td>\n",
       "      <td>2016-12-27</td>\n",
       "      <td>season</td>\n",
       "    </tr>\n",
       "  </tbody>\n",
       "</table>\n",
       "<p>5 rows × 21 columns</p>\n",
       "</div>"
      ],
      "text/plain": [
       "          Date           Opp  W  Ws        Wp   ppg  pApg     FGp     3Pg  \\\n",
       "5   2016-11-24        baylor  0   3  0.500000  71.4  66.8  0.4722  0.3942   \n",
       "7   2016-11-29          duke  0   4  0.500000  71.0  72.4  0.4726  0.3922   \n",
       "11  2016-12-18  northeastern  0   7  0.583333  74.0  71.0  0.4782  0.3392   \n",
       "12  2016-12-21       oakland  1   8  0.615385  75.6  68.4  0.4758  0.3642   \n",
       "13  2016-12-27     minnesota  1   9  0.642857  74.6  68.0  0.4780  0.3498   \n",
       "\n",
       "       FTp    ...     RBpg  ASTpg  STLpg  BLKpg  TOpg  PFpg              Tm  \\\n",
       "5   0.5846    ...     37.0   19.2    2.6    5.2  14.0  17.2  michigan-state   \n",
       "7   0.6742    ...     34.8   18.0    2.4    5.0  13.6  19.2  michigan-state   \n",
       "11  0.5596    ...     36.8   19.8    4.8    6.0  13.0  19.4  michigan-state   \n",
       "12  0.5466    ...     36.4   19.6    6.4    7.2  13.0  20.4  michigan-state   \n",
       "13  0.4906    ...     36.2   19.2    7.4    7.0  13.2  22.8  michigan-state   \n",
       "\n",
       "     sos   just_date game_type  \n",
       "5   7.58  2016-11-24    season  \n",
       "7   7.58  2016-11-29    season  \n",
       "11  7.58  2016-12-18    season  \n",
       "12  7.58  2016-12-21    season  \n",
       "13  7.58  2016-12-27    season  \n",
       "\n",
       "[5 rows x 21 columns]"
      ]
     },
     "execution_count": 23,
     "metadata": {},
     "output_type": "execute_result"
    }
   ],
   "source": [
    "df.head()"
   ]
  },
  {
   "cell_type": "code",
   "execution_count": null,
   "metadata": {
    "collapsed": true
   },
   "outputs": [],
   "source": []
  }
 ],
 "metadata": {
  "kernelspec": {
   "display_name": "Python 3",
   "language": "python",
   "name": "python3"
  },
  "language_info": {
   "codemirror_mode": {
    "name": "ipython",
    "version": 3
   },
   "file_extension": ".py",
   "mimetype": "text/x-python",
   "name": "python",
   "nbconvert_exporter": "python",
   "pygments_lexer": "ipython3",
   "version": "3.6.2"
  }
 },
 "nbformat": 4,
 "nbformat_minor": 2
}
