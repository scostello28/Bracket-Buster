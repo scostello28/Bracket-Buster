{
 "cells": [
  {
   "cell_type": "code",
   "execution_count": 2,
   "metadata": {},
   "outputs": [],
   "source": [
    "import numpy as np\n",
    "from sklearn.model_selection import GridSearchCV\n",
    "from keras.wrappers.scikit_learn import KerasClassifier\n",
    "from keras.datasets import mnist\n",
    "from keras.utils import np_utils\n",
    "from keras.models import Sequential\n",
    "from keras.layers.core import Dense\n",
    "from keras.optimizers import SGD\n",
    "import theano"
   ]
  },
  {
   "cell_type": "code",
   "execution_count": 3,
   "metadata": {},
   "outputs": [],
   "source": [
    "def define_nn_mlp_model(X_train, y_train_ohe, hl1_neurons, hl2_neurons, learning_rate, momentum):\n",
    "    ''' defines multi-layer-perceptron neural network '''\n",
    " \n",
    "    '''initialize model'''\n",
    "    model = Sequential() # sequence of layers\n",
    "\n",
    "    '''Network Layer Architecture'''\n",
    "    num_neurons_in_layer_1 = hl1_neurons # number of neurons in a layer (is it enough?)\n",
    "    num_neurons_in_layer_2 = hl2_neurons\n",
    "    num_inputs = X_train.shape[1] # number of features (784) (keep)\n",
    "    num_classes = y_train_ohe.shape[1]  # number of classes, 0-9 (keep)\n",
    "\n",
    "    '''Layers'''\n",
    "    model.add(Dense(units=num_neurons_in_layer_1,\n",
    "                    input_dim=num_inputs,\n",
    "                    kernel_initializer='uniform',\n",
    "                    activation='relu')) # is tanh the best activation to use here?\n",
    "\n",
    "    #  maybe add another dense layer here?  How about some deep learning?!?\n",
    "    model.add(Dense(units=num_neurons_in_layer_2,\n",
    "                    input_dim=num_neurons_in_layer_1,\n",
    "                    kernel_initializer='uniform',\n",
    "                    activation='relu')) # is tanh the best activation to use here?\n",
    "\n",
    "    model.add(Dense(units=num_classes,\n",
    "                    input_dim=num_neurons_in_layer_2,\n",
    "                    kernel_initializer='uniform',\n",
    "                    activation='softmax')) # keep softmax as last layer\n",
    "\n",
    "    '''Set optimizer as stachastic gradient descent'''\n",
    "    sgd = SGD(lr=learning_rate, decay=1e-7, momentum=momentum) # using stochastic gradient descent (keep)\n",
    "\n",
    "    '''Set up backprop/train settings'''\n",
    "    model.compile(loss='categorical_crossentropy', optimizer=sgd, metrics=[\"accuracy\"] ) # (keep)\n",
    "    return model"
   ]
  },
  {
   "cell_type": "code",
   "execution_count": null,
   "metadata": {},
   "outputs": [],
   "source": []
  }
 ],
 "metadata": {
  "kernelspec": {
   "display_name": "Python 3",
   "language": "python",
   "name": "python3"
  },
  "language_info": {
   "codemirror_mode": {
    "name": "ipython",
    "version": 3
   },
   "file_extension": ".py",
   "mimetype": "text/x-python",
   "name": "python",
   "nbconvert_exporter": "python",
   "pygments_lexer": "ipython3",
   "version": "3.6.5"
  }
 },
 "nbformat": 4,
 "nbformat_minor": 2
}
