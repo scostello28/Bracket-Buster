{
 "cells": [
  {
   "cell_type": "code",
   "execution_count": 8,
   "metadata": {},
   "outputs": [],
   "source": [
    "import pandas as pd\n",
    "import numpy as np\n",
    "import pickle"
   ]
  },
  {
   "cell_type": "code",
   "execution_count": 9,
   "metadata": {},
   "outputs": [],
   "source": [
    "df = pd.read_pickle('../model_data/gamelog_5_exp_clust.pkl')"
   ]
  },
  {
   "cell_type": "code",
   "execution_count": 31,
   "metadata": {},
   "outputs": [],
   "source": [
    "odds = pd.read_pickle('../data/odds_data.pkl')"
   ]
  },
  {
   "cell_type": "code",
   "execution_count": 32,
   "metadata": {},
   "outputs": [
    {
     "data": {
      "text/html": [
       "<div>\n",
       "<style scoped>\n",
       "    .dataframe tbody tr th:only-of-type {\n",
       "        vertical-align: middle;\n",
       "    }\n",
       "\n",
       "    .dataframe tbody tr th {\n",
       "        vertical-align: top;\n",
       "    }\n",
       "\n",
       "    .dataframe thead th {\n",
       "        text-align: right;\n",
       "    }\n",
       "</style>\n",
       "<table border=\"1\" class=\"dataframe\">\n",
       "  <thead>\n",
       "    <tr style=\"text-align: right;\">\n",
       "      <th></th>\n",
       "      <th>W</th>\n",
       "      <th>sos</th>\n",
       "      <th>GameType</th>\n",
       "      <th>Wp</th>\n",
       "      <th>ppg</th>\n",
       "      <th>pApg</th>\n",
       "      <th>FGp</th>\n",
       "      <th>3Pp</th>\n",
       "      <th>FTp</th>\n",
       "      <th>ORBpg</th>\n",
       "      <th>...</th>\n",
       "      <th>OPC0</th>\n",
       "      <th>OPC1</th>\n",
       "      <th>OPC2</th>\n",
       "      <th>OPF0</th>\n",
       "      <th>OPF1</th>\n",
       "      <th>OPF2</th>\n",
       "      <th>OPG0</th>\n",
       "      <th>OPG1</th>\n",
       "      <th>OPG2</th>\n",
       "      <th>OPG3</th>\n",
       "    </tr>\n",
       "  </thead>\n",
       "  <tbody>\n",
       "    <tr>\n",
       "      <th>0</th>\n",
       "      <td>0</td>\n",
       "      <td>-4.12</td>\n",
       "      <td>season2014</td>\n",
       "      <td>0.200000</td>\n",
       "      <td>63.8</td>\n",
       "      <td>68.8</td>\n",
       "      <td>0.3938</td>\n",
       "      <td>0.3270</td>\n",
       "      <td>0.7078</td>\n",
       "      <td>7.8</td>\n",
       "      <td>...</td>\n",
       "      <td>0.0</td>\n",
       "      <td>0.008269</td>\n",
       "      <td>0.000000</td>\n",
       "      <td>0.085385</td>\n",
       "      <td>0.000769</td>\n",
       "      <td>0.241731</td>\n",
       "      <td>0.201346</td>\n",
       "      <td>0.0</td>\n",
       "      <td>0.260385</td>\n",
       "      <td>0.202115</td>\n",
       "    </tr>\n",
       "    <tr>\n",
       "      <th>1</th>\n",
       "      <td>0</td>\n",
       "      <td>-4.12</td>\n",
       "      <td>season2014</td>\n",
       "      <td>0.400000</td>\n",
       "      <td>90.0</td>\n",
       "      <td>59.0</td>\n",
       "      <td>0.5052</td>\n",
       "      <td>0.3984</td>\n",
       "      <td>0.7640</td>\n",
       "      <td>11.6</td>\n",
       "      <td>...</td>\n",
       "      <td>0.0</td>\n",
       "      <td>0.000000</td>\n",
       "      <td>0.000000</td>\n",
       "      <td>0.008428</td>\n",
       "      <td>0.006115</td>\n",
       "      <td>0.368204</td>\n",
       "      <td>0.131218</td>\n",
       "      <td>0.0</td>\n",
       "      <td>0.108908</td>\n",
       "      <td>0.377128</td>\n",
       "    </tr>\n",
       "    <tr>\n",
       "      <th>2</th>\n",
       "      <td>0</td>\n",
       "      <td>-4.12</td>\n",
       "      <td>season2014</td>\n",
       "      <td>0.375000</td>\n",
       "      <td>86.8</td>\n",
       "      <td>65.4</td>\n",
       "      <td>0.4646</td>\n",
       "      <td>0.3942</td>\n",
       "      <td>0.8012</td>\n",
       "      <td>11.2</td>\n",
       "      <td>...</td>\n",
       "      <td>0.0</td>\n",
       "      <td>0.000000</td>\n",
       "      <td>0.051880</td>\n",
       "      <td>0.103008</td>\n",
       "      <td>0.049323</td>\n",
       "      <td>0.260150</td>\n",
       "      <td>0.245865</td>\n",
       "      <td>0.0</td>\n",
       "      <td>0.001203</td>\n",
       "      <td>0.288571</td>\n",
       "    </tr>\n",
       "    <tr>\n",
       "      <th>3</th>\n",
       "      <td>1</td>\n",
       "      <td>-4.12</td>\n",
       "      <td>season2014</td>\n",
       "      <td>0.352941</td>\n",
       "      <td>80.6</td>\n",
       "      <td>69.2</td>\n",
       "      <td>0.4454</td>\n",
       "      <td>0.4062</td>\n",
       "      <td>0.8170</td>\n",
       "      <td>10.8</td>\n",
       "      <td>...</td>\n",
       "      <td>0.0</td>\n",
       "      <td>0.011368</td>\n",
       "      <td>0.001305</td>\n",
       "      <td>0.219344</td>\n",
       "      <td>0.096906</td>\n",
       "      <td>0.065785</td>\n",
       "      <td>0.000000</td>\n",
       "      <td>0.0</td>\n",
       "      <td>0.234998</td>\n",
       "      <td>0.370294</td>\n",
       "    </tr>\n",
       "    <tr>\n",
       "      <th>4</th>\n",
       "      <td>0</td>\n",
       "      <td>-4.12</td>\n",
       "      <td>season2014</td>\n",
       "      <td>0.388889</td>\n",
       "      <td>77.8</td>\n",
       "      <td>75.0</td>\n",
       "      <td>0.4444</td>\n",
       "      <td>0.4110</td>\n",
       "      <td>0.7930</td>\n",
       "      <td>8.8</td>\n",
       "      <td>...</td>\n",
       "      <td>0.0</td>\n",
       "      <td>0.000000</td>\n",
       "      <td>0.000000</td>\n",
       "      <td>0.039660</td>\n",
       "      <td>0.054158</td>\n",
       "      <td>0.416597</td>\n",
       "      <td>0.210132</td>\n",
       "      <td>0.0</td>\n",
       "      <td>0.279453</td>\n",
       "      <td>0.000000</td>\n",
       "    </tr>\n",
       "  </tbody>\n",
       "</table>\n",
       "<p>5 rows × 52 columns</p>\n",
       "</div>"
      ],
      "text/plain": [
       "   W   sos    GameType        Wp   ppg  pApg     FGp     3Pp     FTp  ORBpg  \\\n",
       "0  0 -4.12  season2014  0.200000  63.8  68.8  0.3938  0.3270  0.7078    7.8   \n",
       "1  0 -4.12  season2014  0.400000  90.0  59.0  0.5052  0.3984  0.7640   11.6   \n",
       "2  0 -4.12  season2014  0.375000  86.8  65.4  0.4646  0.3942  0.8012   11.2   \n",
       "3  1 -4.12  season2014  0.352941  80.6  69.2  0.4454  0.4062  0.8170   10.8   \n",
       "4  0 -4.12  season2014  0.388889  77.8  75.0  0.4444  0.4110  0.7930    8.8   \n",
       "\n",
       "     ...     OPC0      OPC1      OPC2      OPF0      OPF1      OPF2      OPG0  \\\n",
       "0    ...      0.0  0.008269  0.000000  0.085385  0.000769  0.241731  0.201346   \n",
       "1    ...      0.0  0.000000  0.000000  0.008428  0.006115  0.368204  0.131218   \n",
       "2    ...      0.0  0.000000  0.051880  0.103008  0.049323  0.260150  0.245865   \n",
       "3    ...      0.0  0.011368  0.001305  0.219344  0.096906  0.065785  0.000000   \n",
       "4    ...      0.0  0.000000  0.000000  0.039660  0.054158  0.416597  0.210132   \n",
       "\n",
       "   OPG1      OPG2      OPG3  \n",
       "0   0.0  0.260385  0.202115  \n",
       "1   0.0  0.108908  0.377128  \n",
       "2   0.0  0.001203  0.288571  \n",
       "3   0.0  0.234998  0.370294  \n",
       "4   0.0  0.279453  0.000000  \n",
       "\n",
       "[5 rows x 52 columns]"
      ]
     },
     "execution_count": 32,
     "metadata": {},
     "output_type": "execute_result"
    }
   ],
   "source": [
    "df.head()"
   ]
  },
  {
   "cell_type": "code",
   "execution_count": 33,
   "metadata": {},
   "outputs": [
    {
     "data": {
      "text/plain": [
       "Index(['W', 'sos', 'GameType', 'Wp', 'ppg', 'pApg', 'FGp', '3Pp', 'FTp',\n",
       "       'ORBpg', 'RBpg', 'ASTpg', 'STLpg', 'BLKpg', 'TOpg', 'PFpg',\n",
       "       'exp_factor', 'C0', 'C1', 'C2', 'F0', 'F1', 'F2', 'G0', 'G1', 'G2',\n",
       "       'G3', 'OPsos', 'OPWp', 'OPppg', 'OPpApg', 'OPFGp', 'OP3Pp', 'OPFTp',\n",
       "       'OPORBpg', 'OPRBpg', 'OPASTpg', 'OPSTLpg', 'OPBLKpg', 'OPTOpg',\n",
       "       'OPPFpg', 'OPexp_factor', 'OPC0', 'OPC1', 'OPC2', 'OPF0', 'OPF1',\n",
       "       'OPF2', 'OPG0', 'OPG1', 'OPG2', 'OPG3'],\n",
       "      dtype='object')"
      ]
     },
     "execution_count": 33,
     "metadata": {},
     "output_type": "execute_result"
    }
   ],
   "source": [
    "df.columns"
   ]
  },
  {
   "cell_type": "code",
   "execution_count": 34,
   "metadata": {},
   "outputs": [
    {
     "data": {
      "text/html": [
       "<div>\n",
       "<style scoped>\n",
       "    .dataframe tbody tr th:only-of-type {\n",
       "        vertical-align: middle;\n",
       "    }\n",
       "\n",
       "    .dataframe tbody tr th {\n",
       "        vertical-align: top;\n",
       "    }\n",
       "\n",
       "    .dataframe thead th {\n",
       "        text-align: right;\n",
       "    }\n",
       "</style>\n",
       "<table border=\"1\" class=\"dataframe\">\n",
       "  <thead>\n",
       "    <tr style=\"text-align: right;\">\n",
       "      <th></th>\n",
       "      <th>Date</th>\n",
       "      <th>Final</th>\n",
       "      <th>ML</th>\n",
       "      <th>Team</th>\n",
       "      <th>p</th>\n",
       "      <th>VHohe</th>\n",
       "      <th>Final_OP</th>\n",
       "      <th>ML_OP</th>\n",
       "      <th>Team_OP</th>\n",
       "      <th>p_OP</th>\n",
       "      <th>VHohe_OP</th>\n",
       "      <th>Season</th>\n",
       "      <th>vegas</th>\n",
       "      <th>actual_spread</th>\n",
       "      <th>W_odds</th>\n",
       "      <th>spread</th>\n",
       "    </tr>\n",
       "  </thead>\n",
       "  <tbody>\n",
       "    <tr>\n",
       "      <th>0</th>\n",
       "      <td>2018-10-11</td>\n",
       "      <td>65.0</td>\n",
       "      <td>-330.0</td>\n",
       "      <td>west-virginia</td>\n",
       "      <td>0.767442</td>\n",
       "      <td>0.0</td>\n",
       "      <td>88.0</td>\n",
       "      <td>260.0</td>\n",
       "      <td>texas-am</td>\n",
       "      <td>0.277778</td>\n",
       "      <td>1.0</td>\n",
       "      <td>2018</td>\n",
       "      <td>1</td>\n",
       "      <td>-23.0</td>\n",
       "      <td>0</td>\n",
       "      <td>-6</td>\n",
       "    </tr>\n",
       "    <tr>\n",
       "      <th>1</th>\n",
       "      <td>2018-10-11</td>\n",
       "      <td>97.0</td>\n",
       "      <td>-3750.0</td>\n",
       "      <td>duke</td>\n",
       "      <td>0.974026</td>\n",
       "      <td>0.0</td>\n",
       "      <td>68.0</td>\n",
       "      <td>1875.0</td>\n",
       "      <td>elon</td>\n",
       "      <td>0.050633</td>\n",
       "      <td>1.0</td>\n",
       "      <td>2018</td>\n",
       "      <td>1</td>\n",
       "      <td>29.0</td>\n",
       "      <td>1</td>\n",
       "      <td>-11</td>\n",
       "    </tr>\n",
       "    <tr>\n",
       "      <th>2</th>\n",
       "      <td>2018-10-11</td>\n",
       "      <td>63.0</td>\n",
       "      <td>-550.0</td>\n",
       "      <td>richmond</td>\n",
       "      <td>0.846154</td>\n",
       "      <td>0.0</td>\n",
       "      <td>76.0</td>\n",
       "      <td>400.0</td>\n",
       "      <td>delaware</td>\n",
       "      <td>0.200000</td>\n",
       "      <td>1.0</td>\n",
       "      <td>2018</td>\n",
       "      <td>1</td>\n",
       "      <td>-13.0</td>\n",
       "      <td>0</td>\n",
       "      <td>-8</td>\n",
       "    </tr>\n",
       "    <tr>\n",
       "      <th>3</th>\n",
       "      <td>2018-10-11</td>\n",
       "      <td>57.0</td>\n",
       "      <td>-250.0</td>\n",
       "      <td>old-dominion</td>\n",
       "      <td>0.714286</td>\n",
       "      <td>0.0</td>\n",
       "      <td>54.0</td>\n",
       "      <td>200.0</td>\n",
       "      <td>towson</td>\n",
       "      <td>0.333333</td>\n",
       "      <td>1.0</td>\n",
       "      <td>2018</td>\n",
       "      <td>1</td>\n",
       "      <td>3.0</td>\n",
       "      <td>1</td>\n",
       "      <td>-4</td>\n",
       "    </tr>\n",
       "    <tr>\n",
       "      <th>4</th>\n",
       "      <td>2018-10-11</td>\n",
       "      <td>84.0</td>\n",
       "      <td>-950.0</td>\n",
       "      <td>loyola-il</td>\n",
       "      <td>0.904762</td>\n",
       "      <td>0.0</td>\n",
       "      <td>80.0</td>\n",
       "      <td>625.0</td>\n",
       "      <td>wright-state</td>\n",
       "      <td>0.137931</td>\n",
       "      <td>1.0</td>\n",
       "      <td>2018</td>\n",
       "      <td>1</td>\n",
       "      <td>4.0</td>\n",
       "      <td>1</td>\n",
       "      <td>-9</td>\n",
       "    </tr>\n",
       "  </tbody>\n",
       "</table>\n",
       "</div>"
      ],
      "text/plain": [
       "         Date  Final      ML           Team         p  VHohe  Final_OP  \\\n",
       "0  2018-10-11   65.0  -330.0  west-virginia  0.767442    0.0      88.0   \n",
       "1  2018-10-11   97.0 -3750.0           duke  0.974026    0.0      68.0   \n",
       "2  2018-10-11   63.0  -550.0       richmond  0.846154    0.0      76.0   \n",
       "3  2018-10-11   57.0  -250.0   old-dominion  0.714286    0.0      54.0   \n",
       "4  2018-10-11   84.0  -950.0      loyola-il  0.904762    0.0      80.0   \n",
       "\n",
       "    ML_OP       Team_OP      p_OP  VHohe_OP  Season  vegas  actual_spread  \\\n",
       "0   260.0      texas-am  0.277778       1.0    2018      1          -23.0   \n",
       "1  1875.0          elon  0.050633       1.0    2018      1           29.0   \n",
       "2   400.0      delaware  0.200000       1.0    2018      1          -13.0   \n",
       "3   200.0        towson  0.333333       1.0    2018      1            3.0   \n",
       "4   625.0  wright-state  0.137931       1.0    2018      1            4.0   \n",
       "\n",
       "   W_odds  spread  \n",
       "0       0      -6  \n",
       "1       1     -11  \n",
       "2       0      -8  \n",
       "3       1      -4  \n",
       "4       1      -9  "
      ]
     },
     "execution_count": 34,
     "metadata": {},
     "output_type": "execute_result"
    }
   ],
   "source": [
    "odds.head()"
   ]
  },
  {
   "cell_type": "code",
   "execution_count": 39,
   "metadata": {},
   "outputs": [
    {
     "data": {
      "text/plain": [
       "Date             2018-17-11\n",
       "Final                    55\n",
       "ML                   -10000\n",
       "Team              milwaukee\n",
       "p                  0.990099\n",
       "VHohe                     0\n",
       "Final_OP                 69\n",
       "ML_OP                  4000\n",
       "Team_OP                 NaN\n",
       "p_OP              0.0243902\n",
       "VHohe_OP                  1\n",
       "Season                 2018\n",
       "vegas                     1\n",
       "actual_spread           -14\n",
       "W_odds                    0\n",
       "spread                  -11\n",
       "Name: 194, dtype: object"
      ]
     },
     "execution_count": 39,
     "metadata": {},
     "output_type": "execute_result"
    }
   ],
   "source": [
    "odds.iloc[194]"
   ]
  },
  {
   "cell_type": "code",
   "execution_count": 35,
   "metadata": {},
   "outputs": [
    {
     "data": {
      "text/plain": [
       "Index(['Date', 'Final', 'ML', 'Team', 'p', 'VHohe', 'Final_OP', 'ML_OP',\n",
       "       'Team_OP', 'p_OP', 'VHohe_OP', 'Season', 'vegas', 'actual_spread',\n",
       "       'W_odds', 'spread'],\n",
       "      dtype='object')"
      ]
     },
     "execution_count": 35,
     "metadata": {},
     "output_type": "execute_result"
    }
   ],
   "source": [
    "odds.columns"
   ]
  },
  {
   "cell_type": "code",
   "execution_count": 36,
   "metadata": {},
   "outputs": [
    {
     "data": {
      "text/plain": [
       "0    6375\n",
       "1    5595\n",
       "Name: W, dtype: int64"
      ]
     },
     "execution_count": 36,
     "metadata": {},
     "output_type": "execute_result"
    }
   ],
   "source": [
    "df.W.value_counts()"
   ]
  },
  {
   "cell_type": "code",
   "execution_count": 37,
   "metadata": {},
   "outputs": [
    {
     "data": {
      "text/plain": [
       "1    11208\n",
       "0     6054\n",
       "Name: W_odds, dtype: int64"
      ]
     },
     "execution_count": 37,
     "metadata": {},
     "output_type": "execute_result"
    }
   ],
   "source": [
    "odds.W_odds.value_counts()"
   ]
  },
  {
   "cell_type": "code",
   "execution_count": 40,
   "metadata": {},
   "outputs": [],
   "source": [
    "odds_merged = pd.read_pickle('../model_data/gamelog_5_exp_clust_odds.pkl')"
   ]
  },
  {
   "cell_type": "code",
   "execution_count": 41,
   "metadata": {},
   "outputs": [
    {
     "data": {
      "text/html": [
       "<div>\n",
       "<style scoped>\n",
       "    .dataframe tbody tr th:only-of-type {\n",
       "        vertical-align: middle;\n",
       "    }\n",
       "\n",
       "    .dataframe tbody tr th {\n",
       "        vertical-align: top;\n",
       "    }\n",
       "\n",
       "    .dataframe thead th {\n",
       "        text-align: right;\n",
       "    }\n",
       "</style>\n",
       "<table border=\"1\" class=\"dataframe\">\n",
       "  <thead>\n",
       "    <tr style=\"text-align: right;\">\n",
       "      <th></th>\n",
       "      <th>Date_x</th>\n",
       "      <th>W</th>\n",
       "      <th>sos</th>\n",
       "      <th>GameType</th>\n",
       "      <th>Wp</th>\n",
       "      <th>ppg</th>\n",
       "      <th>pApg</th>\n",
       "      <th>FGp</th>\n",
       "      <th>3Pp</th>\n",
       "      <th>FTp</th>\n",
       "      <th>...</th>\n",
       "      <th>VHohe</th>\n",
       "      <th>Final_OP</th>\n",
       "      <th>ML_OP</th>\n",
       "      <th>Team_OP</th>\n",
       "      <th>p_OP</th>\n",
       "      <th>VHohe_OP</th>\n",
       "      <th>vegas</th>\n",
       "      <th>actual_spread</th>\n",
       "      <th>W_odds</th>\n",
       "      <th>spread</th>\n",
       "    </tr>\n",
       "  </thead>\n",
       "  <tbody>\n",
       "  </tbody>\n",
       "</table>\n",
       "<p>0 rows × 68 columns</p>\n",
       "</div>"
      ],
      "text/plain": [
       "Empty DataFrame\n",
       "Columns: [Date_x, W, sos, GameType, Wp, ppg, pApg, FGp, 3Pp, FTp, ORBpg, RBpg, ASTpg, STLpg, BLKpg, TOpg, PFpg, exp_factor, C0, C1, C2, F0, F1, F2, G0, G1, G2, G3, OPsos, OPWp, OPppg, OPpApg, OPFGp, OP3Pp, OPFTp, OPORBpg, OPRBpg, OPASTpg, OPSTLpg, OPBLKpg, OPTOpg, OPPFpg, OPexp_factor, OPC0, OPC1, OPC2, OPF0, OPF1, OPF2, OPG0, OPG1, OPG2, OPG3, Date_y, Final, ML, Team, p, VHohe, Final_OP, ML_OP, Team_OP, p_OP, VHohe_OP, vegas, actual_spread, W_odds, spread]\n",
       "Index: []\n",
       "\n",
       "[0 rows x 68 columns]"
      ]
     },
     "execution_count": 41,
     "metadata": {},
     "output_type": "execute_result"
    }
   ],
   "source": [
    "odds_merged.head()"
   ]
  },
  {
   "cell_type": "code",
   "execution_count": null,
   "metadata": {},
   "outputs": [],
   "source": []
  },
  {
   "cell_type": "code",
   "execution_count": null,
   "metadata": {},
   "outputs": [],
   "source": [
    "\n"
   ]
  }
 ],
 "metadata": {
  "kernelspec": {
   "display_name": "Python 3",
   "language": "python",
   "name": "python3"
  },
  "language_info": {
   "codemirror_mode": {
    "name": "ipython",
    "version": 3
   },
   "file_extension": ".py",
   "mimetype": "text/x-python",
   "name": "python",
   "nbconvert_exporter": "python",
   "pygments_lexer": "ipython3",
   "version": "3.6.5"
  }
 },
 "nbformat": 4,
 "nbformat_minor": 2
}
