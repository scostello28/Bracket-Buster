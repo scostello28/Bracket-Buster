{
 "cells": [
  {
   "cell_type": "code",
   "execution_count": 1,
   "metadata": {},
   "outputs": [],
   "source": [
    "import pandas as pd\n",
    "import numpy as np\n",
    "from datetime import datetime\n",
    "from datetime import date\n",
    "import time\n",
    "import pickle"
   ]
  },
  {
   "cell_type": "code",
   "execution_count": 2,
   "metadata": {},
   "outputs": [],
   "source": [
    "def school_name_transform(school_name):\n",
    "    school_name = school_name.lower()\n",
    "    school_name = school_name.replace(\" & \", \" \")\n",
    "    school_name = school_name.replace(\"&\", \"\")\n",
    "    school_name = school_name.replace(\"ncaa\", \"\")\n",
    "    school_name = school_name.strip()\n",
    "    school_name = school_name.replace(\" \", \"-\")\n",
    "    school_name = school_name.replace(\"(\", \"\")\n",
    "    school_name = school_name.replace(\")\", \"\")\n",
    "    school_name = school_name.replace(\".\", \"\")\n",
    "    school_name = school_name.replace(\"'\", \"\")\n",
    "    \n",
    "    if school_name == 'siu-edwardsville':\n",
    "        school_name = 'southern-illinois-edwardsville'\n",
    "    elif school_name == 'vmi':\n",
    "        school_name = 'virginia-military-institute'\n",
    "    elif school_name == 'uc-davis':\n",
    "        school_name = 'california-davis'\n",
    "    elif school_name == 'uc-irvine':\n",
    "        school_name = 'california-irvine'\n",
    "    elif school_name == 'uc-riverside':\n",
    "        school_name = 'california-riverside'\n",
    "    elif school_name == 'uc-santa-barbara':\n",
    "        school_name = 'california-santa-barbara'\n",
    "    \n",
    "    return school_name"
   ]
  },
  {
   "cell_type": "code",
   "execution_count": 3,
   "metadata": {},
   "outputs": [],
   "source": [
    "def sos_csv_creator(seasons):\n",
    "    '''\n",
    "    Inputs:\n",
    "        team = team (formatted as in url)\n",
    "        season = season year\n",
    "\n",
    "    Output: DataFrame of all games\n",
    "    '''\n",
    "    sos_df = pd.DataFrame()\n",
    "\n",
    "    for season in seasons:\n",
    "\n",
    "        url = 'https://www.sports-reference.com/cbb/seasons/{}-school-stats.html#basic_school_stats::none'.format(season)\n",
    "\n",
    "        '''Read season school stats'''\n",
    "        df = pd.read_html(url)[0]\n",
    "\n",
    "        '''Transform'''\n",
    "\n",
    "        '''Remove double Headers'''\n",
    "        dub_header = df.columns.tolist()\n",
    "        cols = [col[1].lower() for col in dub_header]\n",
    "        df.columns = cols\n",
    "\n",
    "        '''Pick needed columns'''\n",
    "        df = df[['school', 'sos']]\n",
    "\n",
    "        '''Add school-format column'''\n",
    "        df['school-format'] = df['school']\n",
    "\n",
    "        '''Add season column'''\n",
    "        df['season'] = season\n",
    "\n",
    "        '''Update School Names'''\n",
    "        df['school-format'] = df['school-format'].apply(school_name_transform)\n",
    "\n",
    "        '''Remove divider rows'''\n",
    "        df = df[df['school'] != 'overall'] \n",
    "        df = df[df['school'] != 'school']\n",
    "        df.reset_index(inplace=True, level=None)\n",
    "        df = df.drop(['index'], axis=1)\n",
    "\n",
    "        '''Transform to dict'''\n",
    "        df.to_csv('../sos/sos_list{}.csv'.format(season))\n",
    "\n",
    "        time.sleep(15)"
   ]
  },
  {
   "cell_type": "code",
   "execution_count": 4,
   "metadata": {},
   "outputs": [],
   "source": [
    "df = sos_csv_creator([2018])"
   ]
  },
  {
   "cell_type": "code",
   "execution_count": 5,
   "metadata": {},
   "outputs": [],
   "source": [
    "df = pd.read_csv('../sos/sos_list2018.csv', index_col=0)"
   ]
  },
  {
   "cell_type": "code",
   "execution_count": 6,
   "metadata": {},
   "outputs": [
    {
     "data": {
      "text/html": [
       "<div>\n",
       "<style scoped>\n",
       "    .dataframe tbody tr th:only-of-type {\n",
       "        vertical-align: middle;\n",
       "    }\n",
       "\n",
       "    .dataframe tbody tr th {\n",
       "        vertical-align: top;\n",
       "    }\n",
       "\n",
       "    .dataframe thead th {\n",
       "        text-align: right;\n",
       "    }\n",
       "</style>\n",
       "<table border=\"1\" class=\"dataframe\">\n",
       "  <thead>\n",
       "    <tr style=\"text-align: right;\">\n",
       "      <th></th>\n",
       "      <th>school</th>\n",
       "      <th>sos</th>\n",
       "      <th>school-format</th>\n",
       "      <th>season</th>\n",
       "    </tr>\n",
       "  </thead>\n",
       "  <tbody>\n",
       "    <tr>\n",
       "      <th>0</th>\n",
       "      <td>Abilene Christian</td>\n",
       "      <td>-6.82</td>\n",
       "      <td>abilene-christian</td>\n",
       "      <td>2018</td>\n",
       "    </tr>\n",
       "    <tr>\n",
       "      <th>1</th>\n",
       "      <td>Air Force</td>\n",
       "      <td>1.72</td>\n",
       "      <td>air-force</td>\n",
       "      <td>2018</td>\n",
       "    </tr>\n",
       "    <tr>\n",
       "      <th>2</th>\n",
       "      <td>Akron</td>\n",
       "      <td>-1.92</td>\n",
       "      <td>akron</td>\n",
       "      <td>2018</td>\n",
       "    </tr>\n",
       "    <tr>\n",
       "      <th>3</th>\n",
       "      <td>Alabama A&amp;M</td>\n",
       "      <td>-8.04</td>\n",
       "      <td>alabama-am</td>\n",
       "      <td>2018</td>\n",
       "    </tr>\n",
       "    <tr>\n",
       "      <th>4</th>\n",
       "      <td>Alabama-Birmingham</td>\n",
       "      <td>-0.65</td>\n",
       "      <td>alabama-birmingham</td>\n",
       "      <td>2018</td>\n",
       "    </tr>\n",
       "  </tbody>\n",
       "</table>\n",
       "</div>"
      ],
      "text/plain": [
       "               school    sos       school-format  season\n",
       "0   Abilene Christian  -6.82   abilene-christian    2018\n",
       "1           Air Force   1.72           air-force    2018\n",
       "2               Akron  -1.92               akron    2018\n",
       "3         Alabama A&M  -8.04          alabama-am    2018\n",
       "4  Alabama-Birmingham  -0.65  alabama-birmingham    2018"
      ]
     },
     "execution_count": 6,
     "metadata": {},
     "output_type": "execute_result"
    }
   ],
   "source": [
    "df.head()"
   ]
  },
  {
   "cell_type": "code",
   "execution_count": null,
   "metadata": {},
   "outputs": [],
   "source": []
  }
 ],
 "metadata": {
  "kernelspec": {
   "display_name": "Python 3",
   "language": "python",
   "name": "python3"
  },
  "language_info": {
   "codemirror_mode": {
    "name": "ipython",
    "version": 3
   },
   "file_extension": ".py",
   "mimetype": "text/x-python",
   "name": "python",
   "nbconvert_exporter": "python",
   "pygments_lexer": "ipython3",
   "version": "3.6.5"
  }
 },
 "nbformat": 4,
 "nbformat_minor": 2
}
