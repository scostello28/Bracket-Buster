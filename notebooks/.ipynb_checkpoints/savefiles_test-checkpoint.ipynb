{
 "cells": [
  {
   "cell_type": "code",
   "execution_count": 1,
   "metadata": {
    "collapsed": true
   },
   "outputs": [],
   "source": [
    "import pandas as pd\n",
    "import numpy as np\n",
    "import pickle"
   ]
  },
  {
   "cell_type": "code",
   "execution_count": 2,
   "metadata": {},
   "outputs": [],
   "source": [
    "games = pd.read_pickle('/Users/sec/galvanize/capstone1/game_data/games_2017.pkl')"
   ]
  },
  {
   "cell_type": "code",
   "execution_count": 3,
   "metadata": {},
   "outputs": [
    {
     "data": {
      "text/html": [
       "<div>\n",
       "<style>\n",
       "    .dataframe thead tr:only-child th {\n",
       "        text-align: right;\n",
       "    }\n",
       "\n",
       "    .dataframe thead th {\n",
       "        text-align: left;\n",
       "    }\n",
       "\n",
       "    .dataframe tbody tr th {\n",
       "        vertical-align: top;\n",
       "    }\n",
       "</style>\n",
       "<table border=\"1\" class=\"dataframe\">\n",
       "  <thead>\n",
       "    <tr style=\"text-align: right;\">\n",
       "      <th></th>\n",
       "      <th>W</th>\n",
       "      <th>GameType</th>\n",
       "      <th>Wp</th>\n",
       "      <th>ppg</th>\n",
       "      <th>pApg</th>\n",
       "      <th>FGp</th>\n",
       "      <th>3Pp</th>\n",
       "      <th>FTp</th>\n",
       "      <th>ORBpg</th>\n",
       "      <th>RBpg</th>\n",
       "      <th>...</th>\n",
       "      <th>OP3Pp</th>\n",
       "      <th>OPFTp</th>\n",
       "      <th>OPORBpg</th>\n",
       "      <th>OPRBpg</th>\n",
       "      <th>OPASTpg</th>\n",
       "      <th>OPSTLpg</th>\n",
       "      <th>OPBLKpg</th>\n",
       "      <th>OPTOpg</th>\n",
       "      <th>OPPFpg</th>\n",
       "      <th>OPsos</th>\n",
       "    </tr>\n",
       "  </thead>\n",
       "  <tbody>\n",
       "    <tr>\n",
       "      <th>10</th>\n",
       "      <td>0</td>\n",
       "      <td>season2017</td>\n",
       "      <td>0.833333</td>\n",
       "      <td>76.8</td>\n",
       "      <td>61.6</td>\n",
       "      <td>0.4614</td>\n",
       "      <td>0.3736</td>\n",
       "      <td>0.7474</td>\n",
       "      <td>8.8</td>\n",
       "      <td>32.6</td>\n",
       "      <td>...</td>\n",
       "      <td>0.4560</td>\n",
       "      <td>0.6872</td>\n",
       "      <td>8.0</td>\n",
       "      <td>35.0</td>\n",
       "      <td>18.4</td>\n",
       "      <td>6.4</td>\n",
       "      <td>3.4</td>\n",
       "      <td>11.2</td>\n",
       "      <td>17.0</td>\n",
       "      <td>3.19</td>\n",
       "    </tr>\n",
       "    <tr>\n",
       "      <th>11</th>\n",
       "      <td>0</td>\n",
       "      <td>season2017</td>\n",
       "      <td>0.750000</td>\n",
       "      <td>77.8</td>\n",
       "      <td>65.6</td>\n",
       "      <td>0.4936</td>\n",
       "      <td>0.4072</td>\n",
       "      <td>0.7208</td>\n",
       "      <td>8.8</td>\n",
       "      <td>30.4</td>\n",
       "      <td>...</td>\n",
       "      <td>0.4332</td>\n",
       "      <td>0.6496</td>\n",
       "      <td>9.0</td>\n",
       "      <td>33.8</td>\n",
       "      <td>16.6</td>\n",
       "      <td>5.8</td>\n",
       "      <td>4.4</td>\n",
       "      <td>12.0</td>\n",
       "      <td>18.6</td>\n",
       "      <td>-0.41</td>\n",
       "    </tr>\n",
       "    <tr>\n",
       "      <th>12</th>\n",
       "      <td>1</td>\n",
       "      <td>season2017</td>\n",
       "      <td>0.700000</td>\n",
       "      <td>72.0</td>\n",
       "      <td>62.0</td>\n",
       "      <td>0.4784</td>\n",
       "      <td>0.4136</td>\n",
       "      <td>0.6546</td>\n",
       "      <td>9.8</td>\n",
       "      <td>31.6</td>\n",
       "      <td>...</td>\n",
       "      <td>0.3912</td>\n",
       "      <td>0.6958</td>\n",
       "      <td>8.2</td>\n",
       "      <td>29.6</td>\n",
       "      <td>17.6</td>\n",
       "      <td>6.2</td>\n",
       "      <td>3.4</td>\n",
       "      <td>14.0</td>\n",
       "      <td>22.6</td>\n",
       "      <td>-1.30</td>\n",
       "    </tr>\n",
       "    <tr>\n",
       "      <th>13</th>\n",
       "      <td>1</td>\n",
       "      <td>season2017</td>\n",
       "      <td>0.727273</td>\n",
       "      <td>78.8</td>\n",
       "      <td>67.0</td>\n",
       "      <td>0.5026</td>\n",
       "      <td>0.4208</td>\n",
       "      <td>0.6568</td>\n",
       "      <td>10.2</td>\n",
       "      <td>34.2</td>\n",
       "      <td>...</td>\n",
       "      <td>0.3498</td>\n",
       "      <td>0.5564</td>\n",
       "      <td>8.2</td>\n",
       "      <td>33.2</td>\n",
       "      <td>13.2</td>\n",
       "      <td>5.0</td>\n",
       "      <td>3.8</td>\n",
       "      <td>12.8</td>\n",
       "      <td>18.4</td>\n",
       "      <td>0.36</td>\n",
       "    </tr>\n",
       "    <tr>\n",
       "      <th>14</th>\n",
       "      <td>1</td>\n",
       "      <td>season2017</td>\n",
       "      <td>0.750000</td>\n",
       "      <td>77.4</td>\n",
       "      <td>74.8</td>\n",
       "      <td>0.4792</td>\n",
       "      <td>0.4138</td>\n",
       "      <td>0.6280</td>\n",
       "      <td>9.0</td>\n",
       "      <td>32.0</td>\n",
       "      <td>...</td>\n",
       "      <td>0.3438</td>\n",
       "      <td>0.6548</td>\n",
       "      <td>6.6</td>\n",
       "      <td>34.0</td>\n",
       "      <td>16.6</td>\n",
       "      <td>8.6</td>\n",
       "      <td>3.8</td>\n",
       "      <td>13.0</td>\n",
       "      <td>17.4</td>\n",
       "      <td>-0.22</td>\n",
       "    </tr>\n",
       "  </tbody>\n",
       "</table>\n",
       "<p>5 rows × 30 columns</p>\n",
       "</div>"
      ],
      "text/plain": [
       "    W    GameType        Wp   ppg  pApg     FGp     3Pp     FTp  ORBpg  RBpg  \\\n",
       "10  0  season2017  0.833333  76.8  61.6  0.4614  0.3736  0.7474    8.8  32.6   \n",
       "11  0  season2017  0.750000  77.8  65.6  0.4936  0.4072  0.7208    8.8  30.4   \n",
       "12  1  season2017  0.700000  72.0  62.0  0.4784  0.4136  0.6546    9.8  31.6   \n",
       "13  1  season2017  0.727273  78.8  67.0  0.5026  0.4208  0.6568   10.2  34.2   \n",
       "14  1  season2017  0.750000  77.4  74.8  0.4792  0.4138  0.6280    9.0  32.0   \n",
       "\n",
       "    ...     OP3Pp   OPFTp  OPORBpg  OPRBpg  OPASTpg  OPSTLpg  OPBLKpg  OPTOpg  \\\n",
       "10  ...    0.4560  0.6872      8.0    35.0     18.4      6.4      3.4    11.2   \n",
       "11  ...    0.4332  0.6496      9.0    33.8     16.6      5.8      4.4    12.0   \n",
       "12  ...    0.3912  0.6958      8.2    29.6     17.6      6.2      3.4    14.0   \n",
       "13  ...    0.3498  0.5564      8.2    33.2     13.2      5.0      3.8    12.8   \n",
       "14  ...    0.3438  0.6548      6.6    34.0     16.6      8.6      3.8    13.0   \n",
       "\n",
       "    OPPFpg  OPsos  \n",
       "10    17.0   3.19  \n",
       "11    18.6  -0.41  \n",
       "12    22.6  -1.30  \n",
       "13    18.4   0.36  \n",
       "14    17.4  -0.22  \n",
       "\n",
       "[5 rows x 30 columns]"
      ]
     },
     "execution_count": 3,
     "metadata": {},
     "output_type": "execute_result"
    }
   ],
   "source": [
    "games.head()"
   ]
  },
  {
   "cell_type": "code",
   "execution_count": 4,
   "metadata": {},
   "outputs": [
    {
     "data": {
      "text/plain": [
       "Index(['W', 'GameType', 'Wp', 'ppg', 'pApg', 'FGp', '3Pp', 'FTp', 'ORBpg',\n",
       "       'RBpg', 'ASTpg', 'STLpg', 'BLKpg', 'TOpg', 'PFpg', 'sos', 'OPWp',\n",
       "       'OPppg', 'OPpApg', 'OPFGp', 'OP3Pp', 'OPFTp', 'OPORBpg', 'OPRBpg',\n",
       "       'OPASTpg', 'OPSTLpg', 'OPBLKpg', 'OPTOpg', 'OPPFpg', 'OPsos'],\n",
       "      dtype='object')"
      ]
     },
     "execution_count": 4,
     "metadata": {},
     "output_type": "execute_result"
    }
   ],
   "source": [
    "games.columns"
   ]
  },
  {
   "cell_type": "code",
   "execution_count": 8,
   "metadata": {},
   "outputs": [
    {
     "data": {
      "text/plain": [
       "season2017     1082\n",
       "tourney2017      40\n",
       "Name: GameType, dtype: int64"
      ]
     },
     "execution_count": 8,
     "metadata": {},
     "output_type": "execute_result"
    }
   ],
   "source": [
    "games['GameType'].value_counts()"
   ]
  },
  {
   "cell_type": "code",
   "execution_count": null,
   "metadata": {},
   "outputs": [],
   "source": []
  },
  {
   "cell_type": "code",
   "execution_count": null,
   "metadata": {},
   "outputs": [],
   "source": []
  },
  {
   "cell_type": "code",
   "execution_count": null,
   "metadata": {},
   "outputs": [],
   "source": []
  },
  {
   "cell_type": "code",
   "execution_count": null,
   "metadata": {
    "collapsed": true
   },
   "outputs": [],
   "source": []
  }
 ],
 "metadata": {
  "kernelspec": {
   "display_name": "Python 3",
   "language": "python",
   "name": "python3"
  },
  "language_info": {
   "codemirror_mode": {
    "name": "ipython",
    "version": 3
   },
   "file_extension": ".py",
   "mimetype": "text/x-python",
   "name": "python",
   "nbconvert_exporter": "python",
   "pygments_lexer": "ipython3",
   "version": "3.6.2"
  }
 },
 "nbformat": 4,
 "nbformat_minor": 2
}
