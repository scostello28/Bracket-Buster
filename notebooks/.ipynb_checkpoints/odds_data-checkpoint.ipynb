{
 "cells": [
  {
   "cell_type": "code",
   "execution_count": 1,
   "metadata": {},
   "outputs": [
    {
     "name": "stderr",
     "output_type": "stream",
     "text": [
      "/Users/sec/anaconda3/lib/python3.6/site-packages/h5py/__init__.py:36: FutureWarning: Conversion of the second argument of issubdtype from `float` to `np.floating` is deprecated. In future, it will be treated as `np.float64 == np.dtype(float).type`.\n",
      "  from ._conv import register_converters as _register_converters\n",
      "Using TensorFlow backend.\n"
     ]
    }
   ],
   "source": [
    "import pandas as pd\n",
    "import numpy as np\n",
    "from sklearn.linear_model import LinearRegression\n",
    "from sklearn.preprocessing import StandardScaler\n",
    "from sklearn.pipeline import Pipeline\n",
    "from sklearn.model_selection import cross_val_score\n",
    "from fancyimpute import KNN\n",
    "from sklearn import metrics\n",
    "import re\n",
    "import csv"
   ]
  },
  {
   "cell_type": "code",
   "execution_count": 2,
   "metadata": {},
   "outputs": [],
   "source": [
    "odds2018 = '/Users/sec/galvanize/bracket_buster/odds_data/ncaa_basketball_2017-18.xlsx'\n",
    "odds2017 = '/Users/sec/galvanize/bracket_buster/odds_data/ncaa_basketball_2016-17.xlsx'\n",
    "odds2016 = '/Users/sec/galvanize/bracket_buster/odds_data/ncaa_basketball_2015-16.xlsx'\n",
    "odds2015 = '/Users/sec/galvanize/bracket_buster/odds_data/ncaa_basketball_2014-15.xlsx'\n",
    "odds2014 = '/Users/sec/galvanize/bracket_buster/odds_data/ncaa_basketball_2013-14.xlsx'\n",
    "odds2013 = '/Users/sec/galvanize/bracket_buster/odds_data/ncaa_basketball_2012-13.xlsx'"
   ]
  },
  {
   "cell_type": "code",
   "execution_count": 3,
   "metadata": {},
   "outputs": [],
   "source": [
    "odds2018_df = pd.read_excel(odds2018, header=0)\n",
    "odds2017_df = pd.read_excel(odds2017, header=0)\n",
    "odds2016_df = pd.read_excel(odds2016, header=0)\n",
    "odds2015_df = pd.read_excel(odds2015, header=0)\n",
    "odds2014_df = pd.read_excel(odds2014, header=0)\n",
    "odds2013_df = pd.read_excel(odds2013, header=0)"
   ]
  },
  {
   "cell_type": "code",
   "execution_count": 4,
   "metadata": {
    "scrolled": true
   },
   "outputs": [],
   "source": [
    "# odds2018_df[(odds2018_df.index == 5514) | (odds2018_df.index == 5515)]"
   ]
  },
  {
   "cell_type": "markdown",
   "metadata": {},
   "source": [
    "## Update Team Names"
   ]
  },
  {
   "cell_type": "code",
   "execution_count": 5,
   "metadata": {},
   "outputs": [],
   "source": [
    "teams_df = odds2018_df.Team.value_counts()\n",
    "teams_df = pd.DataFrame(teams_df)\n",
    "teams_df.to_csv('new_odds_teams.csv')"
   ]
  },
  {
   "cell_type": "markdown",
   "metadata": {},
   "source": [
    "### matched up names in csv"
   ]
  },
  {
   "cell_type": "code",
   "execution_count": 6,
   "metadata": {},
   "outputs": [],
   "source": [
    "odds_teams_lookup_filepath = '../odds_teams_lookup.csv'"
   ]
  },
  {
   "cell_type": "code",
   "execution_count": 7,
   "metadata": {},
   "outputs": [],
   "source": [
    "def odds_teams_dict(filepath):\n",
    "    '''\n",
    "    Create dictionary of school names and formatted school names for mapping\n",
    "    '''\n",
    "    team_names = pd.read_csv(filepath)\n",
    "    team_names = team_names[['Teams', 'school']]\n",
    "    team_dict = {}\n",
    "    schools = team_names['Teams'].tolist()\n",
    "    schools_format = team_names['school'].tolist()\n",
    "    for school, schform in zip(schools, schools_format):\n",
    "        team_dict[school] = schform\n",
    "    return team_dict"
   ]
  },
  {
   "cell_type": "code",
   "execution_count": 8,
   "metadata": {},
   "outputs": [],
   "source": [
    "def update_team_names(df):\n",
    "    df['Team'] = df['Team'].map(odds_teams_dict(odds_teams_lookup_filepath))\n",
    "    return df"
   ]
  },
  {
   "cell_type": "code",
   "execution_count": 9,
   "metadata": {},
   "outputs": [],
   "source": [
    "odds_dfs = [odds2018_df, odds2017_df, odds2016_df, odds2015_df, odds2014_df, odds2013_df]"
   ]
  },
  {
   "cell_type": "markdown",
   "metadata": {},
   "source": [
    "### Impute NaNs"
   ]
  },
  {
   "cell_type": "code",
   "execution_count": 10,
   "metadata": {},
   "outputs": [],
   "source": [
    "def string_split(df):\n",
    "    '''Used in impute data function to split string data into separate df'''\n",
    "    string_df = df[['VH', 'Team']]\n",
    "    df = df.drop(['VH', 'Team'], axis=1)\n",
    "    return string_df, df"
   ]
  },
  {
   "cell_type": "code",
   "execution_count": 11,
   "metadata": {},
   "outputs": [],
   "source": [
    "def string_to_nan(row):\n",
    "    '''Used in impute_data funciton to force strings in numeric df to NaNs'''\n",
    "    row = pd.to_numeric(row, errors='coerce')\n",
    "    return row"
   ]
  },
  {
   "cell_type": "code",
   "execution_count": 12,
   "metadata": {},
   "outputs": [],
   "source": [
    "def impute_data(df):\n",
    "    '''\n",
    "    Input: DataFrame\n",
    "    Output: DataFrame with imputted missing values\n",
    "    '''\n",
    "    \n",
    "    # Split out string columns into separate df\n",
    "    string_df, df = string_split(df)\n",
    "    \n",
    "    # save col names\n",
    "    string_df_cols = string_df.columns.tolist()\n",
    "    df_cols = df.columns.tolist()\n",
    "    \n",
    "    # Convert strings to NaNs\n",
    "    df = df.apply(string_to_nan, axis=1)\n",
    "    \n",
    "    #impute NaNs in df\n",
    "    X = df.as_matrix()\n",
    "    X_filled = KNN(k=3, verbose=False).complete(X)\n",
    "    df = pd.DataFrame(X_filled, columns=df_cols)\n",
    "    df = pd.merge(df, string_df, how='left', left_index=True, right_index=True)\n",
    "    return df"
   ]
  },
  {
   "cell_type": "code",
   "execution_count": 13,
   "metadata": {},
   "outputs": [],
   "source": [
    "# odds2018_df = impute_data(odds2018_df)"
   ]
  },
  {
   "cell_type": "code",
   "execution_count": 14,
   "metadata": {},
   "outputs": [],
   "source": [
    "# odds2018_df.iloc[5510: 5520]"
   ]
  },
  {
   "cell_type": "markdown",
   "metadata": {},
   "source": [
    "## Feature Engineer"
   ]
  },
  {
   "cell_type": "code",
   "execution_count": 15,
   "metadata": {},
   "outputs": [],
   "source": [
    "def prob(row):\n",
    "    '''calc probability from ML'''\n",
    "    if row['ML'] < 0:\n",
    "        row['p'] = int(row['ML']) / int((row['ML']) - 100)\n",
    "    elif row['ML'] > 0:\n",
    "        row['p'] = 100 / int((row['ML']) + 100)\n",
    "    return row"
   ]
  },
  {
   "cell_type": "code",
   "execution_count": 16,
   "metadata": {},
   "outputs": [],
   "source": [
    "def spread(row):\n",
    "    if row['p'] <= .5:\n",
    "        row['spread'] = 0.04 * row['p'] + 0.5\n",
    "    else:\n",
    "        row['spread'] = -0.04 * row['p'] + 0.5\n",
    "    return row"
   ]
  },
  {
   "cell_type": "code",
   "execution_count": 17,
   "metadata": {},
   "outputs": [],
   "source": [
    "def outcome(row):\n",
    "    '''Adds vegas prediction, actual spread and actual W features'''\n",
    "    if row['ML'] < 0:\n",
    "        row['vegas'] = 1\n",
    "    else:\n",
    "        row['vegas'] = 0\n",
    "    \n",
    "    row['actual_spread'] = row['Final'] - row['Final_v']\n",
    "    \n",
    "    if row['actual_spread'] > 0:\n",
    "        row['W'] = 1\n",
    "    else:\n",
    "        row['W'] = 0\n",
    "    \n",
    "    return row"
   ]
  },
  {
   "cell_type": "code",
   "execution_count": 18,
   "metadata": {},
   "outputs": [],
   "source": [
    "def date(row):\n",
    "    '''Updates date format to prepare for unique ID generation'''\n",
    "    row['Date'] = str(int(row['Date']))\n",
    "    row['month'] = int(row['Date'][:2])\n",
    "    row['day'] = int(row['Date'][-2:])\n",
    "    row['Date'] = '{}-{}-{}'.format(str(row['Season']), str(row['month']), str(row['day']))\n",
    "    return row"
   ]
  },
  {
   "cell_type": "code",
   "execution_count": 19,
   "metadata": {},
   "outputs": [],
   "source": [
    "def matchups(df, season):\n",
    "    \n",
    "    # Drop uneeded columns\n",
    "    df = df.drop(['1st', '2H', '2nd'], axis=1)\n",
    "    \n",
    "    # Add probability of winning column\n",
    "    df = df.apply(prob, axis=1)\n",
    "    \n",
    "    # One hot encode VH column for counting\n",
    "    df['VHohe'] = df['VH'].map({'V': 1, 'H': 0})\n",
    "    \n",
    "    # Create count column to use as merge ID\n",
    "    df['count'] = df.groupby('VHohe').cumcount() + 1\n",
    "    \n",
    "    # Split df in to visitor and home team dfs\n",
    "    df_v = df[df['VH'] == 'V']\n",
    "    df_h = df[df['VH'] == 'H']\n",
    "    \n",
    "    # update column names for visitors df\n",
    "    v_cols = df_v.columns.tolist()\n",
    "    v_cols = ['{}_v'.format(col) if col != 'count' else col for col in v_cols]\n",
    "    df_v.columns = v_cols\n",
    "    \n",
    "    # Merge on count\n",
    "    df = pd.merge(df_h, df_v, how='left', on='count')\n",
    "    \n",
    "    # Drop uneeded columns\n",
    "    df = df.drop(['Rot', 'VH', 'VH_v', 'Date_v', 'Rot_v', 'Open', 'Close', \n",
    "                  'Open_v', 'Close_v'], axis=1)\n",
    "    \n",
    "    # Add Season\n",
    "    df['Season'] = season\n",
    "    \n",
    "    # Add outcome\n",
    "    df = df.apply(outcome, axis=1)\n",
    "    \n",
    "    # spread\n",
    "    df = df.apply(spread, axis=1)\n",
    "    \n",
    "    # Update date format\n",
    "    df = df.apply(date, axis=1)\n",
    "    \n",
    "    return df"
   ]
  },
  {
   "cell_type": "code",
   "execution_count": 20,
   "metadata": {},
   "outputs": [],
   "source": [
    "odds2018_df = impute_data(odds2018_df)\n",
    "odds2018_df = matchups(odds2018_df, 2018)\n",
    "# odds2017_df = odds2017_df.apply(prob, axis=1)\n",
    "# odds2016_df = odds2016_df.apply(prob, axis=1)\n",
    "# odds2015_df = odds2015_df.apply(prob, axis=1)\n",
    "# odds2014_df = odds2014_df.apply(prob, axis=1)\n",
    "# odds2013_df = odds2013_df.apply(prob, axis=1)"
   ]
  },
  {
   "cell_type": "code",
   "execution_count": 21,
   "metadata": {},
   "outputs": [],
   "source": [
    "# odds2018_df.head()"
   ]
  },
  {
   "cell_type": "code",
   "execution_count": 22,
   "metadata": {},
   "outputs": [
    {
     "data": {
      "text/plain": [
       "Index(['Date', 'Final', 'ML', 'Team', 'p', 'VHohe', 'count', 'Final_v', 'ML_v',\n",
       "       'Team_v', 'p_v', 'VHohe_v', 'Season', 'vegas', 'actual_spread', 'W',\n",
       "       'spread', 'month', 'day'],\n",
       "      dtype='object')"
      ]
     },
     "execution_count": 22,
     "metadata": {},
     "output_type": "execute_result"
    }
   ],
   "source": [
    "odds2018_df.columns"
   ]
  },
  {
   "cell_type": "code",
   "execution_count": 23,
   "metadata": {},
   "outputs": [
    {
     "data": {
      "text/html": [
       "<div>\n",
       "<style scoped>\n",
       "    .dataframe tbody tr th:only-of-type {\n",
       "        vertical-align: middle;\n",
       "    }\n",
       "\n",
       "    .dataframe tbody tr th {\n",
       "        vertical-align: top;\n",
       "    }\n",
       "\n",
       "    .dataframe thead th {\n",
       "        text-align: right;\n",
       "    }\n",
       "</style>\n",
       "<table border=\"1\" class=\"dataframe\">\n",
       "  <thead>\n",
       "    <tr style=\"text-align: right;\">\n",
       "      <th></th>\n",
       "      <th>Date</th>\n",
       "      <th>Final</th>\n",
       "      <th>ML</th>\n",
       "      <th>Team</th>\n",
       "      <th>p</th>\n",
       "      <th>VHohe</th>\n",
       "      <th>count</th>\n",
       "      <th>Final_v</th>\n",
       "      <th>ML_v</th>\n",
       "      <th>Team_v</th>\n",
       "      <th>p_v</th>\n",
       "      <th>VHohe_v</th>\n",
       "      <th>Season</th>\n",
       "      <th>vegas</th>\n",
       "      <th>actual_spread</th>\n",
       "      <th>W</th>\n",
       "      <th>spread</th>\n",
       "      <th>month</th>\n",
       "      <th>day</th>\n",
       "    </tr>\n",
       "  </thead>\n",
       "  <tbody>\n",
       "    <tr>\n",
       "      <th>0</th>\n",
       "      <td>2018-11-10</td>\n",
       "      <td>65.0</td>\n",
       "      <td>-330.0</td>\n",
       "      <td>WestVirginia</td>\n",
       "      <td>0.767442</td>\n",
       "      <td>0.0</td>\n",
       "      <td>1</td>\n",
       "      <td>88.0</td>\n",
       "      <td>260.0</td>\n",
       "      <td>TexasA&amp;M</td>\n",
       "      <td>0.277778</td>\n",
       "      <td>1.0</td>\n",
       "      <td>2018</td>\n",
       "      <td>1</td>\n",
       "      <td>-23.0</td>\n",
       "      <td>0</td>\n",
       "      <td>0.469302</td>\n",
       "      <td>11</td>\n",
       "      <td>10</td>\n",
       "    </tr>\n",
       "    <tr>\n",
       "      <th>1</th>\n",
       "      <td>2018-11-10</td>\n",
       "      <td>97.0</td>\n",
       "      <td>-3750.0</td>\n",
       "      <td>Duke</td>\n",
       "      <td>0.974026</td>\n",
       "      <td>0.0</td>\n",
       "      <td>2</td>\n",
       "      <td>68.0</td>\n",
       "      <td>1875.0</td>\n",
       "      <td>Elon</td>\n",
       "      <td>0.050633</td>\n",
       "      <td>1.0</td>\n",
       "      <td>2018</td>\n",
       "      <td>1</td>\n",
       "      <td>29.0</td>\n",
       "      <td>1</td>\n",
       "      <td>0.461039</td>\n",
       "      <td>11</td>\n",
       "      <td>10</td>\n",
       "    </tr>\n",
       "    <tr>\n",
       "      <th>2</th>\n",
       "      <td>2018-11-10</td>\n",
       "      <td>63.0</td>\n",
       "      <td>-550.0</td>\n",
       "      <td>Richmond</td>\n",
       "      <td>0.846154</td>\n",
       "      <td>0.0</td>\n",
       "      <td>3</td>\n",
       "      <td>76.0</td>\n",
       "      <td>400.0</td>\n",
       "      <td>Delaware</td>\n",
       "      <td>0.200000</td>\n",
       "      <td>1.0</td>\n",
       "      <td>2018</td>\n",
       "      <td>1</td>\n",
       "      <td>-13.0</td>\n",
       "      <td>0</td>\n",
       "      <td>0.466154</td>\n",
       "      <td>11</td>\n",
       "      <td>10</td>\n",
       "    </tr>\n",
       "    <tr>\n",
       "      <th>3</th>\n",
       "      <td>2018-11-10</td>\n",
       "      <td>57.0</td>\n",
       "      <td>-250.0</td>\n",
       "      <td>OldDominion</td>\n",
       "      <td>0.714286</td>\n",
       "      <td>0.0</td>\n",
       "      <td>4</td>\n",
       "      <td>54.0</td>\n",
       "      <td>200.0</td>\n",
       "      <td>Towson</td>\n",
       "      <td>0.333333</td>\n",
       "      <td>1.0</td>\n",
       "      <td>2018</td>\n",
       "      <td>1</td>\n",
       "      <td>3.0</td>\n",
       "      <td>1</td>\n",
       "      <td>0.471429</td>\n",
       "      <td>11</td>\n",
       "      <td>10</td>\n",
       "    </tr>\n",
       "    <tr>\n",
       "      <th>4</th>\n",
       "      <td>2018-11-10</td>\n",
       "      <td>84.0</td>\n",
       "      <td>-950.0</td>\n",
       "      <td>LoyolaChicago</td>\n",
       "      <td>0.904762</td>\n",
       "      <td>0.0</td>\n",
       "      <td>5</td>\n",
       "      <td>80.0</td>\n",
       "      <td>625.0</td>\n",
       "      <td>WrightState</td>\n",
       "      <td>0.137931</td>\n",
       "      <td>1.0</td>\n",
       "      <td>2018</td>\n",
       "      <td>1</td>\n",
       "      <td>4.0</td>\n",
       "      <td>1</td>\n",
       "      <td>0.463810</td>\n",
       "      <td>11</td>\n",
       "      <td>10</td>\n",
       "    </tr>\n",
       "  </tbody>\n",
       "</table>\n",
       "</div>"
      ],
      "text/plain": [
       "         Date  Final      ML           Team         p  VHohe  count  Final_v  \\\n",
       "0  2018-11-10   65.0  -330.0   WestVirginia  0.767442    0.0      1     88.0   \n",
       "1  2018-11-10   97.0 -3750.0           Duke  0.974026    0.0      2     68.0   \n",
       "2  2018-11-10   63.0  -550.0       Richmond  0.846154    0.0      3     76.0   \n",
       "3  2018-11-10   57.0  -250.0    OldDominion  0.714286    0.0      4     54.0   \n",
       "4  2018-11-10   84.0  -950.0  LoyolaChicago  0.904762    0.0      5     80.0   \n",
       "\n",
       "     ML_v       Team_v       p_v  VHohe_v  Season  vegas  actual_spread  W  \\\n",
       "0   260.0     TexasA&M  0.277778      1.0    2018      1          -23.0  0   \n",
       "1  1875.0         Elon  0.050633      1.0    2018      1           29.0  1   \n",
       "2   400.0     Delaware  0.200000      1.0    2018      1          -13.0  0   \n",
       "3   200.0       Towson  0.333333      1.0    2018      1            3.0  1   \n",
       "4   625.0  WrightState  0.137931      1.0    2018      1            4.0  1   \n",
       "\n",
       "     spread  month  day  \n",
       "0  0.469302     11   10  \n",
       "1  0.461039     11   10  \n",
       "2  0.466154     11   10  \n",
       "3  0.471429     11   10  \n",
       "4  0.463810     11   10  "
      ]
     },
     "execution_count": 23,
     "metadata": {},
     "output_type": "execute_result"
    }
   ],
   "source": [
    "odds2018_df.head()"
   ]
  },
  {
   "cell_type": "code",
   "execution_count": null,
   "metadata": {},
   "outputs": [],
   "source": []
  },
  {
   "cell_type": "code",
   "execution_count": 24,
   "metadata": {},
   "outputs": [],
   "source": [
    "odds2018_df = odds2018_df.apply(outcome, axis=1)"
   ]
  },
  {
   "cell_type": "code",
   "execution_count": 25,
   "metadata": {},
   "outputs": [
    {
     "data": {
      "text/html": [
       "<div>\n",
       "<style scoped>\n",
       "    .dataframe tbody tr th:only-of-type {\n",
       "        vertical-align: middle;\n",
       "    }\n",
       "\n",
       "    .dataframe tbody tr th {\n",
       "        vertical-align: top;\n",
       "    }\n",
       "\n",
       "    .dataframe thead th {\n",
       "        text-align: right;\n",
       "    }\n",
       "</style>\n",
       "<table border=\"1\" class=\"dataframe\">\n",
       "  <thead>\n",
       "    <tr style=\"text-align: right;\">\n",
       "      <th></th>\n",
       "      <th>Date</th>\n",
       "      <th>Final</th>\n",
       "      <th>ML</th>\n",
       "      <th>Team</th>\n",
       "      <th>p</th>\n",
       "      <th>VHohe</th>\n",
       "      <th>count</th>\n",
       "      <th>Final_v</th>\n",
       "      <th>ML_v</th>\n",
       "      <th>Team_v</th>\n",
       "      <th>p_v</th>\n",
       "      <th>VHohe_v</th>\n",
       "      <th>Season</th>\n",
       "      <th>vegas</th>\n",
       "      <th>actual_spread</th>\n",
       "      <th>W</th>\n",
       "      <th>spread</th>\n",
       "      <th>month</th>\n",
       "      <th>day</th>\n",
       "    </tr>\n",
       "  </thead>\n",
       "  <tbody>\n",
       "    <tr>\n",
       "      <th>0</th>\n",
       "      <td>2018-11-10</td>\n",
       "      <td>65.0</td>\n",
       "      <td>-330.0</td>\n",
       "      <td>WestVirginia</td>\n",
       "      <td>0.767442</td>\n",
       "      <td>0.0</td>\n",
       "      <td>1</td>\n",
       "      <td>88.0</td>\n",
       "      <td>260.0</td>\n",
       "      <td>TexasA&amp;M</td>\n",
       "      <td>0.277778</td>\n",
       "      <td>1.0</td>\n",
       "      <td>2018</td>\n",
       "      <td>1</td>\n",
       "      <td>-23.0</td>\n",
       "      <td>0</td>\n",
       "      <td>0.469302</td>\n",
       "      <td>11</td>\n",
       "      <td>10</td>\n",
       "    </tr>\n",
       "    <tr>\n",
       "      <th>1</th>\n",
       "      <td>2018-11-10</td>\n",
       "      <td>97.0</td>\n",
       "      <td>-3750.0</td>\n",
       "      <td>Duke</td>\n",
       "      <td>0.974026</td>\n",
       "      <td>0.0</td>\n",
       "      <td>2</td>\n",
       "      <td>68.0</td>\n",
       "      <td>1875.0</td>\n",
       "      <td>Elon</td>\n",
       "      <td>0.050633</td>\n",
       "      <td>1.0</td>\n",
       "      <td>2018</td>\n",
       "      <td>1</td>\n",
       "      <td>29.0</td>\n",
       "      <td>1</td>\n",
       "      <td>0.461039</td>\n",
       "      <td>11</td>\n",
       "      <td>10</td>\n",
       "    </tr>\n",
       "    <tr>\n",
       "      <th>2</th>\n",
       "      <td>2018-11-10</td>\n",
       "      <td>63.0</td>\n",
       "      <td>-550.0</td>\n",
       "      <td>Richmond</td>\n",
       "      <td>0.846154</td>\n",
       "      <td>0.0</td>\n",
       "      <td>3</td>\n",
       "      <td>76.0</td>\n",
       "      <td>400.0</td>\n",
       "      <td>Delaware</td>\n",
       "      <td>0.200000</td>\n",
       "      <td>1.0</td>\n",
       "      <td>2018</td>\n",
       "      <td>1</td>\n",
       "      <td>-13.0</td>\n",
       "      <td>0</td>\n",
       "      <td>0.466154</td>\n",
       "      <td>11</td>\n",
       "      <td>10</td>\n",
       "    </tr>\n",
       "    <tr>\n",
       "      <th>3</th>\n",
       "      <td>2018-11-10</td>\n",
       "      <td>57.0</td>\n",
       "      <td>-250.0</td>\n",
       "      <td>OldDominion</td>\n",
       "      <td>0.714286</td>\n",
       "      <td>0.0</td>\n",
       "      <td>4</td>\n",
       "      <td>54.0</td>\n",
       "      <td>200.0</td>\n",
       "      <td>Towson</td>\n",
       "      <td>0.333333</td>\n",
       "      <td>1.0</td>\n",
       "      <td>2018</td>\n",
       "      <td>1</td>\n",
       "      <td>3.0</td>\n",
       "      <td>1</td>\n",
       "      <td>0.471429</td>\n",
       "      <td>11</td>\n",
       "      <td>10</td>\n",
       "    </tr>\n",
       "    <tr>\n",
       "      <th>4</th>\n",
       "      <td>2018-11-10</td>\n",
       "      <td>84.0</td>\n",
       "      <td>-950.0</td>\n",
       "      <td>LoyolaChicago</td>\n",
       "      <td>0.904762</td>\n",
       "      <td>0.0</td>\n",
       "      <td>5</td>\n",
       "      <td>80.0</td>\n",
       "      <td>625.0</td>\n",
       "      <td>WrightState</td>\n",
       "      <td>0.137931</td>\n",
       "      <td>1.0</td>\n",
       "      <td>2018</td>\n",
       "      <td>1</td>\n",
       "      <td>4.0</td>\n",
       "      <td>1</td>\n",
       "      <td>0.463810</td>\n",
       "      <td>11</td>\n",
       "      <td>10</td>\n",
       "    </tr>\n",
       "  </tbody>\n",
       "</table>\n",
       "</div>"
      ],
      "text/plain": [
       "         Date  Final      ML           Team         p  VHohe  count  Final_v  \\\n",
       "0  2018-11-10   65.0  -330.0   WestVirginia  0.767442    0.0      1     88.0   \n",
       "1  2018-11-10   97.0 -3750.0           Duke  0.974026    0.0      2     68.0   \n",
       "2  2018-11-10   63.0  -550.0       Richmond  0.846154    0.0      3     76.0   \n",
       "3  2018-11-10   57.0  -250.0    OldDominion  0.714286    0.0      4     54.0   \n",
       "4  2018-11-10   84.0  -950.0  LoyolaChicago  0.904762    0.0      5     80.0   \n",
       "\n",
       "     ML_v       Team_v       p_v  VHohe_v  Season  vegas  actual_spread  W  \\\n",
       "0   260.0     TexasA&M  0.277778      1.0    2018      1          -23.0  0   \n",
       "1  1875.0         Elon  0.050633      1.0    2018      1           29.0  1   \n",
       "2   400.0     Delaware  0.200000      1.0    2018      1          -13.0  0   \n",
       "3   200.0       Towson  0.333333      1.0    2018      1            3.0  1   \n",
       "4   625.0  WrightState  0.137931      1.0    2018      1            4.0  1   \n",
       "\n",
       "     spread  month  day  \n",
       "0  0.469302     11   10  \n",
       "1  0.461039     11   10  \n",
       "2  0.466154     11   10  \n",
       "3  0.471429     11   10  \n",
       "4  0.463810     11   10  "
      ]
     },
     "execution_count": 25,
     "metadata": {},
     "output_type": "execute_result"
    }
   ],
   "source": [
    "odds2018_df.head()"
   ]
  },
  {
   "cell_type": "code",
   "execution_count": 26,
   "metadata": {},
   "outputs": [],
   "source": [
    "actual = odds2018_df.W\n",
    "vegas = odds2018_df.vegas"
   ]
  },
  {
   "cell_type": "code",
   "execution_count": 27,
   "metadata": {},
   "outputs": [
    {
     "data": {
      "text/plain": [
       "0.7405592389737676"
      ]
     },
     "execution_count": 27,
     "metadata": {},
     "output_type": "execute_result"
    }
   ],
   "source": [
    "metrics.accuracy_score(actual, vegas)"
   ]
  },
  {
   "cell_type": "code",
   "execution_count": null,
   "metadata": {},
   "outputs": [],
   "source": []
  },
  {
   "cell_type": "code",
   "execution_count": null,
   "metadata": {},
   "outputs": [],
   "source": [
    "odds2018_df.head()"
   ]
  },
  {
   "cell_type": "code",
   "execution_count": null,
   "metadata": {},
   "outputs": [],
   "source": [
    "def another_damn_id(row):\n",
    "    row['matchup'] = \",\".join(sorted([row['Team'], row['Team_v']]))\n",
    "    row['ID'] = '{},{}'.format(row['matchup'], row['Date'])\n",
    "    return row"
   ]
  }
 ],
 "metadata": {
  "kernelspec": {
   "display_name": "Python 3",
   "language": "python",
   "name": "python3"
  },
  "language_info": {
   "codemirror_mode": {
    "name": "ipython",
    "version": 3
   },
   "file_extension": ".py",
   "mimetype": "text/x-python",
   "name": "python",
   "nbconvert_exporter": "python",
   "pygments_lexer": "ipython3",
   "version": "3.6.5"
  }
 },
 "nbformat": 4,
 "nbformat_minor": 2
}
