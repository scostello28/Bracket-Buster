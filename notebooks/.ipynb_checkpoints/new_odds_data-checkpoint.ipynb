{
 "cells": [
  {
   "cell_type": "code",
   "execution_count": 1,
   "metadata": {},
   "outputs": [
    {
     "name": "stderr",
     "output_type": "stream",
     "text": [
      "/Users/sec/anaconda3/lib/python3.6/site-packages/h5py/__init__.py:36: FutureWarning: Conversion of the second argument of issubdtype from `float` to `np.floating` is deprecated. In future, it will be treated as `np.float64 == np.dtype(float).type`.\n",
      "  from ._conv import register_converters as _register_converters\n",
      "Using TensorFlow backend.\n"
     ]
    }
   ],
   "source": [
    "import pandas as pd\n",
    "import numpy as np\n",
    "from fancyimpute import KNN\n",
    "from sklearn import metrics\n",
    "import csv"
   ]
  },
  {
   "cell_type": "code",
   "execution_count": 2,
   "metadata": {},
   "outputs": [],
   "source": [
    "odds2018 = '../odds_data/ncaa_basketball_2017-18.xlsx'\n",
    "odds2017 = '../odds_data/ncaa_basketball_2016-17.xlsx'\n",
    "odds2016 = '../odds_data/ncaa_basketball_2015-16.xlsx'\n",
    "odds2015 = '../odds_data/ncaa_basketball_2014-15.xlsx'\n",
    "odds2014 = '../odds_data/ncaa_basketball_2013-14.xlsx'"
   ]
  },
  {
   "cell_type": "code",
   "execution_count": 3,
   "metadata": {},
   "outputs": [],
   "source": [
    "odds2018_df = pd.read_excel(odds2018, header=0)\n",
    "odds2017_df = pd.read_excel(odds2017, header=0)\n",
    "odds2016_df = pd.read_excel(odds2016, header=0)\n",
    "odds2015_df = pd.read_excel(odds2015, header=0)\n",
    "odds2014_df = pd.read_excel(odds2014, header=0)"
   ]
  },
  {
   "cell_type": "code",
   "execution_count": 4,
   "metadata": {},
   "outputs": [],
   "source": [
    "odds_dfs = [odds2018_df, odds2017_df, odds2016_df, odds2015_df, odds2014_df]"
   ]
  },
  {
   "cell_type": "code",
   "execution_count": 5,
   "metadata": {},
   "outputs": [],
   "source": [
    "seasons = [2018, 2017, 2016, 2015, 2014]"
   ]
  },
  {
   "cell_type": "markdown",
   "metadata": {},
   "source": [
    "1. Update team names\n",
    "2. Change date\n",
    "3. add season\n",
    "4. impute data\n",
    "5. matchups to rows\n",
    "6. add outcome\n",
    "7. concat dfs"
   ]
  },
  {
   "cell_type": "markdown",
   "metadata": {},
   "source": [
    "**Team Names**"
   ]
  },
  {
   "cell_type": "code",
   "execution_count": 6,
   "metadata": {},
   "outputs": [],
   "source": [
    "odds_teams_lookup_filepath = '../odds_teams_lookup.csv'"
   ]
  },
  {
   "cell_type": "code",
   "execution_count": 7,
   "metadata": {},
   "outputs": [],
   "source": [
    "def odds_teams_dict(filepath):\n",
    "    '''\n",
    "    Create dictionary of school names and formatted school names for mapping\n",
    "    '''\n",
    "    team_names = pd.read_csv(filepath)\n",
    "    team_names = team_names[['Teams', 'school']]\n",
    "    team_dict = {}\n",
    "    schools = team_names['Teams'].tolist()\n",
    "    schools_format = team_names['school'].tolist()\n",
    "    for school, schform in zip(schools, schools_format):\n",
    "        team_dict[school] = schform\n",
    "    return team_dict"
   ]
  },
  {
   "cell_type": "code",
   "execution_count": 8,
   "metadata": {},
   "outputs": [],
   "source": [
    "def update_team_names(df):\n",
    "    df['Team'] = df['Team'].map(odds_teams_dict(odds_teams_lookup_filepath))\n",
    "    return df"
   ]
  },
  {
   "cell_type": "markdown",
   "metadata": {},
   "source": [
    "**date work**"
   ]
  },
  {
   "cell_type": "code",
   "execution_count": 9,
   "metadata": {},
   "outputs": [],
   "source": [
    "def date(row):\n",
    "    '''Updates date format to prepare for unique ID generation'''\n",
    "    row['Date'] = str(row['Date'])\n",
    "    if len(row['Date']) == 3: \n",
    "        row['month'] = '0' + row['Date'][:1]\n",
    "    else:\n",
    "        row['month'] = row['Date'][:2]\n",
    "    row['day'] = row['Date'][-2:]\n",
    "    row['Date'] = '{}-{}-{}'.format(str(row['season']), str(row['month']), str(row['day']))\n",
    "    return row"
   ]
  },
  {
   "cell_type": "markdown",
   "metadata": {},
   "source": [
    "**Impute Data**"
   ]
  },
  {
   "cell_type": "code",
   "execution_count": 10,
   "metadata": {},
   "outputs": [],
   "source": [
    "def string_split(df):\n",
    "    '''Used in impute data function to split string data into separate df'''\n",
    "    string_df = df[['VH', 'Team', 'Date']]\n",
    "    df = df.drop(['VH', 'Team', 'Date'], axis=1)\n",
    "    return string_df, df"
   ]
  },
  {
   "cell_type": "code",
   "execution_count": 11,
   "metadata": {},
   "outputs": [],
   "source": [
    "def string_to_nan(row):\n",
    "    '''Used in impute_data funciton to force strings in numeric df to NaNs'''\n",
    "    row = pd.to_numeric(row, errors='coerce')\n",
    "    return row"
   ]
  },
  {
   "cell_type": "code",
   "execution_count": 12,
   "metadata": {},
   "outputs": [],
   "source": [
    "def impute_data(df):\n",
    "    '''\n",
    "    Input: DataFrame\n",
    "    Output: DataFrame with imputted missing values\n",
    "    '''\n",
    "    \n",
    "    # Split out string columns into separate df\n",
    "    string_df, df = string_split(df)\n",
    "    \n",
    "    # save col names\n",
    "    string_df_cols = string_df.columns.tolist()\n",
    "    df_cols = df.columns.tolist()\n",
    "    \n",
    "    # Convert strings to NaNs\n",
    "    df = df.apply(string_to_nan, axis=1)\n",
    "    \n",
    "    #impute NaNs in df\n",
    "    X = df.values\n",
    "    X_filled = KNN(k=3, verbose=False).complete(X)\n",
    "    df = pd.DataFrame(X_filled, columns=df_cols)\n",
    "    df = pd.merge(df, string_df, how='left', left_index=True, right_index=True)\n",
    "    return df"
   ]
  },
  {
   "cell_type": "markdown",
   "metadata": {},
   "source": [
    "**Feature Engineer and Matchups**"
   ]
  },
  {
   "cell_type": "code",
   "execution_count": 13,
   "metadata": {},
   "outputs": [],
   "source": [
    "def prob(row):\n",
    "    '''calc probability from ML'''\n",
    "    if row['ML'] < 0:\n",
    "        row['p'] = int(row['ML']) / int((row['ML']) - 100)\n",
    "    elif row['ML'] > 0:\n",
    "        row['p'] = 100 / int((row['ML']) + 100)\n",
    "    return row"
   ]
  },
  {
   "cell_type": "code",
   "execution_count": 14,
   "metadata": {},
   "outputs": [],
   "source": [
    "def spread(row):\n",
    "    if row['p'] <= .5:\n",
    "        row['spread'] = int(25 * row['p'] + -12)\n",
    "    else:\n",
    "        row['spread'] = int(-25 * row['p'] + 13)\n",
    "    return row"
   ]
  },
  {
   "cell_type": "code",
   "execution_count": 15,
   "metadata": {},
   "outputs": [],
   "source": [
    "def outcome(row):\n",
    "    '''Adds vegas prediction, actual spread and actual W features'''\n",
    "    if row['ML'] < 0:\n",
    "        row['vegas'] = 1\n",
    "    else:\n",
    "        row['vegas'] = 0\n",
    "    \n",
    "    row['actual_spread'] = row['Final'] - row['Final_OP']\n",
    "    \n",
    "    if row['actual_spread'] > 0:\n",
    "        row['W'] = 1\n",
    "    else:\n",
    "        row['W'] = 0\n",
    "    \n",
    "    return row"
   ]
  },
  {
   "cell_type": "code",
   "execution_count": 16,
   "metadata": {},
   "outputs": [],
   "source": [
    "def matchups(df):\n",
    "    \n",
    "    # Drop uneeded columns\n",
    "    df = df.drop(['1st', '2H', '2nd'], axis=1)\n",
    "    \n",
    "    # Add probability of winning column\n",
    "    df = df.apply(prob, axis=1)\n",
    "    \n",
    "    # One hot encode VH column for counting\n",
    "    df['VHohe'] = df['VH'].map({'V': 1, 'H': 0})\n",
    "    \n",
    "    # Create count column to use as merge ID\n",
    "    df['count'] = df.groupby('VHohe').cumcount() + 1\n",
    "    \n",
    "    # Split df in to visitor and home team dfs\n",
    "    df_v = df[df['VH'] == 'V']\n",
    "    df_h = df[df['VH'] == 'H']\n",
    "    \n",
    "    # update column names for visitors df\n",
    "    v_cols = df_v.columns.tolist()\n",
    "    v_cols = ['{}_OP'.format(col) if col != 'count' else col for col in v_cols]\n",
    "    df_v.columns = v_cols\n",
    "    \n",
    "    # Merge on count\n",
    "    df = pd.merge(df_h, df_v, how='left', on='count')\n",
    "    \n",
    "    # Drop uneeded columns\n",
    "    df = df.drop(['Rot', 'VH', 'VH_OP', 'Date_OP', 'Rot_OP', 'Open', 'Close', \n",
    "                  'Open_OP', 'Close_OP', 'season_OP'], axis=1)\n",
    "\n",
    "    # Add outcome\n",
    "    df = df.apply(outcome, axis=1)\n",
    "    \n",
    "    # spread\n",
    "    df = df.apply(spread, axis=1)\n",
    "    \n",
    "    return df"
   ]
  },
  {
   "cell_type": "markdown",
   "metadata": {},
   "source": [
    "**master func**"
   ]
  },
  {
   "cell_type": "code",
   "execution_count": 17,
   "metadata": {},
   "outputs": [],
   "source": [
    "def set_up_odds_data(df_list, seasons_list):\n",
    "    odds_df = pd.DataFrame()\n",
    "    for df, season in zip(df_list, seasons_list):\n",
    "        df = update_team_names(df)\n",
    "        df['season'] = season\n",
    "        df = df.apply(date, axis=1)\n",
    "        df = df.drop(['month', 'day'], axis=1)\n",
    "        df = impute_data(df)\n",
    "        df = matchups(df)\n",
    "        odds_df = odds_df.append(df, ignore_index=True)\n",
    "    return odds_df"
   ]
  },
  {
   "cell_type": "code",
   "execution_count": 18,
   "metadata": {},
   "outputs": [],
   "source": [
    "odds18_test = set_up_odds_data(odds_dfs, seasons)"
   ]
  },
  {
   "cell_type": "code",
   "execution_count": 19,
   "metadata": {
    "scrolled": true
   },
   "outputs": [
    {
     "data": {
      "text/html": [
       "<div>\n",
       "<style scoped>\n",
       "    .dataframe tbody tr th:only-of-type {\n",
       "        vertical-align: middle;\n",
       "    }\n",
       "\n",
       "    .dataframe tbody tr th {\n",
       "        vertical-align: top;\n",
       "    }\n",
       "\n",
       "    .dataframe thead th {\n",
       "        text-align: right;\n",
       "    }\n",
       "</style>\n",
       "<table border=\"1\" class=\"dataframe\">\n",
       "  <thead>\n",
       "    <tr style=\"text-align: right;\">\n",
       "      <th></th>\n",
       "      <th>Final</th>\n",
       "      <th>ML</th>\n",
       "      <th>season</th>\n",
       "      <th>Team</th>\n",
       "      <th>Date</th>\n",
       "      <th>p</th>\n",
       "      <th>VHohe</th>\n",
       "      <th>count</th>\n",
       "      <th>Final_OP</th>\n",
       "      <th>ML_OP</th>\n",
       "      <th>Team_OP</th>\n",
       "      <th>p_OP</th>\n",
       "      <th>VHohe_OP</th>\n",
       "      <th>vegas</th>\n",
       "      <th>actual_spread</th>\n",
       "      <th>W</th>\n",
       "      <th>spread</th>\n",
       "    </tr>\n",
       "  </thead>\n",
       "  <tbody>\n",
       "    <tr>\n",
       "      <th>3464</th>\n",
       "      <td>69.0</td>\n",
       "      <td>-180.0</td>\n",
       "      <td>2018.0</td>\n",
       "      <td>north-texas</td>\n",
       "      <td>2018-03-28</td>\n",
       "      <td>0.642857</td>\n",
       "      <td>0.0</td>\n",
       "      <td>3465</td>\n",
       "      <td>55.0</td>\n",
       "      <td>150.0</td>\n",
       "      <td>san-francisco</td>\n",
       "      <td>0.400000</td>\n",
       "      <td>1.0</td>\n",
       "      <td>1</td>\n",
       "      <td>14.0</td>\n",
       "      <td>1</td>\n",
       "      <td>-3</td>\n",
       "    </tr>\n",
       "    <tr>\n",
       "      <th>3465</th>\n",
       "      <td>51.0</td>\n",
       "      <td>-220.0</td>\n",
       "      <td>2018.0</td>\n",
       "      <td>liberty</td>\n",
       "      <td>2018-03-28</td>\n",
       "      <td>0.687500</td>\n",
       "      <td>0.0</td>\n",
       "      <td>3466</td>\n",
       "      <td>67.0</td>\n",
       "      <td>180.0</td>\n",
       "      <td>illinois-chicago</td>\n",
       "      <td>0.357143</td>\n",
       "      <td>1.0</td>\n",
       "      <td>1</td>\n",
       "      <td>-16.0</td>\n",
       "      <td>0</td>\n",
       "      <td>-4</td>\n",
       "    </tr>\n",
       "    <tr>\n",
       "      <th>3466</th>\n",
       "      <td>99.0</td>\n",
       "      <td>-650.0</td>\n",
       "      <td>2018.0</td>\n",
       "      <td>northern-colorado</td>\n",
       "      <td>2018-03-28</td>\n",
       "      <td>0.866667</td>\n",
       "      <td>0.0</td>\n",
       "      <td>3467</td>\n",
       "      <td>80.0</td>\n",
       "      <td>450.0</td>\n",
       "      <td>sam-houston-state</td>\n",
       "      <td>0.181818</td>\n",
       "      <td>1.0</td>\n",
       "      <td>1</td>\n",
       "      <td>19.0</td>\n",
       "      <td>1</td>\n",
       "      <td>-8</td>\n",
       "    </tr>\n",
       "    <tr>\n",
       "      <th>3467</th>\n",
       "      <td>88.0</td>\n",
       "      <td>-220.0</td>\n",
       "      <td>2018.0</td>\n",
       "      <td>north-texas</td>\n",
       "      <td>2018-03-30</td>\n",
       "      <td>0.687500</td>\n",
       "      <td>0.0</td>\n",
       "      <td>3468</td>\n",
       "      <td>77.0</td>\n",
       "      <td>180.0</td>\n",
       "      <td>san-francisco</td>\n",
       "      <td>0.357143</td>\n",
       "      <td>1.0</td>\n",
       "      <td>1</td>\n",
       "      <td>11.0</td>\n",
       "      <td>1</td>\n",
       "      <td>-4</td>\n",
       "    </tr>\n",
       "    <tr>\n",
       "      <th>3468</th>\n",
       "      <td>76.0</td>\n",
       "      <td>-550.0</td>\n",
       "      <td>2018.0</td>\n",
       "      <td>northern-colorado</td>\n",
       "      <td>2018-03-30</td>\n",
       "      <td>0.846154</td>\n",
       "      <td>0.0</td>\n",
       "      <td>3469</td>\n",
       "      <td>71.0</td>\n",
       "      <td>400.0</td>\n",
       "      <td>illinois-chicago</td>\n",
       "      <td>0.200000</td>\n",
       "      <td>1.0</td>\n",
       "      <td>1</td>\n",
       "      <td>5.0</td>\n",
       "      <td>1</td>\n",
       "      <td>-8</td>\n",
       "    </tr>\n",
       "  </tbody>\n",
       "</table>\n",
       "</div>"
      ],
      "text/plain": [
       "      Final     ML  season               Team        Date         p  VHohe  \\\n",
       "3464   69.0 -180.0  2018.0        north-texas  2018-03-28  0.642857    0.0   \n",
       "3465   51.0 -220.0  2018.0            liberty  2018-03-28  0.687500    0.0   \n",
       "3466   99.0 -650.0  2018.0  northern-colorado  2018-03-28  0.866667    0.0   \n",
       "3467   88.0 -220.0  2018.0        north-texas  2018-03-30  0.687500    0.0   \n",
       "3468   76.0 -550.0  2018.0  northern-colorado  2018-03-30  0.846154    0.0   \n",
       "\n",
       "      count  Final_OP  ML_OP            Team_OP      p_OP  VHohe_OP  vegas  \\\n",
       "3464   3465      55.0  150.0      san-francisco  0.400000       1.0      1   \n",
       "3465   3466      67.0  180.0   illinois-chicago  0.357143       1.0      1   \n",
       "3466   3467      80.0  450.0  sam-houston-state  0.181818       1.0      1   \n",
       "3467   3468      77.0  180.0      san-francisco  0.357143       1.0      1   \n",
       "3468   3469      71.0  400.0   illinois-chicago  0.200000       1.0      1   \n",
       "\n",
       "      actual_spread  W  spread  \n",
       "3464           14.0  1      -3  \n",
       "3465          -16.0  0      -4  \n",
       "3466           19.0  1      -8  \n",
       "3467           11.0  1      -4  \n",
       "3468            5.0  1      -8  "
      ]
     },
     "execution_count": 19,
     "metadata": {},
     "output_type": "execute_result"
    }
   ],
   "source": [
    "odds18_test.tail()"
   ]
  },
  {
   "cell_type": "code",
   "execution_count": 20,
   "metadata": {},
   "outputs": [
    {
     "name": "stdout",
     "output_type": "stream",
     "text": [
      "<class 'pandas.core.frame.DataFrame'>\n",
      "RangeIndex: 3469 entries, 0 to 3468\n",
      "Data columns (total 17 columns):\n",
      "Final            3469 non-null float64\n",
      "ML               3469 non-null float64\n",
      "season           3469 non-null float64\n",
      "Team             3465 non-null object\n",
      "Date             3469 non-null object\n",
      "p                3469 non-null float64\n",
      "VHohe            3469 non-null float64\n",
      "count            3469 non-null int64\n",
      "Final_OP         3469 non-null float64\n",
      "ML_OP            3469 non-null float64\n",
      "Team_OP          3464 non-null object\n",
      "p_OP             3469 non-null float64\n",
      "VHohe_OP         3469 non-null float64\n",
      "vegas            3469 non-null int64\n",
      "actual_spread    3469 non-null float64\n",
      "W                3469 non-null int64\n",
      "spread           3469 non-null int64\n",
      "dtypes: float64(10), int64(4), object(3)\n",
      "memory usage: 460.8+ KB\n"
     ]
    }
   ],
   "source": [
    "odds18_test.info()"
   ]
  },
  {
   "cell_type": "code",
   "execution_count": null,
   "metadata": {},
   "outputs": [],
   "source": []
  }
 ],
 "metadata": {
  "kernelspec": {
   "display_name": "Python 3",
   "language": "python",
   "name": "python3"
  },
  "language_info": {
   "codemirror_mode": {
    "name": "ipython",
    "version": 3
   },
   "file_extension": ".py",
   "mimetype": "text/x-python",
   "name": "python",
   "nbconvert_exporter": "python",
   "pygments_lexer": "ipython3",
   "version": "3.6.5"
  }
 },
 "nbformat": 4,
 "nbformat_minor": 2
}
