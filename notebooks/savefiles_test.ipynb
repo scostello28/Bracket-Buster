{
 "cells": [
  {
   "cell_type": "code",
   "execution_count": 1,
   "metadata": {
    "collapsed": true
   },
   "outputs": [],
   "source": [
    "import pandas as pd\n",
    "import numpy as np\n",
    "import pickle"
   ]
  },
  {
   "cell_type": "code",
   "execution_count": 21,
   "metadata": {},
   "outputs": [],
   "source": [
    "games = pd.read_pickle('/Users/sec/galvanize/capstone1/game_data/games_up_to_2018_season.pkl')"
   ]
  },
  {
   "cell_type": "code",
   "execution_count": 22,
   "metadata": {},
   "outputs": [
    {
     "data": {
      "text/html": [
       "<div>\n",
       "<style>\n",
       "    .dataframe thead tr:only-child th {\n",
       "        text-align: right;\n",
       "    }\n",
       "\n",
       "    .dataframe thead th {\n",
       "        text-align: left;\n",
       "    }\n",
       "\n",
       "    .dataframe tbody tr th {\n",
       "        vertical-align: top;\n",
       "    }\n",
       "</style>\n",
       "<table border=\"1\" class=\"dataframe\">\n",
       "  <thead>\n",
       "    <tr style=\"text-align: right;\">\n",
       "      <th></th>\n",
       "      <th>W</th>\n",
       "      <th>GameType</th>\n",
       "      <th>Wp</th>\n",
       "      <th>ppg</th>\n",
       "      <th>pApg</th>\n",
       "      <th>FGp</th>\n",
       "      <th>3Pp</th>\n",
       "      <th>FTp</th>\n",
       "      <th>ORBpg</th>\n",
       "      <th>RBpg</th>\n",
       "      <th>...</th>\n",
       "      <th>OP3Pp</th>\n",
       "      <th>OPFTp</th>\n",
       "      <th>OPORBpg</th>\n",
       "      <th>OPRBpg</th>\n",
       "      <th>OPASTpg</th>\n",
       "      <th>OPSTLpg</th>\n",
       "      <th>OPBLKpg</th>\n",
       "      <th>OPTOpg</th>\n",
       "      <th>OPPFpg</th>\n",
       "      <th>OPsos</th>\n",
       "    </tr>\n",
       "  </thead>\n",
       "  <tbody>\n",
       "    <tr>\n",
       "      <th>9</th>\n",
       "      <td>1</td>\n",
       "      <td>season2014</td>\n",
       "      <td>0.600000</td>\n",
       "      <td>73.0</td>\n",
       "      <td>69.0</td>\n",
       "      <td>0.4668</td>\n",
       "      <td>0.3462</td>\n",
       "      <td>0.6248</td>\n",
       "      <td>9.8</td>\n",
       "      <td>30.2</td>\n",
       "      <td>...</td>\n",
       "      <td>0.3364</td>\n",
       "      <td>0.5580</td>\n",
       "      <td>9.6</td>\n",
       "      <td>31.8</td>\n",
       "      <td>9.8</td>\n",
       "      <td>8.0</td>\n",
       "      <td>3.8</td>\n",
       "      <td>12.0</td>\n",
       "      <td>20.2</td>\n",
       "      <td>-1.30</td>\n",
       "    </tr>\n",
       "    <tr>\n",
       "      <th>10</th>\n",
       "      <td>1</td>\n",
       "      <td>season2014</td>\n",
       "      <td>0.615385</td>\n",
       "      <td>60.0</td>\n",
       "      <td>70.8</td>\n",
       "      <td>0.3772</td>\n",
       "      <td>0.2936</td>\n",
       "      <td>0.5146</td>\n",
       "      <td>11.8</td>\n",
       "      <td>31.6</td>\n",
       "      <td>...</td>\n",
       "      <td>0.3106</td>\n",
       "      <td>0.7022</td>\n",
       "      <td>9.6</td>\n",
       "      <td>35.8</td>\n",
       "      <td>15.0</td>\n",
       "      <td>6.8</td>\n",
       "      <td>5.0</td>\n",
       "      <td>14.2</td>\n",
       "      <td>18.0</td>\n",
       "      <td>-0.22</td>\n",
       "    </tr>\n",
       "    <tr>\n",
       "      <th>11</th>\n",
       "      <td>0</td>\n",
       "      <td>season2014</td>\n",
       "      <td>0.666667</td>\n",
       "      <td>67.2</td>\n",
       "      <td>70.0</td>\n",
       "      <td>0.3952</td>\n",
       "      <td>0.3180</td>\n",
       "      <td>0.6418</td>\n",
       "      <td>11.8</td>\n",
       "      <td>34.2</td>\n",
       "      <td>...</td>\n",
       "      <td>0.3850</td>\n",
       "      <td>0.7184</td>\n",
       "      <td>12.0</td>\n",
       "      <td>34.4</td>\n",
       "      <td>16.0</td>\n",
       "      <td>6.2</td>\n",
       "      <td>2.6</td>\n",
       "      <td>10.2</td>\n",
       "      <td>20.6</td>\n",
       "      <td>-0.26</td>\n",
       "    </tr>\n",
       "    <tr>\n",
       "      <th>12</th>\n",
       "      <td>0</td>\n",
       "      <td>season2014</td>\n",
       "      <td>0.647059</td>\n",
       "      <td>66.8</td>\n",
       "      <td>66.6</td>\n",
       "      <td>0.4110</td>\n",
       "      <td>0.2948</td>\n",
       "      <td>0.6214</td>\n",
       "      <td>12.4</td>\n",
       "      <td>34.4</td>\n",
       "      <td>...</td>\n",
       "      <td>0.3118</td>\n",
       "      <td>0.7476</td>\n",
       "      <td>9.4</td>\n",
       "      <td>35.0</td>\n",
       "      <td>14.6</td>\n",
       "      <td>8.4</td>\n",
       "      <td>2.8</td>\n",
       "      <td>11.4</td>\n",
       "      <td>16.2</td>\n",
       "      <td>-2.59</td>\n",
       "    </tr>\n",
       "    <tr>\n",
       "      <th>13</th>\n",
       "      <td>0</td>\n",
       "      <td>season2014</td>\n",
       "      <td>0.653846</td>\n",
       "      <td>64.6</td>\n",
       "      <td>63.6</td>\n",
       "      <td>0.4212</td>\n",
       "      <td>0.2708</td>\n",
       "      <td>0.6898</td>\n",
       "      <td>10.8</td>\n",
       "      <td>30.0</td>\n",
       "      <td>...</td>\n",
       "      <td>0.4162</td>\n",
       "      <td>0.7342</td>\n",
       "      <td>7.4</td>\n",
       "      <td>27.8</td>\n",
       "      <td>18.0</td>\n",
       "      <td>5.2</td>\n",
       "      <td>4.4</td>\n",
       "      <td>12.6</td>\n",
       "      <td>19.4</td>\n",
       "      <td>-0.22</td>\n",
       "    </tr>\n",
       "  </tbody>\n",
       "</table>\n",
       "<p>5 rows × 30 columns</p>\n",
       "</div>"
      ],
      "text/plain": [
       "    W    GameType        Wp   ppg  pApg     FGp     3Pp     FTp  ORBpg  RBpg  \\\n",
       "9   1  season2014  0.600000  73.0  69.0  0.4668  0.3462  0.6248    9.8  30.2   \n",
       "10  1  season2014  0.615385  60.0  70.8  0.3772  0.2936  0.5146   11.8  31.6   \n",
       "11  0  season2014  0.666667  67.2  70.0  0.3952  0.3180  0.6418   11.8  34.2   \n",
       "12  0  season2014  0.647059  66.8  66.6  0.4110  0.2948  0.6214   12.4  34.4   \n",
       "13  0  season2014  0.653846  64.6  63.6  0.4212  0.2708  0.6898   10.8  30.0   \n",
       "\n",
       "    ...     OP3Pp   OPFTp  OPORBpg  OPRBpg  OPASTpg  OPSTLpg  OPBLKpg  OPTOpg  \\\n",
       "9   ...    0.3364  0.5580      9.6    31.8      9.8      8.0      3.8    12.0   \n",
       "10  ...    0.3106  0.7022      9.6    35.8     15.0      6.8      5.0    14.2   \n",
       "11  ...    0.3850  0.7184     12.0    34.4     16.0      6.2      2.6    10.2   \n",
       "12  ...    0.3118  0.7476      9.4    35.0     14.6      8.4      2.8    11.4   \n",
       "13  ...    0.4162  0.7342      7.4    27.8     18.0      5.2      4.4    12.6   \n",
       "\n",
       "    OPPFpg  OPsos  \n",
       "9     20.2  -1.30  \n",
       "10    18.0  -0.22  \n",
       "11    20.6  -0.26  \n",
       "12    16.2  -2.59  \n",
       "13    19.4  -0.22  \n",
       "\n",
       "[5 rows x 30 columns]"
      ]
     },
     "execution_count": 22,
     "metadata": {},
     "output_type": "execute_result"
    }
   ],
   "source": [
    "games.head()"
   ]
  },
  {
   "cell_type": "code",
   "execution_count": 23,
   "metadata": {},
   "outputs": [
    {
     "data": {
      "text/plain": [
       "Index(['W', 'GameType', 'Wp', 'ppg', 'pApg', 'FGp', '3Pp', 'FTp', 'ORBpg',\n",
       "       'RBpg', 'ASTpg', 'STLpg', 'BLKpg', 'TOpg', 'PFpg', 'sos', 'OPWp',\n",
       "       'OPppg', 'OPpApg', 'OPFGp', 'OP3Pp', 'OPFTp', 'OPORBpg', 'OPRBpg',\n",
       "       'OPASTpg', 'OPSTLpg', 'OPBLKpg', 'OPTOpg', 'OPPFpg', 'OPsos'],\n",
       "      dtype='object')"
      ]
     },
     "execution_count": 23,
     "metadata": {},
     "output_type": "execute_result"
    }
   ],
   "source": [
    "games.columns"
   ]
  },
  {
   "cell_type": "code",
   "execution_count": 24,
   "metadata": {},
   "outputs": [
    {
     "data": {
      "text/plain": [
       "season2017     1082\n",
       "season2016     1078\n",
       "season2015     1070\n",
       "season2014     1062\n",
       "tourney2014      49\n",
       "tourney2016      47\n",
       "tourney2015      43\n",
       "tourney2017      40\n",
       "Name: GameType, dtype: int64"
      ]
     },
     "execution_count": 24,
     "metadata": {},
     "output_type": "execute_result"
    }
   ],
   "source": [
    "games['GameType'].value_counts()"
   ]
  },
  {
   "cell_type": "code",
   "execution_count": null,
   "metadata": {},
   "outputs": [],
   "source": []
  },
  {
   "cell_type": "code",
   "execution_count": null,
   "metadata": {},
   "outputs": [],
   "source": []
  },
  {
   "cell_type": "code",
   "execution_count": null,
   "metadata": {},
   "outputs": [],
   "source": []
  },
  {
   "cell_type": "code",
   "execution_count": null,
   "metadata": {
    "collapsed": true
   },
   "outputs": [],
   "source": []
  }
 ],
 "metadata": {
  "kernelspec": {
   "display_name": "Python 3",
   "language": "python",
   "name": "python3"
  },
  "language_info": {
   "codemirror_mode": {
    "name": "ipython",
    "version": 3
   },
   "file_extension": ".py",
   "mimetype": "text/x-python",
   "name": "python",
   "nbconvert_exporter": "python",
   "pygments_lexer": "ipython3",
   "version": "3.6.2"
  }
 },
 "nbformat": 4,
 "nbformat_minor": 2
}
