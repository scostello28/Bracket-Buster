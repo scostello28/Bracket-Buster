{
 "cells": [
  {
   "cell_type": "code",
   "execution_count": 1,
   "metadata": {
    "collapsed": true
   },
   "outputs": [],
   "source": [
    "import pickle\n",
    "import pandas as pd\n",
    "import numpy as np\n",
    "from pandas.plotting import scatter_matrix\n",
    "from math import sqrt\n",
    "\n",
    "from sklearn.linear_model import LogisticRegression\n",
    "from sklearn.linear_model import Lasso\n",
    "from sklearn.linear_model import Ridge\n",
    "from sklearn.linear_model import ElasticNet\n",
    "from sklearn.pipeline import Pipeline\n",
    "from sklearn.utils import resample\n",
    "from sklearn.model_selection import KFold\n",
    "from sklearn.model_selection import train_test_split\n",
    "from sklearn.model_selection import cross_val_score\n",
    "from sklearn.model_selection import cross_validate\n",
    "from sklearn import metrics\n",
    "from sklearn.preprocessing import StandardScaler\n",
    "from sklearn.model_selection import cross_validate\n",
    "from sklearn.model_selection import GridSearchCV\n",
    "from sklearn.linear_model import LogisticRegressionCV\n",
    "\n",
    "import matplotlib.pyplot as plt\n",
    "plt.style.use('ggplot')\n",
    "%matplotlib inline"
   ]
  },
  {
   "cell_type": "code",
   "execution_count": 2,
   "metadata": {
    "collapsed": true
   },
   "outputs": [],
   "source": [
    "games = pd.read_pickle('game_data/games_four_years.pkl')\n",
    "g2018 = pd.read_pickle('game_data/games_2018.pkl')"
   ]
  },
  {
   "cell_type": "code",
   "execution_count": 3,
   "metadata": {},
   "outputs": [
    {
     "name": "stdout",
     "output_type": "stream",
     "text": [
      "<class 'pandas.core.frame.DataFrame'>\n",
      "Int64Index: 1203 entries, 10 to 3156\n",
      "Data columns (total 35 columns):\n",
      "Date       1203 non-null object\n",
      "W          1203 non-null int64\n",
      "Ws         1203 non-null int64\n",
      "Wp         1203 non-null float64\n",
      "ppg        1203 non-null float64\n",
      "pApg       1203 non-null float64\n",
      "FGp        1203 non-null float64\n",
      "3Pp        1203 non-null float64\n",
      "FTp        1203 non-null float64\n",
      "ORBpg      1203 non-null float64\n",
      "RBpg       1203 non-null float64\n",
      "ASTpg      1203 non-null float64\n",
      "STLpg      1203 non-null float64\n",
      "BLKpg      1203 non-null float64\n",
      "TOpg       1203 non-null float64\n",
      "PFpg       1203 non-null float64\n",
      "Tm         1203 non-null object\n",
      "sos        1203 non-null float64\n",
      "matchup    1203 non-null object\n",
      "ID         1203 non-null object\n",
      "count      1203 non-null int64\n",
      "OPppg      1203 non-null float64\n",
      "OPpApg     1203 non-null float64\n",
      "OPFGp      1203 non-null float64\n",
      "OP3Pp      1203 non-null float64\n",
      "OPFTp      1203 non-null float64\n",
      "OPORBpg    1203 non-null float64\n",
      "OPRBpg     1203 non-null float64\n",
      "OPASTpg    1203 non-null float64\n",
      "OPSTLpg    1203 non-null float64\n",
      "OPBLKpg    1203 non-null float64\n",
      "OPTOpg     1203 non-null float64\n",
      "OPPFpg     1203 non-null float64\n",
      "OPTm       1203 non-null object\n",
      "OPsos      1203 non-null float64\n",
      "dtypes: float64(27), int64(3), object(5)\n",
      "memory usage: 338.3+ KB\n"
     ]
    }
   ],
   "source": [
    "g2018.info()"
   ]
  },
  {
   "cell_type": "code",
   "execution_count": 4,
   "metadata": {
    "collapsed": true
   },
   "outputs": [],
   "source": [
    "'''Shuffle DataFrames'''\n",
    "games = games.sample(frac=1).reset_index(drop=True)\n",
    "g2018 = g2018.sample(frac=1).reset_index(drop=True)"
   ]
  },
  {
   "cell_type": "code",
   "execution_count": 5,
   "metadata": {
    "collapsed": true
   },
   "outputs": [],
   "source": [
    "Xy_train = games[['W', 'Wp', 'ppg', 'pApg', 'FGp', '3Pp', 'FTp', 'ORBpg', 'RBpg', \n",
    "            'ASTpg', 'STLpg', 'BLKpg', 'TOpg', 'PFpg', 'sos', 'OPppg', \n",
    "            'OPpApg', 'OPFGp', 'OP3Pp', 'OPFTp', 'OPORBpg', 'OPRBpg', \n",
    "            'OPASTpg', 'OPSTLpg', 'OPBLKpg', 'OPTOpg', 'OPPFpg', 'OPsos']]\n",
    "\n",
    "Xy_test = g2018[['W', 'Wp', 'ppg', 'pApg', 'FGp', '3Pp', 'FTp', 'ORBpg', 'RBpg', \n",
    "            'ASTpg', 'STLpg', 'BLKpg', 'TOpg', 'PFpg', 'sos', 'OPppg', \n",
    "            'OPpApg', 'OPFGp', 'OP3Pp', 'OPFTp', 'OPORBpg', 'OPRBpg', \n",
    "            'OPASTpg', 'OPSTLpg', 'OPBLKpg', 'OPTOpg', 'OPPFpg', 'OPsos']]"
   ]
  },
  {
   "cell_type": "code",
   "execution_count": 6,
   "metadata": {},
   "outputs": [
    {
     "data": {
      "text/plain": [
       "0    616\n",
       "1    587\n",
       "Name: W, dtype: int64"
      ]
     },
     "execution_count": 6,
     "metadata": {},
     "output_type": "execute_result"
    }
   ],
   "source": [
    "Xy_test['W'].value_counts() \n",
    "# pretty even on wins and losses"
   ]
  },
  {
   "cell_type": "code",
   "execution_count": 7,
   "metadata": {
    "collapsed": true
   },
   "outputs": [],
   "source": [
    "# Set up features and targets\n",
    "X_train = Xy_train.iloc[:, 1:].as_matrix()\n",
    "y_train = Xy_train.iloc[:, 0].as_matrix()"
   ]
  },
  {
   "cell_type": "code",
   "execution_count": 8,
   "metadata": {
    "collapsed": true
   },
   "outputs": [],
   "source": [
    "# Set up features and targets\n",
    "X_test = Xy_test.iloc[:, 1:].as_matrix()\n",
    "y_test = Xy_test.iloc[:, 0].as_matrix()"
   ]
  },
  {
   "cell_type": "code",
   "execution_count": 9,
   "metadata": {
    "collapsed": true
   },
   "outputs": [],
   "source": [
    "'''Standardize Data'''\n",
    "scale = StandardScaler()\n",
    "scale.fit(X_train)\n",
    "X_train = scale.transform(X_train)\n",
    "X_test = scale.transform(X_test)"
   ]
  },
  {
   "cell_type": "code",
   "execution_count": 10,
   "metadata": {
    "collapsed": true
   },
   "outputs": [],
   "source": [
    "'''Fit model on training data'''\n",
    "lg = LogisticRegression()  # penalty='l2' as default which is Ridge\n",
    "lg.fit(X_train, y_train)\n",
    "lg_predict = lg.predict(X_test)\n",
    "lg_predict_proba = lg.predict_proba(X_test)"
   ]
  },
  {
   "cell_type": "code",
   "execution_count": 11,
   "metadata": {},
   "outputs": [
    {
     "data": {
      "text/plain": [
       "array([1, 0, 1, ..., 1, 1, 0])"
      ]
     },
     "execution_count": 11,
     "metadata": {},
     "output_type": "execute_result"
    }
   ],
   "source": [
    "lg_predict"
   ]
  },
  {
   "cell_type": "code",
   "execution_count": 12,
   "metadata": {},
   "outputs": [
    {
     "data": {
      "text/plain": [
       "array([[ 0.26973418,  0.73026582],\n",
       "       [ 0.87959357,  0.12040643],\n",
       "       [ 0.22715099,  0.77284901],\n",
       "       ..., \n",
       "       [ 0.10756151,  0.89243849],\n",
       "       [ 0.06631875,  0.93368125],\n",
       "       [ 0.88690328,  0.11309672]])"
      ]
     },
     "execution_count": 12,
     "metadata": {},
     "output_type": "execute_result"
    }
   ],
   "source": [
    "lg_predict_proba"
   ]
  },
  {
   "cell_type": "code",
   "execution_count": 11,
   "metadata": {
    "collapsed": true
   },
   "outputs": [],
   "source": [
    "coefficients = list(lg.coef_.ravel())\n",
    "coefficients = [float(i) for i in coefficients]\n",
    "features = Xy_test.columns\n",
    "features = list(features[1:])"
   ]
  },
  {
   "cell_type": "code",
   "execution_count": 12,
   "metadata": {},
   "outputs": [
    {
     "data": {
      "text/html": [
       "<div>\n",
       "<style>\n",
       "    .dataframe thead tr:only-child th {\n",
       "        text-align: right;\n",
       "    }\n",
       "\n",
       "    .dataframe thead th {\n",
       "        text-align: left;\n",
       "    }\n",
       "\n",
       "    .dataframe tbody tr th {\n",
       "        vertical-align: top;\n",
       "    }\n",
       "</style>\n",
       "<table border=\"1\" class=\"dataframe\">\n",
       "  <thead>\n",
       "    <tr style=\"text-align: right;\">\n",
       "      <th></th>\n",
       "      <th>Coefficients</th>\n",
       "    </tr>\n",
       "    <tr>\n",
       "      <th>Features</th>\n",
       "      <th></th>\n",
       "    </tr>\n",
       "  </thead>\n",
       "  <tbody>\n",
       "    <tr>\n",
       "      <th>Wp</th>\n",
       "      <td>0.8938263518326638</td>\n",
       "    </tr>\n",
       "    <tr>\n",
       "      <th>ppg</th>\n",
       "      <td>0.4953629815028778</td>\n",
       "    </tr>\n",
       "    <tr>\n",
       "      <th>pApg</th>\n",
       "      <td>-0.60737590016257</td>\n",
       "    </tr>\n",
       "    <tr>\n",
       "      <th>FGp</th>\n",
       "      <td>0.03663209857794825</td>\n",
       "    </tr>\n",
       "    <tr>\n",
       "      <th>3Pp</th>\n",
       "      <td>0.16515379006799288</td>\n",
       "    </tr>\n",
       "    <tr>\n",
       "      <th>FTp</th>\n",
       "      <td>0.10720118318859873</td>\n",
       "    </tr>\n",
       "    <tr>\n",
       "      <th>ORBpg</th>\n",
       "      <td>-0.03652538257403994</td>\n",
       "    </tr>\n",
       "    <tr>\n",
       "      <th>RBpg</th>\n",
       "      <td>0.10620179757363848</td>\n",
       "    </tr>\n",
       "    <tr>\n",
       "      <th>ASTpg</th>\n",
       "      <td>-0.07712333708834859</td>\n",
       "    </tr>\n",
       "    <tr>\n",
       "      <th>STLpg</th>\n",
       "      <td>0.009998999434364188</td>\n",
       "    </tr>\n",
       "    <tr>\n",
       "      <th>BLKpg</th>\n",
       "      <td>-0.04900286003677375</td>\n",
       "    </tr>\n",
       "    <tr>\n",
       "      <th>TOpg</th>\n",
       "      <td>0.02296288822430123</td>\n",
       "    </tr>\n",
       "    <tr>\n",
       "      <th>PFpg</th>\n",
       "      <td>-0.11494723238944841</td>\n",
       "    </tr>\n",
       "    <tr>\n",
       "      <th>sos</th>\n",
       "      <td>0.36771149591557045</td>\n",
       "    </tr>\n",
       "    <tr>\n",
       "      <th>OPppg</th>\n",
       "      <td>-0.8513481908438599</td>\n",
       "    </tr>\n",
       "    <tr>\n",
       "      <th>OPpApg</th>\n",
       "      <td>1.0153481689600128</td>\n",
       "    </tr>\n",
       "    <tr>\n",
       "      <th>OPFGp</th>\n",
       "      <td>-0.1806017747885488</td>\n",
       "    </tr>\n",
       "    <tr>\n",
       "      <th>OP3Pp</th>\n",
       "      <td>-0.12376493029208023</td>\n",
       "    </tr>\n",
       "    <tr>\n",
       "      <th>OPFTp</th>\n",
       "      <td>-0.023149441661409274</td>\n",
       "    </tr>\n",
       "    <tr>\n",
       "      <th>OPORBpg</th>\n",
       "      <td>-0.012683071934721166</td>\n",
       "    </tr>\n",
       "    <tr>\n",
       "      <th>OPRBpg</th>\n",
       "      <td>-0.050534809351413294</td>\n",
       "    </tr>\n",
       "    <tr>\n",
       "      <th>OPASTpg</th>\n",
       "      <td>0.0918670906975911</td>\n",
       "    </tr>\n",
       "    <tr>\n",
       "      <th>OPSTLpg</th>\n",
       "      <td>-0.09760184199758035</td>\n",
       "    </tr>\n",
       "    <tr>\n",
       "      <th>OPBLKpg</th>\n",
       "      <td>-0.1142489629168766</td>\n",
       "    </tr>\n",
       "    <tr>\n",
       "      <th>OPTOpg</th>\n",
       "      <td>0.07974368696500471</td>\n",
       "    </tr>\n",
       "    <tr>\n",
       "      <th>OPPFpg</th>\n",
       "      <td>0.10734493311624839</td>\n",
       "    </tr>\n",
       "    <tr>\n",
       "      <th>OPsos</th>\n",
       "      <td>-0.5837788779133163</td>\n",
       "    </tr>\n",
       "  </tbody>\n",
       "</table>\n",
       "</div>"
      ],
      "text/plain": [
       "                   Coefficients\n",
       "Features                       \n",
       "Wp           0.8938263518326638\n",
       "ppg          0.4953629815028778\n",
       "pApg          -0.60737590016257\n",
       "FGp         0.03663209857794825\n",
       "3Pp         0.16515379006799288\n",
       "FTp         0.10720118318859873\n",
       "ORBpg      -0.03652538257403994\n",
       "RBpg        0.10620179757363848\n",
       "ASTpg      -0.07712333708834859\n",
       "STLpg      0.009998999434364188\n",
       "BLKpg      -0.04900286003677375\n",
       "TOpg        0.02296288822430123\n",
       "PFpg       -0.11494723238944841\n",
       "sos         0.36771149591557045\n",
       "OPppg       -0.8513481908438599\n",
       "OPpApg       1.0153481689600128\n",
       "OPFGp       -0.1806017747885488\n",
       "OP3Pp      -0.12376493029208023\n",
       "OPFTp     -0.023149441661409274\n",
       "OPORBpg   -0.012683071934721166\n",
       "OPRBpg    -0.050534809351413294\n",
       "OPASTpg      0.0918670906975911\n",
       "OPSTLpg    -0.09760184199758035\n",
       "OPBLKpg     -0.1142489629168766\n",
       "OPTOpg      0.07974368696500471\n",
       "OPPFpg      0.10734493311624839\n",
       "OPsos       -0.5837788779133163"
      ]
     },
     "execution_count": 12,
     "metadata": {},
     "output_type": "execute_result"
    }
   ],
   "source": [
    "coefficient_df = pd.DataFrame(np.column_stack([features, coefficients]), \n",
    "                               columns=['Features', 'Coefficients'])\n",
    "\n",
    "coefficient_df.set_index('Features')"
   ]
  },
  {
   "cell_type": "code",
   "execution_count": 13,
   "metadata": {
    "collapsed": true
   },
   "outputs": [],
   "source": [
    "# coefficient_df.Coefficients = coefficient_df.Coefficients.round(2)\n",
    "    \n",
    "# coefficient_df"
   ]
  },
  {
   "cell_type": "code",
   "execution_count": 14,
   "metadata": {},
   "outputs": [
    {
     "data": {
      "text/plain": [
       "{'C': 1.0,\n",
       " 'class_weight': None,\n",
       " 'dual': False,\n",
       " 'fit_intercept': True,\n",
       " 'intercept_scaling': 1,\n",
       " 'max_iter': 100,\n",
       " 'multi_class': 'ovr',\n",
       " 'n_jobs': 1,\n",
       " 'penalty': 'l2',\n",
       " 'random_state': None,\n",
       " 'solver': 'liblinear',\n",
       " 'tol': 0.0001,\n",
       " 'verbose': 0,\n",
       " 'warm_start': False}"
      ]
     },
     "execution_count": 14,
     "metadata": {},
     "output_type": "execute_result"
    }
   ],
   "source": [
    "lg.get_params()"
   ]
  },
  {
   "cell_type": "code",
   "execution_count": 15,
   "metadata": {},
   "outputs": [
    {
     "data": {
      "text/plain": [
       "array([[ 0.07007243,  0.92992757],\n",
       "       [ 0.95646736,  0.04353264],\n",
       "       [ 0.6360827 ,  0.3639173 ],\n",
       "       ..., \n",
       "       [ 0.43579947,  0.56420053],\n",
       "       [ 0.39337127,  0.60662873],\n",
       "       [ 0.12114456,  0.87885544]])"
      ]
     },
     "execution_count": 15,
     "metadata": {},
     "output_type": "execute_result"
    }
   ],
   "source": [
    "lg_predict_proba"
   ]
  },
  {
   "cell_type": "code",
   "execution_count": 16,
   "metadata": {
    "collapsed": true
   },
   "outputs": [],
   "source": [
    "y_score = lg_predict_proba[:, [0]]"
   ]
  },
  {
   "cell_type": "code",
   "execution_count": 17,
   "metadata": {
    "scrolled": true
   },
   "outputs": [
    {
     "name": "stdout",
     "output_type": "stream",
     "text": [
      "Accuracy: 0.78 (% predicted correctly)\n",
      "Precision: 0.78 (predicted positives % correct)\n",
      "Recall: 0.77 (% of positives predicted correctly)\n",
      "f1 Score: 0.78 (weighted average of Precision and Recall)\n"
     ]
    }
   ],
   "source": [
    "lg_accuracy = metrics.accuracy_score(y_test, lg_predict)\n",
    "lg_precision = metrics.precision_score(y_test, lg_predict)\n",
    "lg_recall = metrics.recall_score(y_test, lg_predict)\n",
    "lg_f1 = metrics.f1_score(y_test, lg_predict)\n",
    "print('Accuracy: {:.2f} (% predicted correctly)'.format(lg_accuracy))\n",
    "print('Precision: {:.2f} (predicted positives % correct)'.format(lg_precision))\n",
    "print('Recall: {:.2f} (% of positives predicted correctly)'.format(lg_recall))\n",
    "print('f1 Score: {:.2f} (weighted average of Precision and Recall)'.format(lg_f1))"
   ]
  },
  {
   "cell_type": "code",
   "execution_count": 18,
   "metadata": {},
   "outputs": [
    {
     "data": {
      "image/png": "[encoded data removed]",
      "text/plain": [
       "<matplotlib.figure.Figure at 0x1a14aa7898>"
      ]
     },
     "metadata": {},
     "output_type": "display_data"
    }
   ],
   "source": [
    "fpr, tpr, threshold = metrics.roc_curve(y_test, y_score)\n",
    "roc_auc = metrics.roc_auc_score(y_test, y_score)\n",
    "plt.plot(tpr, fpr, label= 'AUC= {:.2f}'.format(roc_auc));"
   ]
  },
  {
   "cell_type": "code",
   "execution_count": 19,
   "metadata": {},
   "outputs": [
    {
     "data": {
      "text/plain": [
       "0.13960762406247926"
      ]
     },
     "execution_count": 19,
     "metadata": {},
     "output_type": "execute_result"
    }
   ],
   "source": [
    "metrics.roc_auc_score(y_test, y_score)"
   ]
  },
  {
   "cell_type": "code",
   "execution_count": 20,
   "metadata": {},
   "outputs": [
    {
     "data": {
      "text/plain": [
       "4886"
      ]
     },
     "execution_count": 20,
     "metadata": {},
     "output_type": "execute_result"
    }
   ],
   "source": [
    "np.isnan(y_train)[np.isnan(y_train) == False].size"
   ]
  },
  {
   "cell_type": "code",
   "execution_count": 21,
   "metadata": {
    "collapsed": true
   },
   "outputs": [],
   "source": [
    "'''Fit model on training data'''\n",
    "lasso = LogisticRegression(penalty='l1')\n",
    "lasso.fit(X_train, y_train)\n",
    "lasso_predict = lg.predict(X_test)\n",
    "lasso_predict_proba = lg.predict_proba(X_test)"
   ]
  },
  {
   "cell_type": "code",
   "execution_count": 22,
   "metadata": {},
   "outputs": [
    {
     "name": "stdout",
     "output_type": "stream",
     "text": [
      "Accuracy: 0.78 (% predicted correctly)\n",
      "Precision: 0.78 (predicted positives % correct)\n",
      "Recall: 0.77 (% of positives predicted correctly)\n",
      "f1 Score: 0.78 (weighted average of Precision and Recall)\n"
     ]
    }
   ],
   "source": [
    "lasso_accuracy = metrics.accuracy_score(y_test, lasso_predict)\n",
    "lasso_precision = metrics.precision_score(y_test, lasso_predict)\n",
    "lasso_recall = metrics.recall_score(y_test, lasso_predict)\n",
    "lasso_f1 = metrics.f1_score(y_test, lasso_predict)\n",
    "print('Accuracy: {:.2f} (% predicted correctly)'.format(lasso_accuracy))\n",
    "print('Precision: {:.2f} (predicted positives % correct)'.format(lasso_precision))\n",
    "print('Recall: {:.2f} (% of positives predicted correctly)'.format(lasso_recall))\n",
    "print('f1 Score: {:.2f} (weighted average of Precision and Recall)'.format(lasso_f1))"
   ]
  },
  {
   "cell_type": "markdown",
   "metadata": {},
   "source": [
    "## Cross Validation"
   ]
  },
  {
   "cell_type": "code",
   "execution_count": 23,
   "metadata": {},
   "outputs": [
    {
     "name": "stdout",
     "output_type": "stream",
     "text": [
      "Logistic Regression (Ridge) Accuracy: 0.79\n",
      "Logistic Regression (Lasso) Accuracy: 0.79\n"
     ]
    }
   ],
   "source": [
    "logcv = LogisticRegression()\n",
    "lassocv = LogisticRegression(penalty='l1')\n",
    "log_cv_acc = cross_validate(logcv, X_train, y_train, scoring='accuracy', cv=5, return_train_score=False)\n",
    "lasso_cv_acc = cross_validate(lassocv, X_train, y_train, scoring='accuracy', cv=5, return_train_score=False)\n",
    "print('Logistic Regression (Ridge) Accuracy: {:.2f}'.format(log_cv_acc['test_score'].mean()))\n",
    "print('Logistic Regression (Lasso) Accuracy: {:.2f}'.format(lasso_cv_acc['test_score'].mean()))"
   ]
  },
  {
   "cell_type": "markdown",
   "metadata": {},
   "source": [
    "Cross Validation improves score by .01 or 1%"
   ]
  },
  {
   "cell_type": "markdown",
   "metadata": {},
   "source": [
    "## Optimize Cs!!! Can't figure out"
   ]
  },
  {
   "cell_type": "code",
   "execution_count": 35,
   "metadata": {
    "collapsed": true
   },
   "outputs": [],
   "source": [
    "Cs = list(np.linspace(0.1, 3, 100))\n",
    "accs = []\n",
    "for c in Cs:\n",
    "    lgc = LogisticRegression(C=c)\n",
    "    lgc.fit(X_train, y_train)\n",
    "    lgc_acc = metrics.accuracy_score(y_test, lg_predict)\n",
    "    accs.append(lgc_acc) "
   ]
  },
  {
   "cell_type": "code",
   "execution_count": 36,
   "metadata": {},
   "outputs": [
    {
     "data": {
      "image/png": "[encoded data removed]",
      "text/plain": [
       "<matplotlib.figure.Figure at 0x1a14dffeb8>"
      ]
     },
     "metadata": {},
     "output_type": "display_data"
    }
   ],
   "source": [
    "## initialize the axes\n",
    "fig = plt.figure(figsize=(8,4))\n",
    "ax = fig.add_subplot(111)\n",
    "\n",
    "## format axes\n",
    "ax.set_ylabel('C')\n",
    "ax.set_title('C Optimization')\n",
    "\n",
    "line, = ax.plot(Cs, accs, color='blue', lw=2)"
   ]
  },
  {
   "cell_type": "code",
   "execution_count": 37,
   "metadata": {},
   "outputs": [
    {
     "data": {
      "text/plain": [
       "{'C': 0.94949494949494939}"
      ]
     },
     "execution_count": 37,
     "metadata": {},
     "output_type": "execute_result"
    }
   ],
   "source": [
    "'''sklearn.model_selection.cross_val_score(estimator, X, y=None, groups=None, scoring=None, cv=None, \n",
    "n_jobs=1, verbose=0, fit_params=None, pre_dispatch=‘2*n_jobs’)\n",
    "\n",
    "class sklearn.model_selection.GridSearchCV(estimator, param_grid, scoring=None, fit_params=None, \n",
    "n_jobs=1, iid=True, refit=True, cv=None, verbose=0, pre_dispatch=‘2*n_jobs’, error_score=’raise’, \n",
    "return_train_score=’warn’)\n",
    "'''\n",
    "grid_search_results = GridSearchCV(lg, param_grid={'C':Cs}, scoring='accuracy', cv=5)\n",
    "           \n",
    "grid_search_results.fit(X_train, y_train)\n",
    "\n",
    "grid_search_results.best_params_"
   ]
  },
  {
   "cell_type": "code",
   "execution_count": 26,
   "metadata": {
    "collapsed": true
   },
   "outputs": [],
   "source": [
    "# logregrescv = LogisticRegressionCV(Cs=10, fit_intercept=True, cv=5, dual=False, penalty=’l2’, scoring=None)"
   ]
  },
  {
   "cell_type": "code",
   "execution_count": null,
   "metadata": {
    "collapsed": true
   },
   "outputs": [],
   "source": []
  }
 ],
 "metadata": {
  "kernelspec": {
   "display_name": "Python 3",
   "language": "python",
   "name": "python3"
  },
  "language_info": {
   "codemirror_mode": {
    "name": "ipython",
    "version": 3
   },
   "file_extension": ".py",
   "mimetype": "text/x-python",
   "name": "python",
   "nbconvert_exporter": "python",
   "pygments_lexer": "ipython3",
   "version": "3.6.2"
  }
 },
 "nbformat": 4,
 "nbformat_minor": 2
}
