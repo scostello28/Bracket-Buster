{
 "cells": [
  {
   "cell_type": "code",
   "execution_count": 28,
   "metadata": {
    "collapsed": true
   },
   "outputs": [],
   "source": [
    "import pandas as pd\n",
    "import numpy as np\n",
    "import pickle"
   ]
  },
  {
   "cell_type": "code",
   "execution_count": 37,
   "metadata": {},
   "outputs": [
    {
     "data": {
      "text/plain": [
       "season2018     1201\n",
       "season2017     1187\n",
       "tourney2017      40\n",
       "Name: GameType, dtype: int64"
      ]
     },
     "execution_count": 37,
     "metadata": {},
     "output_type": "execute_result"
    }
   ],
   "source": [
    "gamesupto2018tourney = pd.read_pickle('/Users/sec/galvanize/capstone1/games_up_to_2018_tourney.pkl')\n",
    "gamesupto2018tourney['GameType'].value_counts()"
   ]
  },
  {
   "cell_type": "code",
   "execution_count": 38,
   "metadata": {},
   "outputs": [
    {
     "data": {
      "text/plain": [
       "season2017     1187\n",
       "tourney2017      40\n",
       "Name: GameType, dtype: int64"
      ]
     },
     "execution_count": 38,
     "metadata": {},
     "output_type": "execute_result"
    }
   ],
   "source": [
    "gamesupto2018season = pd.read_pickle('/Users/sec/galvanize/capstone1/games_up_to_2018_season.pkl')\n",
    "gamesupto2018season['GameType'].value_counts()"
   ]
  },
  {
   "cell_type": "code",
   "execution_count": 39,
   "metadata": {},
   "outputs": [
    {
     "data": {
      "text/plain": [
       "season2017    1187\n",
       "Name: GameType, dtype: int64"
      ]
     },
     "execution_count": 39,
     "metadata": {},
     "output_type": "execute_result"
    }
   ],
   "source": [
    "gamesupto2017tourney = pd.read_pickle('/Users/sec/galvanize/capstone1/games_up_to_2017_tourney.pkl')\n",
    "gamesupto2017tourney['GameType'].value_counts()"
   ]
  },
  {
   "cell_type": "code",
   "execution_count": 40,
   "metadata": {},
   "outputs": [
    {
     "data": {
      "text/plain": [
       "season2018     1201\n",
       "season2017     1187\n",
       "tourney2017      40\n",
       "tourney2018      23\n",
       "Name: GameType, dtype: int64"
      ]
     },
     "execution_count": 40,
     "metadata": {},
     "output_type": "execute_result"
    }
   ],
   "source": [
    "allgames = pd.read_pickle('/Users/sec/galvanize/capstone1/games_all_games.pkl')\n",
    "allgames['GameType'].value_counts()"
   ]
  },
  {
   "cell_type": "code",
   "execution_count": 42,
   "metadata": {},
   "outputs": [
    {
     "data": {
      "text/plain": [
       "season2017    351\n",
       "Name: GameType, dtype: int64"
      ]
     },
     "execution_count": 42,
     "metadata": {},
     "output_type": "execute_result"
    }
   ],
   "source": [
    "finalstats2017 = pd.read_pickle('/Users/sec/galvanize/capstone1/games_2017_final_stats.pkl')\n",
    "finalstats2017['GameType'].value_counts()"
   ]
  },
  {
   "cell_type": "code",
   "execution_count": 43,
   "metadata": {},
   "outputs": [
    {
     "data": {
      "text/plain": [
       "season2018    351\n",
       "Name: GameType, dtype: int64"
      ]
     },
     "execution_count": 43,
     "metadata": {},
     "output_type": "execute_result"
    }
   ],
   "source": [
    "finalstats2018 = pd.read_pickle('/Users/sec/galvanize/capstone1/games_2018_final_stats.pkl')\n",
    "finalstats2018['GameType'].value_counts()"
   ]
  },
  {
   "cell_type": "code",
   "execution_count": null,
   "metadata": {
    "collapsed": true
   },
   "outputs": [],
   "source": []
  }
 ],
 "metadata": {
  "kernelspec": {
   "display_name": "Python 3",
   "language": "python",
   "name": "python3"
  },
  "language_info": {
   "codemirror_mode": {
    "name": "ipython",
    "version": 3
   },
   "file_extension": ".py",
   "mimetype": "text/x-python",
   "name": "python",
   "nbconvert_exporter": "python",
   "pygments_lexer": "ipython3",
   "version": "3.6.2"
  }
 },
 "nbformat": 4,
 "nbformat_minor": 2
}
