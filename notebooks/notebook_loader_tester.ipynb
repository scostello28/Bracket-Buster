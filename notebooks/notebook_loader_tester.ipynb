{
 "cells": [
  {
   "cell_type": "code",
   "execution_count": 2,
   "metadata": {},
   "outputs": [],
   "source": [
    "import pickle\n",
    "import pandas as pd\n",
    "import numpy as np\n",
    "\n",
    "from sklearn.model_selection import GridSearchCV\n",
    "from sklearn import metrics\n",
    "from sklearn.preprocessing import StandardScaler\n",
    "from sklearn.linear_model import LogisticRegression\n",
    "from sklearn.ensemble import RandomForestClassifier, GradientBoostingClassifier, AdaBoostClassifier\n",
    "from sklearn.svm import SVC\n",
    "\n",
    "from sklearn.externals import joblib"
   ]
  },
  {
   "cell_type": "code",
   "execution_count": 6,
   "metadata": {},
   "outputs": [],
   "source": [
    "def games_up_to_2018_season_filter(df):\n",
    "    '''Filter for games up to 2018 season'''\n",
    "    notourney2018 = (df['GameType'] != 'tourney2018')\n",
    "    noseason2018 = (df['GameType'] != 'season2018')\n",
    "    games_up_to_2018_season = df[notourney2018 & noseason2018]\n",
    "    return games_up_to_2018_season\n",
    "\n",
    "def season2018_filter(df):\n",
    "    '''Filter for games up to 2018 season'''\n",
    "    season2018cond = (df['GameType'] == 'season2018')\n",
    "    season2018 = df[season2018cond]\n",
    "    return season2018\n",
    "\n",
    "def data_for_model(df):\n",
    "    '''\n",
    "    Inputs: Model DataFrame\n",
    "    Outputs: Vectors for model\n",
    "    '''\n",
    "\n",
    "    games_up_to_2018_season = games_up_to_2018_season_filter(df)\n",
    "    season2018 = season2018_filter(df)\n",
    "\n",
    "    Xy_train = games_up_to_2018_season[['W', 'Wp', 'ppg', 'pApg', 'FGp',\n",
    "        '3Pp', 'FTp', 'ORBpg', 'RBpg', 'ASTpg', 'STLpg', 'BLKpg', 'TOpg',\n",
    "        'PFpg', 'sos', 'exp_factor', 'C0', 'C1', 'C2', 'F0', 'F1', 'F2',\n",
    "        'G0', 'G1', 'G2', 'G3', 'OPWp', 'OPppg', 'OPpApg', 'OPFGp', 'OP3Pp',\n",
    "        'OPFTp', 'OPORBpg', 'OPRBpg', 'OPASTpg', 'OPSTLpg', 'OPBLKpg',\n",
    "        'OPTOpg', 'OPPFpg', 'OPsos', 'OPexp_factor', 'C0', 'C1', 'C2',\n",
    "        'F0', 'F1', 'F2', 'G0', 'G1', 'G2', 'G3']]\n",
    "\n",
    "    Xy_test = season2018[['W', 'Wp', 'ppg', 'pApg', 'FGp', '3Pp', 'FTp',\n",
    "        'ORBpg', 'RBpg', 'ASTpg', 'STLpg', 'BLKpg', 'TOpg', 'PFpg', 'sos',\n",
    "        'exp_factor', 'C0', 'C1', 'C2', 'F0', 'F1', 'F2', 'G0', 'G1', 'G2',\n",
    "        'G3', 'OPWp', 'OPppg', 'OPpApg', 'OPFGp', 'OP3Pp', 'OPFTp',\n",
    "        'OPORBpg', 'OPRBpg', 'OPASTpg', 'OPSTLpg', 'OPBLKpg', 'OPTOpg',\n",
    "        'OPPFpg', 'OPsos', 'OPexp_factor', 'C0', 'C1', 'C2', 'F0', 'F1',\n",
    "        'F2', 'G0', 'G1', 'G2', 'G3']]\n",
    "\n",
    "    '''Set up features and targets'''\n",
    "    X_train = Xy_train.iloc[:, 1:].as_matrix()\n",
    "    y_train = Xy_train.iloc[:, 0].as_matrix()\n",
    "    X_test = Xy_test.iloc[:, 1:].as_matrix()\n",
    "    y_test = Xy_test.iloc[:, 0].as_matrix()\n",
    "\n",
    "    '''Standardize data'''\n",
    "    scale = StandardScaler()\n",
    "    scale.fit(X_train)\n",
    "    X_train = scale.transform(X_train)\n",
    "    X_test = scale.transform(X_test)\n",
    "\n",
    "    return X_train, y_train, X_test, y_test"
   ]
  },
  {
   "cell_type": "code",
   "execution_count": 8,
   "metadata": {},
   "outputs": [],
   "source": [
    "#load data\n",
    "'''Read in model data.'''\n",
    "data_df = pd.read_pickle('../model_data/gamelog_5_exp_clust.pkl')\n",
    "X_train, y_train, X_test, y_test = data_for_model(data_df)\n",
    "data = (X_train, y_train, X_test, y_test)"
   ]
  },
  {
   "cell_type": "code",
   "execution_count": 13,
   "metadata": {},
   "outputs": [
    {
     "name": "stdout",
     "output_type": "stream",
     "text": [
      "0.6660951564509215\n"
     ]
    }
   ],
   "source": [
    "# load the model from disk\n",
    "filename = 'lr_finalized_model.sav'\n",
    "loaded_model = joblib.load(filename)\n",
    "result = loaded_model.score(X_test, y_test)\n",
    "print(result) "
   ]
  },
  {
   "cell_type": "code",
   "execution_count": 15,
   "metadata": {},
   "outputs": [
    {
     "name": "stdout",
     "output_type": "stream",
     "text": [
      "Test score: 66.61 %\n"
     ]
    }
   ],
   "source": [
    "pkl_filename = 'lr_best_params.pkl'\n",
    "\n",
    "with open(pkl_filename, 'rb') as file:  \n",
    "    pickle_model = pickle.load(file)\n",
    "\n",
    "# Calculate the accuracy score and predict target values\n",
    "score = pickle_model.score(X_test, y_test)  \n",
    "print(\"Test score: {0:.2f} %\".format(100 * score))  \n",
    "Ypredict = pickle_model.predict(X_test)  "
   ]
  },
  {
   "cell_type": "code",
   "execution_count": 18,
   "metadata": {},
   "outputs": [],
   "source": [
    "pkl_filename = 'lr_best_params.pkl'\n",
    "\n",
    "with open(pkl_filename, 'rb') as file:  \n",
    "    pickle_params = pickle.load(file)"
   ]
  },
  {
   "cell_type": "code",
   "execution_count": 19,
   "metadata": {},
   "outputs": [
    {
     "data": {
      "text/plain": [
       "GridSearchCV(cv=5, error_score='raise',\n",
       "       estimator=LogisticRegression(C=1.0, class_weight=None, dual=False, fit_intercept=True,\n",
       "          intercept_scaling=1, max_iter=100, multi_class='ovr', n_jobs=1,\n",
       "          penalty='l2', random_state=None, solver='liblinear', tol=0.0001,\n",
       "          verbose=0, warm_start=False),\n",
       "       fit_params=None, iid=True, n_jobs=-1,\n",
       "       param_grid={'penalty': ['l2', 'l1'], 'C': [0.1, 0.2, 0.30000000000000004, 0.4, 0.5, 0.6, 0.7000000000000001, 0.8, 0.9]},\n",
       "       pre_dispatch='2*n_jobs', refit=True, return_train_score='warn',\n",
       "       scoring='accuracy', verbose=1)"
      ]
     },
     "execution_count": 19,
     "metadata": {},
     "output_type": "execute_result"
    }
   ],
   "source": [
    "pickle_params"
   ]
  },
  {
   "cell_type": "code",
   "execution_count": 48,
   "metadata": {},
   "outputs": [
    {
     "name": "stdout",
     "output_type": "stream",
     "text": [
      "{'C': 0.1, 'penalty': 'l1'}\n",
      "\n"
     ]
    }
   ],
   "source": [
    "filepath = 'lr_best_params.txt'\n",
    "\n",
    "# with open(filepath, \"r\") as text_file:\n",
    "text_file = open(filepath, 'r')\n",
    " \n",
    "params = text_file.read()\n",
    "print(params)"
   ]
  },
  {
   "cell_type": "code",
   "execution_count": 49,
   "metadata": {},
   "outputs": [],
   "source": [
    "params = params.strip()\n",
    "params = params.replace(\"{\", \"\")\n",
    "params = params.replace(\"}\", \"\")\n",
    "params = params.replace(\" \", \"\")"
   ]
  },
  {
   "cell_type": "code",
   "execution_count": 50,
   "metadata": {},
   "outputs": [
    {
     "data": {
      "text/plain": [
       "\"'C':0.1,'penalty':'l1'\""
      ]
     },
     "execution_count": 50,
     "metadata": {},
     "output_type": "execute_result"
    }
   ],
   "source": [
    "params"
   ]
  },
  {
   "cell_type": "code",
   "execution_count": 33,
   "metadata": {},
   "outputs": [
    {
     "ename": "ValueError",
     "evalue": "dictionary update sequence element #0 has length 1; 2 is required",
     "output_type": "error",
     "traceback": [
      "\u001b[0;31m-----------------------------------------\u001b[0m",
      "\u001b[0;31mValueError\u001b[0mTraceback (most recent call last)",
      "\u001b[0;32m<ipython-input-33-f4e8bcd84864>\u001b[0m in \u001b[0;36m<module>\u001b[0;34m()\u001b[0m\n\u001b[0;32m----> 1\u001b[0;31m \u001b[0mparams_dict\u001b[0m \u001b[0;34m=\u001b[0m \u001b[0mdict\u001b[0m\u001b[0;34m(\u001b[0m\u001b[0mparams\u001b[0m\u001b[0;34m)\u001b[0m\u001b[0;34m\u001b[0m\u001b[0m\n\u001b[0m",
      "\u001b[0;31mValueError\u001b[0m: dictionary update sequence element #0 has length 1; 2 is required"
     ]
    }
   ],
   "source": [
    "params_dict = dict(params)"
   ]
  },
  {
   "cell_type": "code",
   "execution_count": null,
   "metadata": {},
   "outputs": [],
   "source": []
  }
 ],
 "metadata": {
  "kernelspec": {
   "display_name": "Python 3",
   "language": "python",
   "name": "python3"
  },
  "language_info": {
   "codemirror_mode": {
    "name": "ipython",
    "version": 3
   },
   "file_extension": ".py",
   "mimetype": "text/x-python",
   "name": "python",
   "nbconvert_exporter": "python",
   "pygments_lexer": "ipython3",
   "version": "3.6.5"
  }
 },
 "nbformat": 4,
 "nbformat_minor": 2
}
