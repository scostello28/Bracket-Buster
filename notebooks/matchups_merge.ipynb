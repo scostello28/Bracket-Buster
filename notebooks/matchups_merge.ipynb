{
 "cells": [
  {
   "cell_type": "code",
   "execution_count": 1,
   "metadata": {
    "collapsed": true
   },
   "outputs": [],
   "source": [
    "import pandas as pd\n",
    "import numpy as np"
   ]
  },
  {
   "cell_type": "code",
   "execution_count": 2,
   "metadata": {},
   "outputs": [],
   "source": [
    "games = pd.read_pickle('/Users/sec/galvanize/capstone1/test2.pkl')"
   ]
  },
  {
   "cell_type": "code",
   "execution_count": 3,
   "metadata": {},
   "outputs": [
    {
     "data": {
      "text/plain": [
       "Index(['Date', 'Opp', 'W', 'GameType', 'Ws', 'Wp', 'ppg', 'pApg', 'FGp', '3Pp',\n",
       "       'FTp', 'ORBpg', 'RBpg', 'ASTpg', 'STLpg', 'BLKpg', 'TOpg', 'PFpg', 'Tm',\n",
       "       'sos', 'matchup', 'ID'],\n",
       "      dtype='object')"
      ]
     },
     "execution_count": 3,
     "metadata": {},
     "output_type": "execute_result"
    }
   ],
   "source": [
    "games.columns"
   ]
  },
  {
   "cell_type": "code",
   "execution_count": 4,
   "metadata": {},
   "outputs": [],
   "source": [
    "games['count'] = games.groupby('ID').cumcount() + 1"
   ]
  },
  {
   "cell_type": "code",
   "execution_count": 5,
   "metadata": {},
   "outputs": [],
   "source": [
    "games1 = games[games['count'] == 1]\n",
    "games2 = games[games['count'] == 2]"
   ]
  },
  {
   "cell_type": "code",
   "execution_count": 6,
   "metadata": {},
   "outputs": [
    {
     "data": {
      "text/plain": [
       "Index(['Date', 'Opp', 'W', 'GameType', 'Ws', 'Wp', 'ppg', 'pApg', 'FGp', '3Pp',\n",
       "       'FTp', 'ORBpg', 'RBpg', 'ASTpg', 'STLpg', 'BLKpg', 'TOpg', 'PFpg', 'Tm',\n",
       "       'sos', 'matchup', 'ID', 'count'],\n",
       "      dtype='object')"
      ]
     },
     "execution_count": 6,
     "metadata": {},
     "output_type": "execute_result"
    }
   ],
   "source": [
    "games2.columns"
   ]
  },
  {
   "cell_type": "code",
   "execution_count": 7,
   "metadata": {},
   "outputs": [
    {
     "data": {
      "text/html": [
       "<div>\n",
       "<style>\n",
       "    .dataframe thead tr:only-child th {\n",
       "        text-align: right;\n",
       "    }\n",
       "\n",
       "    .dataframe thead th {\n",
       "        text-align: left;\n",
       "    }\n",
       "\n",
       "    .dataframe tbody tr th {\n",
       "        vertical-align: top;\n",
       "    }\n",
       "</style>\n",
       "<table border=\"1\" class=\"dataframe\">\n",
       "  <thead>\n",
       "    <tr style=\"text-align: right;\">\n",
       "      <th></th>\n",
       "      <th>Wp</th>\n",
       "      <th>ppg</th>\n",
       "      <th>pApg</th>\n",
       "      <th>FGp</th>\n",
       "      <th>3Pp</th>\n",
       "      <th>FTp</th>\n",
       "      <th>ORBpg</th>\n",
       "      <th>RBpg</th>\n",
       "      <th>ASTpg</th>\n",
       "      <th>STLpg</th>\n",
       "      <th>BLKpg</th>\n",
       "      <th>TOpg</th>\n",
       "      <th>PFpg</th>\n",
       "      <th>Tm</th>\n",
       "      <th>sos</th>\n",
       "      <th>ID</th>\n",
       "    </tr>\n",
       "  </thead>\n",
       "  <tbody>\n",
       "    <tr>\n",
       "      <th>150</th>\n",
       "      <td>0.800000</td>\n",
       "      <td>80.4</td>\n",
       "      <td>74.6</td>\n",
       "      <td>0.4754</td>\n",
       "      <td>0.4012</td>\n",
       "      <td>0.6840</td>\n",
       "      <td>10.4</td>\n",
       "      <td>33.6</td>\n",
       "      <td>13.6</td>\n",
       "      <td>6.2</td>\n",
       "      <td>3.0</td>\n",
       "      <td>11.8</td>\n",
       "      <td>22.2</td>\n",
       "      <td>arkansas</td>\n",
       "      <td>2.95</td>\n",
       "      <td>alabama,arkansas,2017-02-01</td>\n",
       "    </tr>\n",
       "    <tr>\n",
       "      <th>195</th>\n",
       "      <td>0.411765</td>\n",
       "      <td>70.2</td>\n",
       "      <td>73.0</td>\n",
       "      <td>0.4120</td>\n",
       "      <td>0.3220</td>\n",
       "      <td>0.6860</td>\n",
       "      <td>7.2</td>\n",
       "      <td>36.2</td>\n",
       "      <td>14.4</td>\n",
       "      <td>5.4</td>\n",
       "      <td>2.2</td>\n",
       "      <td>13.0</td>\n",
       "      <td>20.0</td>\n",
       "      <td>army</td>\n",
       "      <td>-4.65</td>\n",
       "      <td>american,army,2017-01-14</td>\n",
       "    </tr>\n",
       "    <tr>\n",
       "      <th>200</th>\n",
       "      <td>0.360000</td>\n",
       "      <td>73.0</td>\n",
       "      <td>81.4</td>\n",
       "      <td>0.4444</td>\n",
       "      <td>0.3588</td>\n",
       "      <td>0.5966</td>\n",
       "      <td>7.8</td>\n",
       "      <td>30.8</td>\n",
       "      <td>17.2</td>\n",
       "      <td>6.8</td>\n",
       "      <td>1.6</td>\n",
       "      <td>14.0</td>\n",
       "      <td>21.6</td>\n",
       "      <td>army</td>\n",
       "      <td>-4.65</td>\n",
       "      <td>american,army,2017-02-11</td>\n",
       "    </tr>\n",
       "    <tr>\n",
       "      <th>203</th>\n",
       "      <td>0.400000</td>\n",
       "      <td>64.6</td>\n",
       "      <td>64.2</td>\n",
       "      <td>0.4460</td>\n",
       "      <td>0.3254</td>\n",
       "      <td>0.6176</td>\n",
       "      <td>7.6</td>\n",
       "      <td>33.6</td>\n",
       "      <td>14.2</td>\n",
       "      <td>5.4</td>\n",
       "      <td>1.8</td>\n",
       "      <td>19.8</td>\n",
       "      <td>18.0</td>\n",
       "      <td>army</td>\n",
       "      <td>-4.65</td>\n",
       "      <td>american,army,2017-02-28</td>\n",
       "    </tr>\n",
       "    <tr>\n",
       "      <th>214</th>\n",
       "      <td>0.666667</td>\n",
       "      <td>74.6</td>\n",
       "      <td>81.2</td>\n",
       "      <td>0.4142</td>\n",
       "      <td>0.3590</td>\n",
       "      <td>0.6636</td>\n",
       "      <td>11.8</td>\n",
       "      <td>33.2</td>\n",
       "      <td>9.6</td>\n",
       "      <td>5.4</td>\n",
       "      <td>5.4</td>\n",
       "      <td>13.2</td>\n",
       "      <td>22.8</td>\n",
       "      <td>auburn</td>\n",
       "      <td>4.02</td>\n",
       "      <td>alabama,auburn,2017-01-21</td>\n",
       "    </tr>\n",
       "  </tbody>\n",
       "</table>\n",
       "</div>"
      ],
      "text/plain": [
       "           Wp   ppg  pApg     FGp     3Pp     FTp  ORBpg  RBpg  ASTpg  STLpg  \\\n",
       "150  0.800000  80.4  74.6  0.4754  0.4012  0.6840   10.4  33.6   13.6    6.2   \n",
       "195  0.411765  70.2  73.0  0.4120  0.3220  0.6860    7.2  36.2   14.4    5.4   \n",
       "200  0.360000  73.0  81.4  0.4444  0.3588  0.5966    7.8  30.8   17.2    6.8   \n",
       "203  0.400000  64.6  64.2  0.4460  0.3254  0.6176    7.6  33.6   14.2    5.4   \n",
       "214  0.666667  74.6  81.2  0.4142  0.3590  0.6636   11.8  33.2    9.6    5.4   \n",
       "\n",
       "     BLKpg  TOpg  PFpg        Tm   sos                           ID  \n",
       "150    3.0  11.8  22.2  arkansas  2.95  alabama,arkansas,2017-02-01  \n",
       "195    2.2  13.0  20.0      army -4.65     american,army,2017-01-14  \n",
       "200    1.6  14.0  21.6      army -4.65     american,army,2017-02-11  \n",
       "203    1.8  19.8  18.0      army -4.65     american,army,2017-02-28  \n",
       "214    5.4  13.2  22.8    auburn  4.02    alabama,auburn,2017-01-21  "
      ]
     },
     "execution_count": 7,
     "metadata": {},
     "output_type": "execute_result"
    }
   ],
   "source": [
    "# games2 = games2.iloc[:, 5:] \n",
    "games2 = games2.drop(['Date', 'Opp', 'W', 'GameType', 'Ws', 'matchup', 'count'], axis=1)\n",
    "games2.head()"
   ]
  },
  {
   "cell_type": "code",
   "execution_count": 8,
   "metadata": {},
   "outputs": [],
   "source": [
    "g2cols = games2.columns.tolist()"
   ]
  },
  {
   "cell_type": "code",
   "execution_count": 9,
   "metadata": {
    "collapsed": true
   },
   "outputs": [],
   "source": [
    "OPcols = ['OP{}'.format(col) if col != 'ID' else col for col in g2cols]"
   ]
  },
  {
   "cell_type": "code",
   "execution_count": 10,
   "metadata": {},
   "outputs": [
    {
     "data": {
      "text/plain": [
       "['OPWp',\n",
       " 'OPppg',\n",
       " 'OPpApg',\n",
       " 'OPFGp',\n",
       " 'OP3Pp',\n",
       " 'OPFTp',\n",
       " 'OPORBpg',\n",
       " 'OPRBpg',\n",
       " 'OPASTpg',\n",
       " 'OPSTLpg',\n",
       " 'OPBLKpg',\n",
       " 'OPTOpg',\n",
       " 'OPPFpg',\n",
       " 'OPTm',\n",
       " 'OPsos',\n",
       " 'ID']"
      ]
     },
     "execution_count": 10,
     "metadata": {},
     "output_type": "execute_result"
    }
   ],
   "source": [
    "OPcols"
   ]
  },
  {
   "cell_type": "code",
   "execution_count": 11,
   "metadata": {},
   "outputs": [],
   "source": [
    "games2.columns = OPcols"
   ]
  },
  {
   "cell_type": "code",
   "execution_count": 12,
   "metadata": {},
   "outputs": [
    {
     "data": {
      "text/html": [
       "<div>\n",
       "<style>\n",
       "    .dataframe thead tr:only-child th {\n",
       "        text-align: right;\n",
       "    }\n",
       "\n",
       "    .dataframe thead th {\n",
       "        text-align: left;\n",
       "    }\n",
       "\n",
       "    .dataframe tbody tr th {\n",
       "        vertical-align: top;\n",
       "    }\n",
       "</style>\n",
       "<table border=\"1\" class=\"dataframe\">\n",
       "  <thead>\n",
       "    <tr style=\"text-align: right;\">\n",
       "      <th></th>\n",
       "      <th>OPWp</th>\n",
       "      <th>OPppg</th>\n",
       "      <th>OPpApg</th>\n",
       "      <th>OPFGp</th>\n",
       "      <th>OP3Pp</th>\n",
       "      <th>OPFTp</th>\n",
       "      <th>OPORBpg</th>\n",
       "      <th>OPRBpg</th>\n",
       "      <th>OPASTpg</th>\n",
       "      <th>OPSTLpg</th>\n",
       "      <th>OPBLKpg</th>\n",
       "      <th>OPTOpg</th>\n",
       "      <th>OPPFpg</th>\n",
       "      <th>OPTm</th>\n",
       "      <th>OPsos</th>\n",
       "      <th>ID</th>\n",
       "    </tr>\n",
       "  </thead>\n",
       "  <tbody>\n",
       "    <tr>\n",
       "      <th>150</th>\n",
       "      <td>0.800000</td>\n",
       "      <td>80.4</td>\n",
       "      <td>74.6</td>\n",
       "      <td>0.4754</td>\n",
       "      <td>0.4012</td>\n",
       "      <td>0.6840</td>\n",
       "      <td>10.4</td>\n",
       "      <td>33.6</td>\n",
       "      <td>13.6</td>\n",
       "      <td>6.2</td>\n",
       "      <td>3.0</td>\n",
       "      <td>11.8</td>\n",
       "      <td>22.2</td>\n",
       "      <td>arkansas</td>\n",
       "      <td>2.95</td>\n",
       "      <td>alabama,arkansas,2017-02-01</td>\n",
       "    </tr>\n",
       "    <tr>\n",
       "      <th>195</th>\n",
       "      <td>0.411765</td>\n",
       "      <td>70.2</td>\n",
       "      <td>73.0</td>\n",
       "      <td>0.4120</td>\n",
       "      <td>0.3220</td>\n",
       "      <td>0.6860</td>\n",
       "      <td>7.2</td>\n",
       "      <td>36.2</td>\n",
       "      <td>14.4</td>\n",
       "      <td>5.4</td>\n",
       "      <td>2.2</td>\n",
       "      <td>13.0</td>\n",
       "      <td>20.0</td>\n",
       "      <td>army</td>\n",
       "      <td>-4.65</td>\n",
       "      <td>american,army,2017-01-14</td>\n",
       "    </tr>\n",
       "    <tr>\n",
       "      <th>200</th>\n",
       "      <td>0.360000</td>\n",
       "      <td>73.0</td>\n",
       "      <td>81.4</td>\n",
       "      <td>0.4444</td>\n",
       "      <td>0.3588</td>\n",
       "      <td>0.5966</td>\n",
       "      <td>7.8</td>\n",
       "      <td>30.8</td>\n",
       "      <td>17.2</td>\n",
       "      <td>6.8</td>\n",
       "      <td>1.6</td>\n",
       "      <td>14.0</td>\n",
       "      <td>21.6</td>\n",
       "      <td>army</td>\n",
       "      <td>-4.65</td>\n",
       "      <td>american,army,2017-02-11</td>\n",
       "    </tr>\n",
       "    <tr>\n",
       "      <th>203</th>\n",
       "      <td>0.400000</td>\n",
       "      <td>64.6</td>\n",
       "      <td>64.2</td>\n",
       "      <td>0.4460</td>\n",
       "      <td>0.3254</td>\n",
       "      <td>0.6176</td>\n",
       "      <td>7.6</td>\n",
       "      <td>33.6</td>\n",
       "      <td>14.2</td>\n",
       "      <td>5.4</td>\n",
       "      <td>1.8</td>\n",
       "      <td>19.8</td>\n",
       "      <td>18.0</td>\n",
       "      <td>army</td>\n",
       "      <td>-4.65</td>\n",
       "      <td>american,army,2017-02-28</td>\n",
       "    </tr>\n",
       "    <tr>\n",
       "      <th>214</th>\n",
       "      <td>0.666667</td>\n",
       "      <td>74.6</td>\n",
       "      <td>81.2</td>\n",
       "      <td>0.4142</td>\n",
       "      <td>0.3590</td>\n",
       "      <td>0.6636</td>\n",
       "      <td>11.8</td>\n",
       "      <td>33.2</td>\n",
       "      <td>9.6</td>\n",
       "      <td>5.4</td>\n",
       "      <td>5.4</td>\n",
       "      <td>13.2</td>\n",
       "      <td>22.8</td>\n",
       "      <td>auburn</td>\n",
       "      <td>4.02</td>\n",
       "      <td>alabama,auburn,2017-01-21</td>\n",
       "    </tr>\n",
       "  </tbody>\n",
       "</table>\n",
       "</div>"
      ],
      "text/plain": [
       "         OPWp  OPppg  OPpApg   OPFGp   OP3Pp   OPFTp  OPORBpg  OPRBpg  \\\n",
       "150  0.800000   80.4    74.6  0.4754  0.4012  0.6840     10.4    33.6   \n",
       "195  0.411765   70.2    73.0  0.4120  0.3220  0.6860      7.2    36.2   \n",
       "200  0.360000   73.0    81.4  0.4444  0.3588  0.5966      7.8    30.8   \n",
       "203  0.400000   64.6    64.2  0.4460  0.3254  0.6176      7.6    33.6   \n",
       "214  0.666667   74.6    81.2  0.4142  0.3590  0.6636     11.8    33.2   \n",
       "\n",
       "     OPASTpg  OPSTLpg  OPBLKpg  OPTOpg  OPPFpg      OPTm  OPsos  \\\n",
       "150     13.6      6.2      3.0    11.8    22.2  arkansas   2.95   \n",
       "195     14.4      5.4      2.2    13.0    20.0      army  -4.65   \n",
       "200     17.2      6.8      1.6    14.0    21.6      army  -4.65   \n",
       "203     14.2      5.4      1.8    19.8    18.0      army  -4.65   \n",
       "214      9.6      5.4      5.4    13.2    22.8    auburn   4.02   \n",
       "\n",
       "                              ID  \n",
       "150  alabama,arkansas,2017-02-01  \n",
       "195     american,army,2017-01-14  \n",
       "200     american,army,2017-02-11  \n",
       "203     american,army,2017-02-28  \n",
       "214    alabama,auburn,2017-01-21  "
      ]
     },
     "execution_count": 12,
     "metadata": {},
     "output_type": "execute_result"
    }
   ],
   "source": [
    "games2.head()"
   ]
  },
  {
   "cell_type": "code",
   "execution_count": 13,
   "metadata": {
    "collapsed": true
   },
   "outputs": [],
   "source": [
    "games = pd.merge(games1, games2, how='left', on='ID')"
   ]
  },
  {
   "cell_type": "code",
   "execution_count": 14,
   "metadata": {
    "scrolled": true
   },
   "outputs": [
    {
     "data": {
      "text/plain": [
       "Index(['Date', 'Opp', 'W', 'GameType', 'Ws', 'Wp', 'ppg', 'pApg', 'FGp', '3Pp',\n",
       "       'FTp', 'ORBpg', 'RBpg', 'ASTpg', 'STLpg', 'BLKpg', 'TOpg', 'PFpg', 'Tm',\n",
       "       'sos', 'matchup', 'ID', 'count', 'OPWp', 'OPppg', 'OPpApg', 'OPFGp',\n",
       "       'OP3Pp', 'OPFTp', 'OPORBpg', 'OPRBpg', 'OPASTpg', 'OPSTLpg', 'OPBLKpg',\n",
       "       'OPTOpg', 'OPPFpg', 'OPTm', 'OPsos'],\n",
       "      dtype='object')"
      ]
     },
     "execution_count": 14,
     "metadata": {},
     "output_type": "execute_result"
    }
   ],
   "source": [
    "games.columns"
   ]
  },
  {
   "cell_type": "code",
   "execution_count": 15,
   "metadata": {},
   "outputs": [],
   "source": [
    "games = games.drop(['Date', 'Ws', 'Opp', 'count', 'ID', 'matchup', 'count', 'Tm', 'OPTm'], axis=1)\n",
    "games = games.dropna()"
   ]
  },
  {
   "cell_type": "code",
   "execution_count": 16,
   "metadata": {
    "scrolled": true
   },
   "outputs": [
    {
     "data": {
      "text/html": [
       "<div>\n",
       "<style>\n",
       "    .dataframe thead tr:only-child th {\n",
       "        text-align: right;\n",
       "    }\n",
       "\n",
       "    .dataframe thead th {\n",
       "        text-align: left;\n",
       "    }\n",
       "\n",
       "    .dataframe tbody tr th {\n",
       "        vertical-align: top;\n",
       "    }\n",
       "</style>\n",
       "<table border=\"1\" class=\"dataframe\">\n",
       "  <thead>\n",
       "    <tr style=\"text-align: right;\">\n",
       "      <th></th>\n",
       "      <th>W</th>\n",
       "      <th>GameType</th>\n",
       "      <th>Wp</th>\n",
       "      <th>ppg</th>\n",
       "      <th>pApg</th>\n",
       "      <th>FGp</th>\n",
       "      <th>3Pp</th>\n",
       "      <th>FTp</th>\n",
       "      <th>ORBpg</th>\n",
       "      <th>RBpg</th>\n",
       "      <th>...</th>\n",
       "      <th>OP3Pp</th>\n",
       "      <th>OPFTp</th>\n",
       "      <th>OPORBpg</th>\n",
       "      <th>OPRBpg</th>\n",
       "      <th>OPASTpg</th>\n",
       "      <th>OPSTLpg</th>\n",
       "      <th>OPBLKpg</th>\n",
       "      <th>OPTOpg</th>\n",
       "      <th>OPPFpg</th>\n",
       "      <th>OPsos</th>\n",
       "    </tr>\n",
       "  </thead>\n",
       "  <tbody>\n",
       "    <tr>\n",
       "      <th>10</th>\n",
       "      <td>0</td>\n",
       "      <td>season2017</td>\n",
       "      <td>0.833333</td>\n",
       "      <td>76.8</td>\n",
       "      <td>61.6</td>\n",
       "      <td>0.4614</td>\n",
       "      <td>0.3736</td>\n",
       "      <td>0.7474</td>\n",
       "      <td>8.8</td>\n",
       "      <td>32.6</td>\n",
       "      <td>...</td>\n",
       "      <td>0.4560</td>\n",
       "      <td>0.6872</td>\n",
       "      <td>8.0</td>\n",
       "      <td>35.0</td>\n",
       "      <td>18.4</td>\n",
       "      <td>6.4</td>\n",
       "      <td>3.4</td>\n",
       "      <td>11.2</td>\n",
       "      <td>17.0</td>\n",
       "      <td>3.19</td>\n",
       "    </tr>\n",
       "    <tr>\n",
       "      <th>11</th>\n",
       "      <td>0</td>\n",
       "      <td>season2017</td>\n",
       "      <td>0.750000</td>\n",
       "      <td>77.8</td>\n",
       "      <td>65.6</td>\n",
       "      <td>0.4936</td>\n",
       "      <td>0.4072</td>\n",
       "      <td>0.7208</td>\n",
       "      <td>8.8</td>\n",
       "      <td>30.4</td>\n",
       "      <td>...</td>\n",
       "      <td>0.4332</td>\n",
       "      <td>0.6496</td>\n",
       "      <td>9.0</td>\n",
       "      <td>33.8</td>\n",
       "      <td>16.6</td>\n",
       "      <td>5.8</td>\n",
       "      <td>4.4</td>\n",
       "      <td>12.0</td>\n",
       "      <td>18.6</td>\n",
       "      <td>-0.41</td>\n",
       "    </tr>\n",
       "    <tr>\n",
       "      <th>12</th>\n",
       "      <td>1</td>\n",
       "      <td>season2017</td>\n",
       "      <td>0.700000</td>\n",
       "      <td>72.0</td>\n",
       "      <td>62.0</td>\n",
       "      <td>0.4784</td>\n",
       "      <td>0.4136</td>\n",
       "      <td>0.6546</td>\n",
       "      <td>9.8</td>\n",
       "      <td>31.6</td>\n",
       "      <td>...</td>\n",
       "      <td>0.3912</td>\n",
       "      <td>0.6958</td>\n",
       "      <td>8.2</td>\n",
       "      <td>29.6</td>\n",
       "      <td>17.6</td>\n",
       "      <td>6.2</td>\n",
       "      <td>3.4</td>\n",
       "      <td>14.0</td>\n",
       "      <td>22.6</td>\n",
       "      <td>-1.30</td>\n",
       "    </tr>\n",
       "    <tr>\n",
       "      <th>13</th>\n",
       "      <td>1</td>\n",
       "      <td>season2017</td>\n",
       "      <td>0.727273</td>\n",
       "      <td>78.8</td>\n",
       "      <td>67.0</td>\n",
       "      <td>0.5026</td>\n",
       "      <td>0.4208</td>\n",
       "      <td>0.6568</td>\n",
       "      <td>10.2</td>\n",
       "      <td>34.2</td>\n",
       "      <td>...</td>\n",
       "      <td>0.3498</td>\n",
       "      <td>0.5564</td>\n",
       "      <td>8.2</td>\n",
       "      <td>33.2</td>\n",
       "      <td>13.2</td>\n",
       "      <td>5.0</td>\n",
       "      <td>3.8</td>\n",
       "      <td>12.8</td>\n",
       "      <td>18.4</td>\n",
       "      <td>0.36</td>\n",
       "    </tr>\n",
       "    <tr>\n",
       "      <th>14</th>\n",
       "      <td>1</td>\n",
       "      <td>season2017</td>\n",
       "      <td>0.750000</td>\n",
       "      <td>77.4</td>\n",
       "      <td>74.8</td>\n",
       "      <td>0.4792</td>\n",
       "      <td>0.4138</td>\n",
       "      <td>0.6280</td>\n",
       "      <td>9.0</td>\n",
       "      <td>32.0</td>\n",
       "      <td>...</td>\n",
       "      <td>0.3438</td>\n",
       "      <td>0.6548</td>\n",
       "      <td>6.6</td>\n",
       "      <td>34.0</td>\n",
       "      <td>16.6</td>\n",
       "      <td>8.6</td>\n",
       "      <td>3.8</td>\n",
       "      <td>13.0</td>\n",
       "      <td>17.4</td>\n",
       "      <td>-0.22</td>\n",
       "    </tr>\n",
       "  </tbody>\n",
       "</table>\n",
       "<p>5 rows × 30 columns</p>\n",
       "</div>"
      ],
      "text/plain": [
       "    W    GameType        Wp   ppg  pApg     FGp     3Pp     FTp  ORBpg  RBpg  \\\n",
       "10  0  season2017  0.833333  76.8  61.6  0.4614  0.3736  0.7474    8.8  32.6   \n",
       "11  0  season2017  0.750000  77.8  65.6  0.4936  0.4072  0.7208    8.8  30.4   \n",
       "12  1  season2017  0.700000  72.0  62.0  0.4784  0.4136  0.6546    9.8  31.6   \n",
       "13  1  season2017  0.727273  78.8  67.0  0.5026  0.4208  0.6568   10.2  34.2   \n",
       "14  1  season2017  0.750000  77.4  74.8  0.4792  0.4138  0.6280    9.0  32.0   \n",
       "\n",
       "    ...     OP3Pp   OPFTp  OPORBpg  OPRBpg  OPASTpg  OPSTLpg  OPBLKpg  OPTOpg  \\\n",
       "10  ...    0.4560  0.6872      8.0    35.0     18.4      6.4      3.4    11.2   \n",
       "11  ...    0.4332  0.6496      9.0    33.8     16.6      5.8      4.4    12.0   \n",
       "12  ...    0.3912  0.6958      8.2    29.6     17.6      6.2      3.4    14.0   \n",
       "13  ...    0.3498  0.5564      8.2    33.2     13.2      5.0      3.8    12.8   \n",
       "14  ...    0.3438  0.6548      6.6    34.0     16.6      8.6      3.8    13.0   \n",
       "\n",
       "    OPPFpg  OPsos  \n",
       "10    17.0   3.19  \n",
       "11    18.6  -0.41  \n",
       "12    22.6  -1.30  \n",
       "13    18.4   0.36  \n",
       "14    17.4  -0.22  \n",
       "\n",
       "[5 rows x 30 columns]"
      ]
     },
     "execution_count": 16,
     "metadata": {},
     "output_type": "execute_result"
    }
   ],
   "source": [
    "games.head()"
   ]
  },
  {
   "cell_type": "code",
   "execution_count": 17,
   "metadata": {},
   "outputs": [
    {
     "data": {
      "text/plain": [
       "Index(['W', 'GameType', 'Wp', 'ppg', 'pApg', 'FGp', '3Pp', 'FTp', 'ORBpg',\n",
       "       'RBpg', 'ASTpg', 'STLpg', 'BLKpg', 'TOpg', 'PFpg', 'sos', 'OPWp',\n",
       "       'OPppg', 'OPpApg', 'OPFGp', 'OP3Pp', 'OPFTp', 'OPORBpg', 'OPRBpg',\n",
       "       'OPASTpg', 'OPSTLpg', 'OPBLKpg', 'OPTOpg', 'OPPFpg', 'OPsos'],\n",
       "      dtype='object')"
      ]
     },
     "execution_count": 17,
     "metadata": {},
     "output_type": "execute_result"
    }
   ],
   "source": [
    "games.columns"
   ]
  },
  {
   "cell_type": "code",
   "execution_count": null,
   "metadata": {
    "collapsed": true
   },
   "outputs": [],
   "source": []
  }
 ],
 "metadata": {
  "kernelspec": {
   "display_name": "Python 3",
   "language": "python",
   "name": "python3"
  },
  "language_info": {
   "codemirror_mode": {
    "name": "ipython",
    "version": 3
   },
   "file_extension": ".py",
   "mimetype": "text/x-python",
   "name": "python",
   "nbconvert_exporter": "python",
   "pygments_lexer": "ipython3",
   "version": "3.6.5"
  }
 },
 "nbformat": 4,
 "nbformat_minor": 2
}
