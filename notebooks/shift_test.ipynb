{
 "cells": [
  {
   "cell_type": "code",
   "execution_count": 1,
   "metadata": {
    "collapsed": true
   },
   "outputs": [],
   "source": [
    "import pandas as pd\n",
    "import numpy as np"
   ]
  },
  {
   "cell_type": "code",
   "execution_count": 2,
   "metadata": {
    "collapsed": true
   },
   "outputs": [],
   "source": [
    "msuurl = 'https://www.sports-reference.com/cbb/schools/michigan-state/2017-gamelogs.html#sgl-basic::none'"
   ]
  },
  {
   "cell_type": "code",
   "execution_count": 3,
   "metadata": {
    "collapsed": true
   },
   "outputs": [],
   "source": [
    "'''Read team gamelog'''\n",
    "df = pd.read_html(msuurl)[0]"
   ]
  },
  {
   "cell_type": "code",
   "execution_count": 4,
   "metadata": {
    "collapsed": true
   },
   "outputs": [],
   "source": [
    "'''remove oppenent columns'''\n",
    "df = df.iloc[:, 0:23]\n",
    "\n",
    "'''Remove divider rows'''\n",
    "df = df.drop(df.index[[20,21]])"
   ]
  },
  {
   "cell_type": "code",
   "execution_count": 5,
   "metadata": {
    "collapsed": true
   },
   "outputs": [],
   "source": [
    "'''Remove Double column headers'''\n",
    "dubcols = df.columns.tolist()\n",
    "cols = [col[1] for col in dubcols]\n",
    "df.columns = cols"
   ]
  },
  {
   "cell_type": "code",
   "execution_count": 6,
   "metadata": {
    "collapsed": true
   },
   "outputs": [],
   "source": [
    "'''Rename Columns'''\n",
    "newcols = ['G', 'Date', 'Blank', 'Opp', 'W', 'Pts', 'PtsA', 'FG', 'FGA', \n",
    "           'FG%', '3P', '3PA', '3P%', 'FT', 'FTA', 'FT%', 'ORB', 'RB', \n",
    "           'AST', 'STL', 'BLK', 'TO', 'PF']\n",
    "df.columns = newcols"
   ]
  },
  {
   "cell_type": "code",
   "execution_count": 7,
   "metadata": {
    "collapsed": true
   },
   "outputs": [],
   "source": [
    "def teams_dict(filepath):\n",
    "    '''\n",
    "    Create dictionary of school names and formatted school names for mapping\n",
    "    '''\n",
    "    team_names = pd.read_csv(filepath)\n",
    "    team_names = team_names[['School', 'School_format']]\n",
    "    team_dict = {}\n",
    "    schools = team_names['School'].tolist()\n",
    "    schools_format = team_names['School_format'].tolist()\n",
    "    for school, schform in zip(schools, schools_format):\n",
    "        team_dict[school] = schform\n",
    "    return team_dict"
   ]
  },
  {
   "cell_type": "code",
   "execution_count": 8,
   "metadata": {
    "collapsed": true
   },
   "outputs": [],
   "source": [
    "'''reformat Opponent team name column strings'''\n",
    "team_names_sos_filepath = '/Users/sec/galvanize/capstone1/team_list/sos_team_list_2018_final.csv'\n",
    "df['Opp'] = df['Opp'].map(teams_dict(team_names_sos_filepath))"
   ]
  },
  {
   "cell_type": "code",
   "execution_count": 9,
   "metadata": {
    "collapsed": true
   },
   "outputs": [],
   "source": [
    "'''Only take the first charcter in W field then map to 0's and 1's.\n",
    "        (Ties and overtime have excess characters)'''\n",
    "df['W'] = df['W'].astype(str).str[0]\n",
    "df['W'] = df['W'].map({'W': 1, 'L': 0})"
   ]
  },
  {
   "cell_type": "code",
   "execution_count": 10,
   "metadata": {},
   "outputs": [],
   "source": [
    "'''Create win precentage and rolling average Features'''\n",
    "df['Ws'] = df['W'].cumsum(axis=0)\n",
    "df['Wp'] = df['Ws'].astype(int) / df['G'].astype(int)\n",
    "df['ppg'] = df['Pts'].rolling(window=5,center=False).mean()\n",
    "df['pApg'] = df['PtsA'].rolling(window=5,center=False).mean()\n",
    "df['FGp'] = df['FG%'].rolling(window=5,center=False).mean()\n",
    "df['3Pg'] = df['3P%'].rolling(window=5,center=False).mean()\n",
    "df['FTp'] = df['FT%'].rolling(window=5,center=False).mean()\n",
    "df['ORBpg'] = df['ORB'].rolling(window=5,center=False).mean()\n",
    "df['RBpg'] = df['RB'].rolling(window=5,center=False).mean()\n",
    "df['ASTpg'] = df['AST'].rolling(window=5,center=False).mean()\n",
    "df['STLpg'] = df['STL'].rolling(window=5,center=False).mean()\n",
    "df['BLKpg'] = df['BLK'].rolling(window=5,center=False).mean()\n",
    "df['TOpg'] = df['TO'].rolling(window=5,center=False).mean()\n",
    "df['PFpg'] = df['PF'].rolling(window=5,center=False).mean()"
   ]
  },
  {
   "cell_type": "code",
   "execution_count": 11,
   "metadata": {
    "collapsed": true
   },
   "outputs": [],
   "source": [
    "'''Remove columns after rolling ave calcs'''\n",
    "df = df.drop(['G', 'Blank', 'Pts', 'PtsA', 'FG', 'FGA', 'FG%',\n",
    "              '3P', '3PA', '3P%', 'FT', 'FTA', 'FT%', 'ORB', 'RB', \n",
    "              'AST', 'STL', 'BLK', 'TO', 'PF'], axis=1)"
   ]
  },
  {
   "cell_type": "code",
   "execution_count": 12,
   "metadata": {
    "collapsed": true
   },
   "outputs": [],
   "source": [
    "df = df.dropna()"
   ]
  },
  {
   "cell_type": "code",
   "execution_count": 13,
   "metadata": {
    "collapsed": true
   },
   "outputs": [],
   "source": [
    "'''Add Team Column'''\n",
    "team = 'michigan-state'\n",
    "df['Tm'] = team"
   ]
  },
  {
   "cell_type": "code",
   "execution_count": 14,
   "metadata": {
    "collapsed": true
   },
   "outputs": [],
   "source": [
    "def sos_dict(filepath):\n",
    "    '''\n",
    "    Create dictionary of school names and strength of schedule for mapping\n",
    "    '''\n",
    "    team_sos = pd.read_csv(filepath)\n",
    "    team_sos = team_sos[['School_format', 'SOS']]\n",
    "    sos_dict = {}\n",
    "    schools = team_sos['School_format'].tolist()\n",
    "    sos = team_sos['SOS'].tolist()\n",
    "    for school, sos in zip(schools, sos):\n",
    "        sos_dict[school] = sos\n",
    "    return sos_dict"
   ]
  },
  {
   "cell_type": "code",
   "execution_count": 15,
   "metadata": {
    "collapsed": true
   },
   "outputs": [],
   "source": [
    "'''Add SOS columns'''\n",
    "df['sos'] = df['Tm'].map(sos_dict(team_names_sos_filepath))"
   ]
  },
  {
   "cell_type": "code",
   "execution_count": 16,
   "metadata": {
    "collapsed": true
   },
   "outputs": [],
   "source": [
    "from datetime import date\n",
    "tourney2017start = date(2017,3,14)\n",
    "tourney2017end = date(2017,4,3)"
   ]
  },
  {
   "cell_type": "code",
   "execution_count": 17,
   "metadata": {
    "collapsed": true
   },
   "outputs": [],
   "source": [
    "'''datetime to date'''\n",
    "df['just_date'] = pd.to_datetime(df['Date']).dt.date"
   ]
  },
  {
   "cell_type": "code",
   "execution_count": 18,
   "metadata": {
    "collapsed": true
   },
   "outputs": [],
   "source": [
    "def tourney_game_label(row):\n",
    "    '''\n",
    "    Create Column for tourney games\n",
    "    '''\n",
    "    \n",
    "    if row['just_date'] >= tourney2017start and row['just_date'] <= tourney2017end:\n",
    "\n",
    "        row['game_type'] = 'tourney2017'\n",
    "\n",
    "    else:\n",
    "        \n",
    "        row['game_type'] = 'season'\n",
    "\n",
    "    return row"
   ]
  },
  {
   "cell_type": "code",
   "execution_count": 19,
   "metadata": {
    "collapsed": true
   },
   "outputs": [],
   "source": [
    "df = df.apply(tourney_game_label, axis=1)"
   ]
  },
  {
   "cell_type": "code",
   "execution_count": 20,
   "metadata": {},
   "outputs": [
    {
     "data": {
      "text/plain": [
       "Index(['Date', 'Opp', 'W', 'Ws', 'Wp', 'ppg', 'pApg', 'FGp', '3Pg', 'FTp',\n",
       "       'ORBpg', 'RBpg', 'ASTpg', 'STLpg', 'BLKpg', 'TOpg', 'PFpg', 'Tm', 'sos',\n",
       "       'just_date', 'game_type'],\n",
       "      dtype='object')"
      ]
     },
     "execution_count": 20,
     "metadata": {},
     "output_type": "execute_result"
    }
   ],
   "source": [
    "df.columns"
   ]
  },
  {
   "cell_type": "code",
   "execution_count": 21,
   "metadata": {
    "collapsed": true
   },
   "outputs": [],
   "source": [
    "cols_to_shift = ['Ws', 'Wp', 'ppg', 'pApg', 'FGp', '3Pg', 'FTp',\n",
    "       'ORBpg', 'RBpg', 'ASTpg', 'STLpg', 'BLKpg', 'TOpg', 'PFpg', 'Tm', 'sos']"
   ]
  },
  {
   "cell_type": "code",
   "execution_count": 22,
   "metadata": {},
   "outputs": [],
   "source": [
    "def lag_columns(df, cols_to_shift):\n",
    "    for col in cols_to_shift:\n",
    "        new_col = '{}_shifted'.format(col)\n",
    "        df[new_col] = df[col].shift(1)\n",
    "    df = df.drop(cols_to_shift, axis=1)\n",
    "    column_names = df.columns.tolist()\n",
    "    new_column_names = [col.replace('_shifted', '') for col in column_names]\n",
    "    df.columns = new_column_names\n",
    "    df = df.dropna()\n",
    "    return df\n",
    "    "
   ]
  },
  {
   "cell_type": "code",
   "execution_count": 23,
   "metadata": {},
   "outputs": [],
   "source": [
    "df = lag_columns(df, cols_to_shift)"
   ]
  },
  {
   "cell_type": "code",
   "execution_count": 25,
   "metadata": {},
   "outputs": [
    {
     "data": {
      "text/plain": [
       "Index(['Date', 'Opp', 'W', 'just_date', 'game_type', 'Ws', 'Wp', 'ppg', 'pApg',\n",
       "       'FGp', '3Pg', 'FTp', 'ORBpg', 'RBpg', 'ASTpg', 'STLpg', 'BLKpg', 'TOpg',\n",
       "       'PFpg', 'Tm', 'sos'],\n",
       "      dtype='object')"
      ]
     },
     "execution_count": 25,
     "metadata": {},
     "output_type": "execute_result"
    }
   ],
   "source": [
    "df.columns"
   ]
  },
  {
   "cell_type": "code",
   "execution_count": null,
   "metadata": {
    "collapsed": true
   },
   "outputs": [],
   "source": []
  }
 ],
 "metadata": {
  "kernelspec": {
   "display_name": "Python 3",
   "language": "python",
   "name": "python3"
  },
  "language_info": {
   "codemirror_mode": {
    "name": "ipython",
    "version": 3
   },
   "file_extension": ".py",
   "mimetype": "text/x-python",
   "name": "python",
   "nbconvert_exporter": "python",
   "pygments_lexer": "ipython3",
   "version": "3.6.2"
  }
 },
 "nbformat": 4,
 "nbformat_minor": 2
}
