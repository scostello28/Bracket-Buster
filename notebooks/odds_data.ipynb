{
 "cells": [
  {
   "cell_type": "code",
   "execution_count": 1,
   "metadata": {},
   "outputs": [
    {
     "name": "stderr",
     "output_type": "stream",
     "text": [
      "/Users/sec/anaconda3/lib/python3.6/site-packages/h5py/__init__.py:36: FutureWarning: Conversion of the second argument of issubdtype from `float` to `np.floating` is deprecated. In future, it will be treated as `np.float64 == np.dtype(float).type`.\n",
      "  from ._conv import register_converters as _register_converters\n",
      "Using TensorFlow backend.\n"
     ]
    }
   ],
   "source": [
    "import pandas as pd\n",
    "import numpy as np\n",
    "from sklearn.linear_model import LinearRegression\n",
    "from sklearn.preprocessing import StandardScaler\n",
    "from sklearn.pipeline import Pipeline\n",
    "from sklearn.model_selection import cross_val_score\n",
    "from fancyimpute import KNN\n",
    "from sklearn import metrics\n",
    "import re\n",
    "import csv"
   ]
  },
  {
   "cell_type": "code",
   "execution_count": 2,
   "metadata": {},
   "outputs": [],
   "source": [
    "odds2018 = '/Users/sec/galvanize/bracket_buster/odds_data/ncaa_basketball_2017-18.xlsx'\n",
    "odds2017 = '/Users/sec/galvanize/bracket_buster/odds_data/ncaa_basketball_2016-17.xlsx'\n",
    "odds2016 = '/Users/sec/galvanize/bracket_buster/odds_data/ncaa_basketball_2015-16.xlsx'\n",
    "odds2015 = '/Users/sec/galvanize/bracket_buster/odds_data/ncaa_basketball_2014-15.xlsx'\n",
    "odds2014 = '/Users/sec/galvanize/bracket_buster/odds_data/ncaa_basketball_2013-14.xlsx'\n",
    "# odds2013 = '/Users/sec/galvanize/bracket_buster/odds_data/ncaa_basketball_2012-13.xlsx'"
   ]
  },
  {
   "cell_type": "code",
   "execution_count": 3,
   "metadata": {},
   "outputs": [],
   "source": [
    "odds2018_df = pd.read_excel(odds2018, header=0)\n",
    "odds2017_df = pd.read_excel(odds2017, header=0)\n",
    "odds2016_df = pd.read_excel(odds2016, header=0)\n",
    "odds2015_df = pd.read_excel(odds2015, header=0)\n",
    "odds2014_df = pd.read_excel(odds2014, header=0)\n",
    "# odds2013_df = pd.read_excel(odds2013, header=0)"
   ]
  },
  {
   "cell_type": "code",
   "execution_count": 4,
   "metadata": {},
   "outputs": [
    {
     "name": "stdout",
     "output_type": "stream",
     "text": [
      "<class 'pandas.core.frame.DataFrame'>\n",
      "RangeIndex: 8154 entries, 0 to 8153\n",
      "Data columns (total 11 columns):\n",
      "Date     8154 non-null int64\n",
      "Rot      8154 non-null int64\n",
      "VH       8154 non-null object\n",
      "Team     8154 non-null object\n",
      "1st      8154 non-null int64\n",
      "2nd      8154 non-null int64\n",
      "Final    8154 non-null int64\n",
      "Open     8085 non-null object\n",
      "Close    8137 non-null object\n",
      "ML       7847 non-null object\n",
      "2H       8100 non-null object\n",
      "dtypes: int64(5), object(6)\n",
      "memory usage: 700.8+ KB\n"
     ]
    }
   ],
   "source": [
    "odds2018_df.info()"
   ]
  },
  {
   "cell_type": "markdown",
   "metadata": {},
   "source": [
    "## Update Team Names"
   ]
  },
  {
   "cell_type": "code",
   "execution_count": 5,
   "metadata": {},
   "outputs": [],
   "source": [
    "# teams_df = odds2018_df.Team.value_counts()\n",
    "# teams_df = pd.DataFrame(teams_df)\n",
    "# teams_df.to_csv('new_odds_teams.csv')"
   ]
  },
  {
   "cell_type": "markdown",
   "metadata": {},
   "source": [
    "### matched up names in csv"
   ]
  },
  {
   "cell_type": "code",
   "execution_count": 6,
   "metadata": {},
   "outputs": [],
   "source": [
    "odds_teams_lookup_filepath = '../odds_teams_lookup.csv'"
   ]
  },
  {
   "cell_type": "code",
   "execution_count": 7,
   "metadata": {},
   "outputs": [],
   "source": [
    "def odds_teams_dict(filepath):\n",
    "    '''\n",
    "    Create dictionary of school names and formatted school names for mapping\n",
    "    '''\n",
    "    team_names = pd.read_csv(filepath)\n",
    "    team_names = team_names[['Teams', 'school']]\n",
    "    team_dict = {}\n",
    "    schools = team_names['Teams'].tolist()\n",
    "    schools_format = team_names['school'].tolist()\n",
    "    for school, schform in zip(schools, schools_format):\n",
    "        team_dict[school] = schform\n",
    "    return team_dict"
   ]
  },
  {
   "cell_type": "code",
   "execution_count": 8,
   "metadata": {},
   "outputs": [],
   "source": [
    "def update_team_names(df):\n",
    "    df['Team'] = df['Team'].map(odds_teams_dict(odds_teams_lookup_filepath))\n",
    "    return df"
   ]
  },
  {
   "cell_type": "code",
   "execution_count": 9,
   "metadata": {},
   "outputs": [],
   "source": [
    "odds_dfs = [odds2018_df, odds2017_df, odds2016_df, odds2015_df, odds2014_df]"
   ]
  },
  {
   "cell_type": "markdown",
   "metadata": {},
   "source": [
    "### Impute NaNs"
   ]
  },
  {
   "cell_type": "code",
   "execution_count": 10,
   "metadata": {},
   "outputs": [],
   "source": [
    "def string_split(df):\n",
    "    '''Used in impute data function to split string data into separate df'''\n",
    "    string_df = df[['VH', 'Team']]\n",
    "    df = df.drop(['VH', 'Team'], axis=1)\n",
    "    return string_df, df"
   ]
  },
  {
   "cell_type": "code",
   "execution_count": 11,
   "metadata": {},
   "outputs": [],
   "source": [
    "def string_to_nan(row):\n",
    "    '''Used in impute_data funciton to force strings in numeric df to NaNs'''\n",
    "    row = pd.to_numeric(row, errors='coerce')\n",
    "    return row"
   ]
  },
  {
   "cell_type": "code",
   "execution_count": 12,
   "metadata": {},
   "outputs": [],
   "source": [
    "def impute_data(df):\n",
    "    '''\n",
    "    Input: DataFrame\n",
    "    Output: DataFrame with imputted missing values\n",
    "    '''\n",
    "    \n",
    "    # Split out string columns into separate df\n",
    "    string_df, df = string_split(df)\n",
    "    \n",
    "    # save col names\n",
    "    string_df_cols = string_df.columns.tolist()\n",
    "    df_cols = df.columns.tolist()\n",
    "    \n",
    "    # Convert strings to NaNs\n",
    "    df = df.apply(string_to_nan, axis=1)\n",
    "    \n",
    "    #impute NaNs in df\n",
    "    X = df.values\n",
    "    X_filled = KNN(k=3, verbose=False).complete(X)\n",
    "    df = pd.DataFrame(X_filled, columns=df_cols)\n",
    "    df = pd.merge(df, string_df, how='left', left_index=True, right_index=True)\n",
    "    return df"
   ]
  },
  {
   "cell_type": "code",
   "execution_count": 13,
   "metadata": {},
   "outputs": [],
   "source": [
    "# odds2018_df = impute_data(odds2018_df)"
   ]
  },
  {
   "cell_type": "code",
   "execution_count": 14,
   "metadata": {},
   "outputs": [],
   "source": [
    "# odds2018_df.iloc[5510: 5520]"
   ]
  },
  {
   "cell_type": "markdown",
   "metadata": {},
   "source": [
    "## Feature Engineer"
   ]
  },
  {
   "cell_type": "code",
   "execution_count": 15,
   "metadata": {},
   "outputs": [],
   "source": [
    "def prob(row):\n",
    "    '''calc probability from ML'''\n",
    "    if row['ML'] < 0:\n",
    "        row['p'] = int(row['ML']) / int((row['ML']) - 100)\n",
    "    elif row['ML'] > 0:\n",
    "        row['p'] = 100 / int((row['ML']) + 100)\n",
    "    return row"
   ]
  },
  {
   "cell_type": "code",
   "execution_count": 16,
   "metadata": {},
   "outputs": [],
   "source": [
    "def spread(row):\n",
    "    if row['p'] <= .5:\n",
    "        row['spread'] = int(25 * row['p'] + -12)\n",
    "    else:\n",
    "        row['spread'] = int(-25 * row['p'] + 13)\n",
    "    return row"
   ]
  },
  {
   "cell_type": "code",
   "execution_count": 17,
   "metadata": {},
   "outputs": [],
   "source": [
    "def outcome(row):\n",
    "    '''Adds vegas prediction, actual spread and actual W features'''\n",
    "    if row['ML'] < 0:\n",
    "        row['vegas'] = 1\n",
    "    else:\n",
    "        row['vegas'] = 0\n",
    "    \n",
    "    row['actual_spread'] = row['Final'] - row['Final_v']\n",
    "    \n",
    "    if row['actual_spread'] > 0:\n",
    "        row['W'] = 1\n",
    "    else:\n",
    "        row['W'] = 0\n",
    "    \n",
    "    return row"
   ]
  },
  {
   "cell_type": "code",
   "execution_count": 18,
   "metadata": {},
   "outputs": [],
   "source": [
    "def date(row):\n",
    "    '''Updates date format to prepare for unique ID generation'''\n",
    "    row['Date'] = str(int(row['Date']))\n",
    "    row['month'] = int(row['Date'][:2])\n",
    "    row['day'] = int(row['Date'][-2:])\n",
    "    row['Date'] = '{}-{}-{}'.format(str(row['Season']), str(row['month']), str(row['day']))\n",
    "    return row"
   ]
  },
  {
   "cell_type": "code",
   "execution_count": 19,
   "metadata": {},
   "outputs": [],
   "source": [
    "def matchups(df, season):\n",
    "    \n",
    "    # Drop uneeded columns\n",
    "    df = df.drop(['1st', '2H', '2nd'], axis=1)\n",
    "    \n",
    "    # Add probability of winning column\n",
    "    df = df.apply(prob, axis=1)\n",
    "    \n",
    "    # One hot encode VH column for counting\n",
    "    df['VHohe'] = df['VH'].map({'V': 1, 'H': 0})\n",
    "    \n",
    "    # Create count column to use as merge ID\n",
    "    df['count'] = df.groupby('VHohe').cumcount() + 1\n",
    "    \n",
    "    # Split df in to visitor and home team dfs\n",
    "    df_v = df[df['VH'] == 'V']\n",
    "    df_h = df[df['VH'] == 'H']\n",
    "    \n",
    "    # update column names for visitors df\n",
    "    v_cols = df_v.columns.tolist()\n",
    "    v_cols = ['{}_v'.format(col) if col != 'count' else col for col in v_cols]\n",
    "    df_v.columns = v_cols\n",
    "    \n",
    "    # Merge on count\n",
    "    df = pd.merge(df_h, df_v, how='left', on='count')\n",
    "    \n",
    "    # Drop uneeded columns\n",
    "    df = df.drop(['Rot', 'VH', 'VH_v', 'Date_v', 'Rot_v', 'Open', 'Close', \n",
    "                  'Open_v', 'Close_v'], axis=1)\n",
    "    \n",
    "    # Add Season\n",
    "    df['Season'] = season\n",
    "    \n",
    "    # Add outcome\n",
    "    df = df.apply(outcome, axis=1)\n",
    "    \n",
    "    # spread\n",
    "    df = df.apply(spread, axis=1)\n",
    "    \n",
    "    # Update date format\n",
    "    df = df.apply(date, axis=1)\n",
    "    \n",
    "    return df"
   ]
  },
  {
   "cell_type": "code",
   "execution_count": 20,
   "metadata": {},
   "outputs": [],
   "source": [
    "# odds2018_df = impute_data(odds2018_df)\n",
    "# odds2018_df = matchups(odds2018_df, 2018)\n",
    "# odds2018_df = odds2018_df.apply(outcome, axis=1)\n",
    "# odds2017_df = odds2017_df.apply(prob, axis=1)\n",
    "# odds2016_df = odds2016_df.apply(prob, axis=1)\n",
    "# odds2015_df = odds2015_df.apply(prob, axis=1)\n",
    "# odds2014_df = odds2014_df.apply(prob, axis=1)\n",
    "# odds2013_df = odds2013_df.apply(prob, axis=1)"
   ]
  },
  {
   "cell_type": "code",
   "execution_count": 21,
   "metadata": {},
   "outputs": [
    {
     "data": {
      "text/html": [
       "<div>\n",
       "<style scoped>\n",
       "    .dataframe tbody tr th:only-of-type {\n",
       "        vertical-align: middle;\n",
       "    }\n",
       "\n",
       "    .dataframe tbody tr th {\n",
       "        vertical-align: top;\n",
       "    }\n",
       "\n",
       "    .dataframe thead th {\n",
       "        text-align: right;\n",
       "    }\n",
       "</style>\n",
       "<table border=\"1\" class=\"dataframe\">\n",
       "  <thead>\n",
       "    <tr style=\"text-align: right;\">\n",
       "      <th></th>\n",
       "      <th>Date</th>\n",
       "      <th>Rot</th>\n",
       "      <th>VH</th>\n",
       "      <th>Team</th>\n",
       "      <th>1st</th>\n",
       "      <th>2nd</th>\n",
       "      <th>Final</th>\n",
       "      <th>Open</th>\n",
       "      <th>Close</th>\n",
       "      <th>ML</th>\n",
       "      <th>2H</th>\n",
       "    </tr>\n",
       "  </thead>\n",
       "  <tbody>\n",
       "    <tr>\n",
       "      <th>0</th>\n",
       "      <td>1110</td>\n",
       "      <td>517</td>\n",
       "      <td>V</td>\n",
       "      <td>TexasA&amp;M</td>\n",
       "      <td>45</td>\n",
       "      <td>43</td>\n",
       "      <td>88</td>\n",
       "      <td>141</td>\n",
       "      <td>143</td>\n",
       "      <td>260</td>\n",
       "      <td>77.5</td>\n",
       "    </tr>\n",
       "    <tr>\n",
       "      <th>1</th>\n",
       "      <td>1110</td>\n",
       "      <td>518</td>\n",
       "      <td>H</td>\n",
       "      <td>WestVirginia</td>\n",
       "      <td>38</td>\n",
       "      <td>27</td>\n",
       "      <td>65</td>\n",
       "      <td>6</td>\n",
       "      <td>7</td>\n",
       "      <td>-330</td>\n",
       "      <td>5.5</td>\n",
       "    </tr>\n",
       "    <tr>\n",
       "      <th>2</th>\n",
       "      <td>1110</td>\n",
       "      <td>519</td>\n",
       "      <td>V</td>\n",
       "      <td>Elon</td>\n",
       "      <td>25</td>\n",
       "      <td>43</td>\n",
       "      <td>68</td>\n",
       "      <td>155.5</td>\n",
       "      <td>156.5</td>\n",
       "      <td>1875</td>\n",
       "      <td>79</td>\n",
       "    </tr>\n",
       "    <tr>\n",
       "      <th>3</th>\n",
       "      <td>1110</td>\n",
       "      <td>520</td>\n",
       "      <td>H</td>\n",
       "      <td>Duke</td>\n",
       "      <td>45</td>\n",
       "      <td>52</td>\n",
       "      <td>97</td>\n",
       "      <td>18.5</td>\n",
       "      <td>19.5</td>\n",
       "      <td>-3750</td>\n",
       "      <td>7</td>\n",
       "    </tr>\n",
       "    <tr>\n",
       "      <th>4</th>\n",
       "      <td>1110</td>\n",
       "      <td>521</td>\n",
       "      <td>V</td>\n",
       "      <td>Delaware</td>\n",
       "      <td>49</td>\n",
       "      <td>27</td>\n",
       "      <td>76</td>\n",
       "      <td>143.5</td>\n",
       "      <td>140.5</td>\n",
       "      <td>400</td>\n",
       "      <td>74</td>\n",
       "    </tr>\n",
       "  </tbody>\n",
       "</table>\n",
       "</div>"
      ],
      "text/plain": [
       "   Date  Rot VH          Team  1st  2nd  Final   Open  Close     ML    2H\n",
       "0  1110  517  V      TexasA&M   45   43     88    141    143    260  77.5\n",
       "1  1110  518  H  WestVirginia   38   27     65      6      7   -330   5.5\n",
       "2  1110  519  V          Elon   25   43     68  155.5  156.5   1875    79\n",
       "3  1110  520  H          Duke   45   52     97   18.5   19.5  -3750     7\n",
       "4  1110  521  V      Delaware   49   27     76  143.5  140.5    400    74"
      ]
     },
     "execution_count": 21,
     "metadata": {},
     "output_type": "execute_result"
    }
   ],
   "source": [
    "odds2018_df.head()"
   ]
  },
  {
   "cell_type": "code",
   "execution_count": 22,
   "metadata": {},
   "outputs": [],
   "source": [
    "# odds2018_df.Team_v.value_counts()"
   ]
  },
  {
   "cell_type": "code",
   "execution_count": 23,
   "metadata": {},
   "outputs": [],
   "source": [
    "# odds2018_df.head()"
   ]
  },
  {
   "cell_type": "code",
   "execution_count": null,
   "metadata": {},
   "outputs": [],
   "source": []
  },
  {
   "cell_type": "code",
   "execution_count": 24,
   "metadata": {},
   "outputs": [],
   "source": [
    "# odds2018_df = odds2018_df.apply(outcome, axis=1)"
   ]
  },
  {
   "cell_type": "code",
   "execution_count": 25,
   "metadata": {},
   "outputs": [],
   "source": [
    "# odds2018_df.head()"
   ]
  },
  {
   "cell_type": "code",
   "execution_count": 26,
   "metadata": {},
   "outputs": [],
   "source": [
    "# actual = odds2018_df.W\n",
    "# vegas = odds2018_df.vegas"
   ]
  },
  {
   "cell_type": "code",
   "execution_count": 27,
   "metadata": {},
   "outputs": [],
   "source": [
    "# metrics.accuracy_score(actual, vegas)"
   ]
  },
  {
   "cell_type": "markdown",
   "metadata": {},
   "source": [
    "# Update all dfs then "
   ]
  },
  {
   "cell_type": "code",
   "execution_count": 28,
   "metadata": {},
   "outputs": [],
   "source": [
    "# odds2018_df.head()"
   ]
  },
  {
   "cell_type": "code",
   "execution_count": 29,
   "metadata": {},
   "outputs": [],
   "source": [
    "def odds_merge_id(row):\n",
    "#     row['matchup'] = \",\".join(sorted([row['Team'], row['Team_v']]))\n",
    "    row['ID'] = '{},{}'.format(\",\".join(sorted([row['Team'], row['Team_v']])), row['Date'])\n",
    "    return row"
   ]
  },
  {
   "cell_type": "code",
   "execution_count": 30,
   "metadata": {},
   "outputs": [],
   "source": [
    "# odds2018_df = odds2018_df.apply(odds_merge_id, axis=1)"
   ]
  },
  {
   "cell_type": "code",
   "execution_count": 31,
   "metadata": {},
   "outputs": [],
   "source": [
    "# odds2018_df.head()"
   ]
  },
  {
   "cell_type": "code",
   "execution_count": 32,
   "metadata": {},
   "outputs": [],
   "source": [
    "def set_up_odds_data(df_list, season_list=[2018, 2017, 2016, 2015, 2014]):\n",
    "    odds_df = pd.DataFrame()\n",
    "    for df, season in zip(df_list, season_list):\n",
    "        df = impute_data(df)\n",
    "        df = matchups(df, season)\n",
    "        df = df.apply(outcome, axis=1)\n",
    "        df = df.apply(odds_merge_id, axis=1)\n",
    "        odds_df = odds_df.append(df, ignore_index=True)\n",
    "    return odds_df"
   ]
  },
  {
   "cell_type": "code",
   "execution_count": 33,
   "metadata": {},
   "outputs": [],
   "source": [
    "odds_df = set_up_odds_data(odds_dfs)"
   ]
  },
  {
   "cell_type": "code",
   "execution_count": 34,
   "metadata": {},
   "outputs": [
    {
     "data": {
      "text/plain": [
       "2015    3487\n",
       "2016    3482\n",
       "2018    3469\n",
       "2017    3455\n",
       "2014    3369\n",
       "Name: Season, dtype: int64"
      ]
     },
     "execution_count": 34,
     "metadata": {},
     "output_type": "execute_result"
    }
   ],
   "source": [
    "odds_df.Season.value_counts()"
   ]
  },
  {
   "cell_type": "code",
   "execution_count": 35,
   "metadata": {},
   "outputs": [
    {
     "data": {
      "text/html": [
       "<div>\n",
       "<style scoped>\n",
       "    .dataframe tbody tr th:only-of-type {\n",
       "        vertical-align: middle;\n",
       "    }\n",
       "\n",
       "    .dataframe tbody tr th {\n",
       "        vertical-align: top;\n",
       "    }\n",
       "\n",
       "    .dataframe thead th {\n",
       "        text-align: right;\n",
       "    }\n",
       "</style>\n",
       "<table border=\"1\" class=\"dataframe\">\n",
       "  <thead>\n",
       "    <tr style=\"text-align: right;\">\n",
       "      <th></th>\n",
       "      <th>Date</th>\n",
       "      <th>Final</th>\n",
       "      <th>ML</th>\n",
       "      <th>Team</th>\n",
       "      <th>p</th>\n",
       "      <th>VHohe</th>\n",
       "      <th>count</th>\n",
       "      <th>Final_v</th>\n",
       "      <th>ML_v</th>\n",
       "      <th>Team_v</th>\n",
       "      <th>p_v</th>\n",
       "      <th>VHohe_v</th>\n",
       "      <th>Season</th>\n",
       "      <th>vegas</th>\n",
       "      <th>actual_spread</th>\n",
       "      <th>W</th>\n",
       "      <th>spread</th>\n",
       "      <th>month</th>\n",
       "      <th>day</th>\n",
       "    </tr>\n",
       "  </thead>\n",
       "  <tbody>\n",
       "    <tr>\n",
       "      <th>0</th>\n",
       "      <td>2018-11-10</td>\n",
       "      <td>65.0</td>\n",
       "      <td>-330.0</td>\n",
       "      <td>WestVirginia</td>\n",
       "      <td>0.767442</td>\n",
       "      <td>0.0</td>\n",
       "      <td>1</td>\n",
       "      <td>88.0</td>\n",
       "      <td>260.0</td>\n",
       "      <td>TexasA&amp;M</td>\n",
       "      <td>0.277778</td>\n",
       "      <td>1.0</td>\n",
       "      <td>2018</td>\n",
       "      <td>1</td>\n",
       "      <td>-23.0</td>\n",
       "      <td>0</td>\n",
       "      <td>-6</td>\n",
       "      <td>11</td>\n",
       "      <td>10</td>\n",
       "    </tr>\n",
       "    <tr>\n",
       "      <th>1</th>\n",
       "      <td>2018-11-10</td>\n",
       "      <td>97.0</td>\n",
       "      <td>-3750.0</td>\n",
       "      <td>Duke</td>\n",
       "      <td>0.974026</td>\n",
       "      <td>0.0</td>\n",
       "      <td>2</td>\n",
       "      <td>68.0</td>\n",
       "      <td>1875.0</td>\n",
       "      <td>Elon</td>\n",
       "      <td>0.050633</td>\n",
       "      <td>1.0</td>\n",
       "      <td>2018</td>\n",
       "      <td>1</td>\n",
       "      <td>29.0</td>\n",
       "      <td>1</td>\n",
       "      <td>-11</td>\n",
       "      <td>11</td>\n",
       "      <td>10</td>\n",
       "    </tr>\n",
       "    <tr>\n",
       "      <th>2</th>\n",
       "      <td>2018-11-10</td>\n",
       "      <td>63.0</td>\n",
       "      <td>-550.0</td>\n",
       "      <td>Richmond</td>\n",
       "      <td>0.846154</td>\n",
       "      <td>0.0</td>\n",
       "      <td>3</td>\n",
       "      <td>76.0</td>\n",
       "      <td>400.0</td>\n",
       "      <td>Delaware</td>\n",
       "      <td>0.200000</td>\n",
       "      <td>1.0</td>\n",
       "      <td>2018</td>\n",
       "      <td>1</td>\n",
       "      <td>-13.0</td>\n",
       "      <td>0</td>\n",
       "      <td>-8</td>\n",
       "      <td>11</td>\n",
       "      <td>10</td>\n",
       "    </tr>\n",
       "    <tr>\n",
       "      <th>3</th>\n",
       "      <td>2018-11-10</td>\n",
       "      <td>57.0</td>\n",
       "      <td>-250.0</td>\n",
       "      <td>OldDominion</td>\n",
       "      <td>0.714286</td>\n",
       "      <td>0.0</td>\n",
       "      <td>4</td>\n",
       "      <td>54.0</td>\n",
       "      <td>200.0</td>\n",
       "      <td>Towson</td>\n",
       "      <td>0.333333</td>\n",
       "      <td>1.0</td>\n",
       "      <td>2018</td>\n",
       "      <td>1</td>\n",
       "      <td>3.0</td>\n",
       "      <td>1</td>\n",
       "      <td>-4</td>\n",
       "      <td>11</td>\n",
       "      <td>10</td>\n",
       "    </tr>\n",
       "    <tr>\n",
       "      <th>4</th>\n",
       "      <td>2018-11-10</td>\n",
       "      <td>84.0</td>\n",
       "      <td>-950.0</td>\n",
       "      <td>LoyolaChicago</td>\n",
       "      <td>0.904762</td>\n",
       "      <td>0.0</td>\n",
       "      <td>5</td>\n",
       "      <td>80.0</td>\n",
       "      <td>625.0</td>\n",
       "      <td>WrightState</td>\n",
       "      <td>0.137931</td>\n",
       "      <td>1.0</td>\n",
       "      <td>2018</td>\n",
       "      <td>1</td>\n",
       "      <td>4.0</td>\n",
       "      <td>1</td>\n",
       "      <td>-9</td>\n",
       "      <td>11</td>\n",
       "      <td>10</td>\n",
       "    </tr>\n",
       "  </tbody>\n",
       "</table>\n",
       "</div>"
      ],
      "text/plain": [
       "         Date  Final      ML           Team         p  VHohe  count  Final_v  \\\n",
       "0  2018-11-10   65.0  -330.0   WestVirginia  0.767442    0.0      1     88.0   \n",
       "1  2018-11-10   97.0 -3750.0           Duke  0.974026    0.0      2     68.0   \n",
       "2  2018-11-10   63.0  -550.0       Richmond  0.846154    0.0      3     76.0   \n",
       "3  2018-11-10   57.0  -250.0    OldDominion  0.714286    0.0      4     54.0   \n",
       "4  2018-11-10   84.0  -950.0  LoyolaChicago  0.904762    0.0      5     80.0   \n",
       "\n",
       "     ML_v       Team_v       p_v  VHohe_v  Season  vegas  actual_spread  W  \\\n",
       "0   260.0     TexasA&M  0.277778      1.0    2018      1          -23.0  0   \n",
       "1  1875.0         Elon  0.050633      1.0    2018      1           29.0  1   \n",
       "2   400.0     Delaware  0.200000      1.0    2018      1          -13.0  0   \n",
       "3   200.0       Towson  0.333333      1.0    2018      1            3.0  1   \n",
       "4   625.0  WrightState  0.137931      1.0    2018      1            4.0  1   \n",
       "\n",
       "   spread  month  day  \n",
       "0      -6     11   10  \n",
       "1     -11     11   10  \n",
       "2      -8     11   10  \n",
       "3      -4     11   10  \n",
       "4      -9     11   10  "
      ]
     },
     "execution_count": 35,
     "metadata": {},
     "output_type": "execute_result"
    }
   ],
   "source": [
    "odds_df.head()"
   ]
  },
  {
   "cell_type": "code",
   "execution_count": 37,
   "metadata": {},
   "outputs": [],
   "source": [
    "odds_df = odds_df.apply(odds_merge_id, axis=1)"
   ]
  },
  {
   "cell_type": "code",
   "execution_count": 1,
   "metadata": {},
   "outputs": [
    {
     "ename": "NameError",
     "evalue": "name 'odds_df' is not defined",
     "output_type": "error",
     "traceback": [
      "\u001b[0;31m---------------------------------------------------------------------------\u001b[0m",
      "\u001b[0;31mNameError\u001b[0m                                 Traceback (most recent call last)",
      "\u001b[0;32m<ipython-input-1-2d6eaa3ae729>\u001b[0m in \u001b[0;36m<module>\u001b[0;34m()\u001b[0m\n\u001b[0;32m----> 1\u001b[0;31m \u001b[0modds_df\u001b[0m\u001b[0;34m.\u001b[0m\u001b[0mID\u001b[0m\u001b[0;34m.\u001b[0m\u001b[0mhead\u001b[0m\u001b[0;34m(\u001b[0m\u001b[0;34m)\u001b[0m\u001b[0;34m\u001b[0m\u001b[0m\n\u001b[0m",
      "\u001b[0;31mNameError\u001b[0m: name 'odds_df' is not defined"
     ]
    }
   ],
   "source": [
    "odds_df.ID.head()"
   ]
  },
  {
   "cell_type": "code",
   "execution_count": null,
   "metadata": {},
   "outputs": [],
   "source": []
  }
 ],
 "metadata": {
  "kernelspec": {
   "display_name": "Python 3",
   "language": "python",
   "name": "python3"
  },
  "language_info": {
   "codemirror_mode": {
    "name": "ipython",
    "version": 3
   },
   "file_extension": ".py",
   "mimetype": "text/x-python",
   "name": "python",
   "nbconvert_exporter": "python",
   "pygments_lexer": "ipython3",
   "version": "3.6.5"
  }
 },
 "nbformat": 4,
 "nbformat_minor": 2
}
