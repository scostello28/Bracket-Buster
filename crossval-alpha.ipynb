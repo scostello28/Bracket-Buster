{
 "cells": [
  {
   "cell_type": "code",
   "execution_count": 34,
   "metadata": {
    "collapsed": true
   },
   "outputs": [],
   "source": [
    "import pickle\n",
    "import pandas as pd\n",
    "import numpy as np\n",
    "from pandas.plotting import scatter_matrix\n",
    "\n",
    "from sklearn.linear_model import LogisticRegression\n",
    "from sklearn.linear_model import Lasso\n",
    "from sklearn.linear_model import Ridge\n",
    "from sklearn.linear_model import ElasticNet\n",
    "from sklearn.pipeline import Pipeline\n",
    "from sklearn.utils import resample\n",
    "from sklearn.model_selection import KFold\n",
    "from sklearn.model_selection import train_test_split\n",
    "from sklearn.model_selection import cross_val_score\n",
    "from sklearn.model_selection import cross_validate\n",
    "from sklearn import metrics\n",
    "from sklearn.preprocessing import StandardScaler\n",
    "from sklearn.model_selection import cross_validate\n",
    "\n",
    "import matplotlib.pyplot as plt\n",
    "plt.style.use('ggplot')\n",
    "%matplotlib inline"
   ]
  },
  {
   "cell_type": "code",
   "execution_count": 55,
   "metadata": {
    "collapsed": true
   },
   "outputs": [],
   "source": [
    "games = pd.read_pickle('game_data/games_four_years.pkl')\n",
    "g2018 = pd.read_pickle('game_data/games_2018.pkl')"
   ]
  },
  {
   "cell_type": "code",
   "execution_count": 57,
   "metadata": {},
   "outputs": [],
   "source": [
    "# g2018.info()"
   ]
  },
  {
   "cell_type": "code",
   "execution_count": 4,
   "metadata": {},
   "outputs": [],
   "source": [
    "'''Shuffle DataFrame'''\n",
    "games = games.sample(frac=1).reset_index(drop=True)"
   ]
  },
  {
   "cell_type": "code",
   "execution_count": 5,
   "metadata": {
    "collapsed": true
   },
   "outputs": [],
   "source": [
    "Xy = games[['W', 'Wp', 'ppg', 'pApg', 'FGp', '3Pp', 'FTp', 'ORBpg', 'RBpg', \n",
    "            'ASTpg', 'STLpg', 'BLKpg', 'TOpg', 'PFpg', 'sos', 'OPppg', \n",
    "            'OPpApg', 'OPFGp', 'OP3Pp', 'OPFTp', 'OPORBpg', 'OPRBpg', \n",
    "            'OPASTpg', 'OPSTLpg', 'OPBLKpg', 'OPTOpg', 'OPPFpg', 'OPsos']]"
   ]
  },
  {
   "cell_type": "code",
   "execution_count": 6,
   "metadata": {
    "collapsed": true
   },
   "outputs": [],
   "source": [
    "# Set up features and targets\n",
    "X = Xy.iloc[:, 1:]\n",
    "y = Xy.iloc[:, 0]"
   ]
  },
  {
   "cell_type": "code",
   "execution_count": 7,
   "metadata": {
    "collapsed": true
   },
   "outputs": [],
   "source": [
    "'''Train test split'''\n",
    "X_train, X_test, y_train, y_test = train_test_split(X, y, test_size=0.25)"
   ]
  },
  {
   "cell_type": "code",
   "execution_count": 8,
   "metadata": {
    "collapsed": true
   },
   "outputs": [],
   "source": [
    "'''Standardize Data'''\n",
    "scale = StandardScaler()\n",
    "scale.fit(X_train)\n",
    "X_train = scale.transform(X_train)\n",
    "X_test = scale.transform(X_test)"
   ]
  },
  {
   "cell_type": "code",
   "execution_count": 9,
   "metadata": {},
   "outputs": [],
   "source": [
    "'''Fit model on training data'''\n",
    "lg = LogisticRegression()\n",
    "lg.fit(X_train, y_train)\n",
    "lg_predict = lg.predict(X_test)"
   ]
  },
  {
   "cell_type": "code",
   "execution_count": 59,
   "metadata": {
    "scrolled": true
   },
   "outputs": [
    {
     "name": "stdout",
     "output_type": "stream",
     "text": [
      "Accuracy: 0.79 (% predicted correctly)\n",
      "Precision: 0.78 (predicted positives % correct)\n",
      "Recall: 0.79 (% of positives predicted correctly)\n",
      "f1 Score: 0.79 (weighted average of Precision and Recall)\n"
     ]
    }
   ],
   "source": [
    "lg_accuracy = metrics.accuracy_score(y_test, lg_predict)\n",
    "lg_precision = metrics.precision_score(y_test, lg_predict)\n",
    "lg_recall = metrics.recall_score(y_test, lg_predict)\n",
    "lg_f1 = metrics.f1_score(y_test, lg_predict)\n",
    "print('Accuracy: {:.2f} (% predicted correctly)'.format(lg_accuracy))\n",
    "print('Precision: {:.2f} (predicted positives % correct)'.format(lg_precision))\n",
    "print('Recall: {:.2f} (% of positives predicted correctly)'.format(lg_recall))\n",
    "print('f1 Score: {:.2f} (weighted average of Precision and Recall)'.format(lg_f1))"
   ]
  },
  {
   "cell_type": "code",
   "execution_count": 33,
   "metadata": {},
   "outputs": [
    {
     "data": {
      "text/plain": [
       "3664"
      ]
     },
     "execution_count": 33,
     "metadata": {},
     "output_type": "execute_result"
    }
   ],
   "source": [
    "np.isnan(y_train)[np.isnan(y_train) == False].size"
   ]
  },
  {
   "cell_type": "code",
   "execution_count": 25,
   "metadata": {
    "collapsed": true
   },
   "outputs": [],
   "source": [
    "def cross_val_logistic(X, y, model, n_folds=5, random_seed=154):\n",
    "    \"\"\"Estimate the in- and out-of-sample error of a model using cross\n",
    "    validation.\n",
    " \n",
    "    Parameters\n",
    "    ----------\n",
    " \n",
    "    X: np.array\n",
    "      Matrix of predictors, standardized\n",
    " \n",
    "    y: np.array\n",
    "      Target array, standardized\n",
    " \n",
    "    model: sklearn model object.\n",
    "      The estimator to fit.  Must have fit and predict methods.\n",
    " \n",
    "    n_folds: int\n",
    "      The number of folds in the cross validation.\n",
    " \n",
    "    random_seed: int\n",
    "      A seed for the random number generator, for repeatability.\n",
    " \n",
    "    Returns\n",
    "    -------\n",
    "    mean accuracy across folds\n",
    "    \"\"\"\n",
    "    kf = KFold(n_folds)\n",
    "    accuracy_list = []\n",
    "    cfs = []\n",
    "    for train_index,test_index in kf.split(X):\n",
    "        # define variables\n",
    "        X_train = X[train_index]\n",
    "        y_train = y[train_index]\n",
    "        X_test = X[test_index]\n",
    "        y_test = y[test_index]\n",
    "        print(y_test)\n",
    "        # fit model\n",
    "#         model.fit(X_train, y_train)\n",
    "#         y_hat_train = model.predict(X_train)\n",
    "#         y_hat_test = model.predict(X_test) \n",
    "#         # evaluate model\n",
    "#         accuracy_test = metrics.accuracy_score(y_test, y_hat_test)\n",
    "#         errorlist.append(accuracy_test)\n",
    "#         # store coefficients\n",
    "#         cfs.append (model.coef_)\n",
    "#     # select best coefficients \n",
    "#     accuracies = np.asarray(accuracy_list)\n",
    "#     idx_max_test_accuracy = accuracies.argmax()   \n",
    "#     cfs_best = cfs[idx_min_test_accuracy]\n",
    "    \n",
    "#     return(errors)"
   ]
  },
  {
   "cell_type": "code",
   "execution_count": 53,
   "metadata": {},
   "outputs": [
    {
     "name": "stdout",
     "output_type": "stream",
     "text": [
      "0.786570862186\n"
     ]
    }
   ],
   "source": [
    "logcv = LogisticRegression()\n",
    "ridgecv = Ridge(alpha=.5)\n",
    "lassocv = Lasso(alpha=.5)\n",
    "enetcv = ElasticNet(alpha=.5)\n",
    "log_cv_acc = cross_validate(logcv, X_train, y_train, scoring='accuracy', cv=5, return_train_score=False)\n",
    "# ridge_cv_acc = cross_validate(ridgecv, X_train, y_train, scoring='accuracy', cv=5, return_train_score=False)\n",
    "# lasso_cv_acc = cross_validate(lassocv, X_train, y_train, scoring='accuracy', cv=5, return_train_score=False)\n",
    "# enet_cv_acc = cross_validate(enetcv, X_train, y_train, scoring='accuracy', cv=5, return_train_score=False)\n",
    "print(log_cv_acc['test_score'].mean())\n",
    "# print(ridge_cv_acc['test_score'].mean())"
   ]
  },
  {
   "cell_type": "code",
   "execution_count": null,
   "metadata": {},
   "outputs": [],
   "source": [
    "model = Ridge(alpha=.5)\n",
    "X = X_train\n",
    "y = y_train\n",
    "cv_accuracy = cross_val_logistic(X, y, model)"
   ]
  },
  {
   "cell_type": "code",
   "execution_count": null,
   "metadata": {
    "collapsed": true
   },
   "outputs": [],
   "source": []
  }
 ],
 "metadata": {
  "kernelspec": {
   "display_name": "Python 3",
   "language": "python",
   "name": "python3"
  },
  "language_info": {
   "codemirror_mode": {
    "name": "ipython",
    "version": 3
   },
   "file_extension": ".py",
   "mimetype": "text/x-python",
   "name": "python",
   "nbconvert_exporter": "python",
   "pygments_lexer": "ipython3",
   "version": "3.6.2"
  }
 },
 "nbformat": 4,
 "nbformat_minor": 2
}
